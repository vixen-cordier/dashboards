{
 "cells": [
  {
   "cell_type": "code",
   "execution_count": null,
   "metadata": {},
   "outputs": [],
   "source": [
    "%load_ext autoreload\n",
    "%autoreload 2\n",
    "\n",
    "from trading import api\n",
    "\n",
    "trades_unit = api.fetch_data()\n",
    "trades_date = api.convert_to_time(trades_unit)\n",
    "trades_unit = api.compute_stats(trades_unit)\n",
    "trades_date = api.compute_stats(trades_date.reset_index(), all_stats=False).set_index(('Date', '.'))\n",
    "\n",
    "# print(trades_unit.columns)\n",
    "# print(trades_unit.head())\n",
    "# print(trades_date.columns)\n",
    "# print(trades_date.head())"
   ]
  },
  {
   "cell_type": "code",
   "execution_count": null,
   "metadata": {},
   "outputs": [],
   "source": [
    "import plotly.graph_objects as go\n",
    "trades = trades_unit.copy()\n",
    "periods = ['Globally', 'Yearly', 'Monthly', 'Weekly']\n",
    "\n",
    "fig = go.Figure(go.Bar(x=trades.index.to_list(), y=trades[('Gain', 'Globally')].to_list(), name='Trades'))\n",
    "\n",
    "for col in trades['Balance'].columns.get_level_values(0):\n",
    "    for period in periods:\n",
    "        if period in col:\n",
    "            fig.add_trace(go.Scatter(x=trades.index.to_list(), y=trades[('Balance', col)].to_list(), name='Balance '+col.replace('_', ' ')))\n",
    "\n",
    "fig.show()"
   ]
  },
  {
   "cell_type": "code",
   "execution_count": null,
   "metadata": {},
   "outputs": [],
   "source": [
    "import pandas as pd\n",
    "import numpy as np\n",
    "trades = trades_unit.copy().ffill()\n",
    "PERIOD = ['Globally', 'Yearly', 'Monthly', 'Weekly']\n",
    "\n",
    "stats = pd.DataFrame()\n",
    "for metric, period in trades.columns:\n",
    "    for p in ['Globally', 'Yearly', 'Monthly', 'Weekly']:\n",
    "        if p in period and metric in ['Count', 'Balance', 'CountTP', 'RateTP', 'PayoffTP', 'CountBE', 'RateBE', 'PayoffBE', 'CountSL', 'RateSL', 'PayoffSL']:\n",
    "            stats.loc[period, metric] = trades[(metric, period)].iloc[-1]\n",
    "stats['WinRate'] = stats['RateTP']\n",
    "stats['PayoffRatio'] = stats['PayoffTP'] / -stats['PayoffSL']\n",
    "stats"
   ]
  },
  {
   "cell_type": "code",
   "execution_count": null,
   "metadata": {},
   "outputs": [],
   "source": [
    "gain = [col for col in trades.columns if 'Gain' in col] \n",
    "balance = [col for col in trades.columns if 'Balance' in col] \n",
    "trades_date = pd.concat([\n",
    "    pd.DataFrame({'Date': pd.date_range(start=trades['Date'].min(), end=trades['Date'].max())}).set_index('Date'),\n",
    "    trades.set_index('Date').groupby('Date')[gain].sum(),\n",
    "    trades.set_index('Date').groupby('Date')[balance].last(),\n",
    "], axis=1)\n",
    "trades_date[[col for col in trades.columns if 'Balance_' in col]].head(50)"
   ]
  }
 ],
 "metadata": {
  "kernelspec": {
   "display_name": ".env",
   "language": "python",
   "name": "python3"
  },
  "language_info": {
   "name": "python",
   "version": "3.10.9"
  },
  "orig_nbformat": 4,
  "vscode": {
   "interpreter": {
    "hash": "e0e94819156be55a28bfd803e01ad2b3b7815826841d5d8114b63fb17f9e909b"
   }
  }
 },
 "nbformat": 4,
 "nbformat_minor": 2
}
