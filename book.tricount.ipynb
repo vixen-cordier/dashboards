{
 "cells": [
  {
   "cell_type": "code",
   "execution_count": 71,
   "metadata": {},
   "outputs": [
    {
     "name": "stdout",
     "output_type": "stream",
     "text": [
      "The autoreload extension is already loaded. To reload it, use:\n",
      "  %reload_ext autoreload\n",
      "\n",
      "    # --------------------------------- #\n",
      "    # Connection to Google Sheet        #\n",
      "    # and extract Spreadsheets          #\n",
      "    #  - exported tricount data         #\n",
      "    #  - category dictonnary            #\n",
      "    # --------------------------------- #\n",
      "    \n",
      " -- data fetched\n",
      "(1247, 14)\n",
      "Index(['Titre', 'Montant', 'Devise', 'Taux de change',\n",
      "       'Montant dans la devise du tricount (EUR)', 'Type de transaction',\n",
      "       'Catégorie', 'Payé par', 'Payé par Lucie', 'Payé par Vincent',\n",
      "       'Impacté à Lucie', 'Impacté à Vincent', 'Date & heure',\n",
      "       'URL des images'],\n",
      "      dtype='object')\n",
      " -- dict fetched \n",
      "{'Alimentation': 'Quotidien', 'Shopping': 'Achats', 'Logement': 'Achats', 'Loyer & charges': 'Quotidien', 'Divertissement': 'Extra', 'Sport': 'Loisir', 'Restaurant & bar': 'Extra', 'Investissement': 'Investissement', 'Transport': 'Quotidien', 'Week-end': 'Loisir', 'Soin de santé': 'Quotidien', 'Livres': 'Achats', 'Activités': 'Loisir', 'Boulangerie': 'Quotidien', 'Salaire': \"Rentrée d'argent\", 'Services': 'Quotidien', 'Alcool': 'Extra', 'Cadeau': 'Achats', 'Vacances': 'Loisir', 'Formation': 'Formation', 'Espèce': \"Rentrée d'argent\", 'Chien': 'Quotidien'}\n"
     ]
    }
   ],
   "source": [
    "%load_ext autoreload\n",
    "%autoreload 2\n",
    "\n",
    "from tricount import api\n",
    "\n",
    "data, dict = api.fetch_data()\n",
    "data = api.build_data(data)\n",
    "detail = api.split_data(data, dict)\n",
    "# postes, result = api.concat_data(detail, dict)\n"
   ]
  },
  {
   "cell_type": "code",
   "execution_count": 83,
   "metadata": {},
   "outputs": [
    {
     "ename": "ValueError",
     "evalue": "too many values to unpack (expected 2)",
     "output_type": "error",
     "traceback": [
      "\u001b[0;31m---------------------------------------------------------------------------\u001b[0m",
      "\u001b[0;31mValueError\u001b[0m                                Traceback (most recent call last)",
      "Cell \u001b[0;32mIn[83], line 1\u001b[0m\n\u001b[0;32m----> 1\u001b[0m \u001b[39mfor\u001b[39;00m key, val \u001b[39min\u001b[39;00m \u001b[39mdict\u001b[39m:\n\u001b[1;32m      2\u001b[0m     \u001b[39mprint\u001b[39m(key, val)\n",
      "\u001b[0;31mValueError\u001b[0m: too many values to unpack (expected 2)"
     ]
    }
   ],
   "source": [
    "import pandas as pd\n"
   ]
  },
  {
   "cell_type": "code",
   "execution_count": 87,
   "metadata": {},
   "outputs": [
    {
     "name": "stdout",
     "output_type": "stream",
     "text": [
      "\n",
      "    # --------------------------------- #\n",
      "    # Format and split data             #\n",
      "    # by date and categories            #\n",
      "    # --------------------------------- #\n",
      "    \n",
      "                                             Lucie Vincent   Total\n",
      "Année Mois Poste          Catégorie                               \n",
      "2021  6    Achats         Livres               0.0  -51.85  -51.85\n",
      "                          Logement         -115.23  -36.23 -151.46\n",
      "                          Shopping          -98.99   -10.0 -108.99\n",
      "           Extra          Divertissement    -21.98     0.0  -21.98\n",
      "                          Restaurant & bar   -92.0  -92.12 -184.12\n",
      "...                                            ...     ...     ...\n",
      "2023  5    Extra          Restaurant & bar    -7.8    -7.8   -15.6\n",
      "           Investissement Investissement     -30.0     0.0   -30.0\n",
      "           Quotidien      Alimentation      -99.71  -89.21 -188.92\n",
      "                          Chien             -51.24  -51.24 -102.48\n",
      "                          Loyer & charges   -448.7 -386.69 -835.39\n",
      "\n",
      "[343 rows x 3 columns]\n",
      "2023 (sum)\n",
      "Formation Formation\n",
      "Achats Livres\n",
      "2023 (mean)\n",
      "Formation Formation\n",
      "Achats Livres\n",
      "2023 May\n",
      "Loisir Week-end\n",
      "Formation Formation\n",
      "Loisir Activités\n",
      "Loisir Sport\n",
      "Quotidien Soin de santé\n",
      "Rentrée d'argent Salaire\n",
      "Achats Livres\n",
      "Loisir Vacances\n",
      "Quotidien Services\n",
      "Rentrée d'argent Espèce\n",
      "Extra Alcool\n",
      "Achats Logement\n",
      "Quotidien Transport\n",
      "Achats Cadeau\n",
      "Quotidien Boulangerie\n",
      "2023 April\n",
      "Formation Formation\n",
      "Loisir Activités\n",
      "Quotidien Soin de santé\n",
      "Achats Livres\n",
      "Rentrée d'argent Espèce\n",
      "Extra Alcool\n",
      "2023 March\n",
      "Loisir Week-end\n",
      "Formation Formation\n",
      "Loisir Activités\n",
      "Achats Livres\n",
      "Extra Restaurant & bar\n",
      "Rentrée d'argent Espèce\n",
      "Extra Alcool\n",
      "Achats Cadeau\n",
      "Quotidien Boulangerie\n",
      "2023 February\n",
      "Formation Formation\n",
      "Loisir Activités\n",
      "Quotidien Chien\n",
      "Achats Livres\n",
      "Loisir Vacances\n",
      "Rentrée d'argent Espèce\n",
      "Extra Alcool\n",
      "2023 January\n",
      "Formation Formation\n",
      "Quotidien Chien\n",
      "Quotidien Soin de santé\n",
      "Achats Livres\n",
      "Loisir Vacances\n",
      "2022 (sum)\n",
      "Quotidien Chien\n",
      "Rentrée d'argent Espèce\n",
      "2022 (mean)\n",
      "Quotidien Chien\n",
      "Rentrée d'argent Espèce\n",
      "2022 December\n",
      "Formation Formation\n",
      "Quotidien Chien\n",
      "Quotidien Soin de santé\n",
      "Achats Livres\n",
      "Loisir Vacances\n",
      "Rentrée d'argent Espèce\n",
      "Extra Alcool\n",
      "2022 November\n",
      "Formation Formation\n",
      "Loisir Activités\n",
      "Quotidien Chien\n",
      "Achats Livres\n",
      "Loisir Vacances\n",
      "Quotidien Services\n",
      "Rentrée d'argent Espèce\n",
      "Extra Alcool\n",
      "2022 October\n",
      "Loisir Week-end\n",
      "Formation Formation\n",
      "Loisir Activités\n",
      "Quotidien Chien\n",
      "Quotidien Soin de santé\n",
      "Achats Livres\n",
      "Rentrée d'argent Espèce\n",
      "Extra Alcool\n",
      "Quotidien Transport\n",
      "Achats Cadeau\n",
      "2022 September\n",
      "Loisir Week-end\n",
      "Formation Formation\n",
      "Loisir Activités\n",
      "Quotidien Chien\n",
      "Achats Livres\n",
      "Rentrée d'argent Espèce\n",
      "Extra Alcool\n",
      "Achats Logement\n",
      "Achats Cadeau\n",
      "Quotidien Boulangerie\n",
      "2022 August\n",
      "Formation Formation\n",
      "Loisir Activités\n",
      "Quotidien Chien\n",
      "Achats Livres\n",
      "Rentrée d'argent Espèce\n",
      "Extra Alcool\n",
      "Achats Logement\n",
      "Quotidien Boulangerie\n",
      "2022 July\n",
      "Formation Formation\n",
      "Loisir Activités\n",
      "Quotidien Chien\n",
      "Achats Livres\n",
      "Rentrée d'argent Espèce\n",
      "Achats Logement\n",
      "Quotidien Boulangerie\n",
      "2022 June\n",
      "Formation Formation\n",
      "Loisir Activités\n",
      "Quotidien Chien\n",
      "Loisir Vacances\n",
      "Rentrée d'argent Espèce\n",
      "Extra Alcool\n",
      "2022 May\n",
      "Quotidien Chien\n",
      "Loisir Vacances\n",
      "Rentrée d'argent Espèce\n",
      "Achats Logement\n",
      "2022 April\n",
      "Formation Formation\n",
      "Loisir Activités\n",
      "Quotidien Chien\n",
      "Achats Livres\n",
      "Rentrée d'argent Espèce\n",
      "Quotidien Boulangerie\n",
      "2022 March\n",
      "Formation Formation\n",
      "Loisir Activités\n",
      "Quotidien Chien\n",
      "Achats Livres\n",
      "Rentrée d'argent Espèce\n",
      "Extra Alcool\n",
      "2022 February\n",
      "Formation Formation\n",
      "Loisir Activités\n",
      "Quotidien Chien\n",
      "Quotidien Soin de santé\n",
      "Quotidien Services\n",
      "Rentrée d'argent Espèce\n",
      "Extra Alcool\n",
      "Achats Logement\n",
      "Quotidien Boulangerie\n",
      "2022 January\n",
      "Loisir Week-end\n",
      "Loisir Activités\n",
      "Quotidien Chien\n",
      "Loisir Vacances\n",
      "Rentrée d'argent Espèce\n",
      "Extra Alcool\n",
      "Achats Logement\n",
      "2021 (sum)\n",
      "Formation Formation\n",
      "Quotidien Chien\n",
      "Rentrée d'argent Espèce\n",
      "2021 (mean)\n",
      "Formation Formation\n",
      "Quotidien Chien\n",
      "Rentrée d'argent Espèce\n",
      "2021 December\n",
      "Formation Formation\n",
      "Quotidien Chien\n",
      "Achats Livres\n",
      "Rentrée d'argent Espèce\n",
      "Extra Alcool\n",
      "Quotidien Boulangerie\n",
      "2021 November\n",
      "Formation Formation\n",
      "Loisir Activités\n",
      "Quotidien Chien\n",
      "Achats Livres\n",
      "Loisir Vacances\n",
      "Quotidien Services\n",
      "Rentrée d'argent Espèce\n",
      "Achats Logement\n",
      "Achats Cadeau\n",
      "Quotidien Boulangerie\n",
      "2021 October\n",
      "Formation Formation\n",
      "Loisir Activités\n",
      "Quotidien Chien\n",
      "Loisir Vacances\n",
      "Rentrée d'argent Espèce\n",
      "Achats Cadeau\n",
      "Quotidien Boulangerie\n",
      "2021 September\n",
      "Formation Formation\n",
      "Loisir Activités\n",
      "Quotidien Chien\n",
      "Quotidien Soin de santé\n",
      "Loisir Vacances\n",
      "Rentrée d'argent Espèce\n",
      "Extra Alcool\n",
      "Achats Cadeau\n",
      "2021 August\n",
      "Formation Formation\n",
      "Loisir Activités\n",
      "Quotidien Chien\n",
      "Achats Livres\n",
      "Loisir Vacances\n",
      "Rentrée d'argent Espèce\n",
      "Quotidien Boulangerie\n",
      "2021 July\n",
      "Formation Formation\n",
      "Quotidien Chien\n",
      "Quotidien Soin de santé\n",
      "Achats Livres\n",
      "Loisir Vacances\n",
      "Rentrée d'argent Espèce\n",
      "Extra Alcool\n",
      "Achats Cadeau\n",
      "2021 June\n",
      "Formation Formation\n",
      "Loisir Activités\n",
      "Quotidien Chien\n",
      "Loisir Vacances\n",
      "Quotidien Services\n",
      "Rentrée d'argent Espèce\n",
      "Extra Alcool\n",
      "Achats Cadeau\n",
      "Quotidien Boulangerie\n",
      " -- detail build\n",
      "(22, 3)\n",
      "Index(['Lucie', 'Vincent', 'Total'], dtype='object')\n",
      "MultiIndex([(          'Achats',           'Livres'),\n",
      "            (          'Achats',         'Logement'),\n",
      "            (          'Achats',         'Shopping'),\n",
      "            (           'Extra',   'Divertissement'),\n",
      "            (           'Extra', 'Restaurant & bar'),\n",
      "            (  'Investissement',   'Investissement'),\n",
      "            (          'Loisir',            'Sport'),\n",
      "            (          'Loisir',         'Week-end'),\n",
      "            (       'Quotidien',     'Alimentation'),\n",
      "            (       'Quotidien',  'Loyer & charges'),\n",
      "            (       'Quotidien',    'Soin de santé'),\n",
      "            (       'Quotidien',        'Transport'),\n",
      "            ('Rentrée d'argent',          'Salaire'),\n",
      "            (       'Formation',        'Formation'),\n",
      "            (          'Loisir',        'Activités'),\n",
      "            (       'Quotidien',            'Chien'),\n",
      "            (          'Loisir',         'Vacances'),\n",
      "            (       'Quotidien',         'Services'),\n",
      "            ('Rentrée d'argent',           'Espèce'),\n",
      "            (           'Extra',           'Alcool'),\n",
      "            (          'Achats',           'Cadeau'),\n",
      "            (       'Quotidien',      'Boulangerie')],\n",
      "           names=['Poste', 'Catégorie'])\n",
      "                                     Lucie  Vincent    Total\n",
      "Poste            Catégorie                                  \n",
      "Achats           Livres                0.0   -51.85   -51.85\n",
      "                 Logement          -115.23   -36.23  -151.46\n",
      "                 Shopping           -98.99    -10.0  -108.99\n",
      "Extra            Divertissement     -21.98      0.0   -21.98\n",
      "                 Restaurant & bar    -92.0   -92.12  -184.12\n",
      "Investissement   Investissement      -30.0   -500.0   -530.0\n",
      "Loisir           Sport              -119.0      0.0   -119.0\n",
      "                 Week-end          -117.26  -419.66  -536.92\n",
      "Quotidien        Alimentation      -192.87   -249.1  -441.97\n",
      "                 Loyer & charges   -412.48  -415.01  -827.49\n",
      "                 Soin de santé      -29.33   -10.75   -40.08\n",
      "                 Transport           -22.5    -39.0    -61.5\n",
      "Rentrée d'argent Salaire           3039.89  2052.72  5092.61\n",
      "Formation        Formation            <NA>     <NA>     <NA>\n",
      "Loisir           Activités            <NA>     <NA>     <NA>\n",
      "Quotidien        Chien                <NA>     <NA>     <NA>\n",
      "Loisir           Vacances             <NA>     <NA>     <NA>\n",
      "Quotidien        Services             <NA>     <NA>     <NA>\n",
      "Rentrée d'argent Espèce               <NA>     <NA>     <NA>\n",
      "Extra            Alcool               <NA>     <NA>     <NA>\n",
      "Achats           Cadeau               <NA>     <NA>     <NA>\n",
      "Quotidien        Boulangerie          <NA>     <NA>     <NA>\n"
     ]
    }
   ],
   "source": [
    "from typing import Dict\n",
    "import warnings\n",
    "import pandas as pd\n",
    "import calendar as cd\n",
    "warnings.simplefilter(action='ignore', category=pd.core.common.SettingWithCopyWarning)\n",
    "\n",
    "def split_data(data: pd.DataFrame, dict: Dict):\n",
    "    print(\"\"\"\n",
    "    # --------------------------------- #\n",
    "    # Format and split data             #\n",
    "    # by date and categories            #\n",
    "    # --------------------------------- #\n",
    "    \"\"\")\n",
    "    print(data)\n",
    "    detail: Dict[str, pd.DataFrame] = {}\n",
    "    years = data.index.get_level_values('Année').unique().to_list()\n",
    "    for year in sorted(years, reverse=True):\n",
    "        df = data.loc[year,:,:]\n",
    "        months = df.index.get_level_values('Mois').unique().tolist()\n",
    "        detail[f'{year} (sum)'] = df.groupby(['Poste', 'Catégorie']).sum()\n",
    "        detail[f'{year} (mean)'] = detail[f'{year} (sum)'] / len(months)\n",
    "\n",
    "        for month in sorted(months, reverse=True):\n",
    "            period = f'{year} {cd.month_name[month]}'\n",
    "            detail[period] = df.loc[month,:].groupby(['Poste', 'Catégorie']).sum()\n",
    "\n",
    "    for period in detail.keys():\n",
    "        for category in set(dict.keys()):\n",
    "            if (dict[category], category) not in detail[period].index:\n",
    "                detail[period].loc[(dict[category], category), :] = [pd.NA, pd.NA, pd.NA]\n",
    "\n",
    "    # for period in detail.keys():\n",
    "    #     detail[period] = detail[period].sort_index()\n",
    "\n",
    "    print(\" -- detail build\")\n",
    "    print(detail[period].shape)\n",
    "    print(detail[period].columns)\n",
    "    print(detail[period].index)\n",
    "    print(detail[period])\n",
    "\n",
    "    return detail\n",
    "\n",
    "detail = split_data(data, dict)\n"
   ]
  },
  {
   "cell_type": "code",
   "execution_count": 4,
   "metadata": {},
   "outputs": [
    {
     "data": {
      "application/vnd.plotly.v1+json": {
       "config": {
        "plotlyServerURL": "https://plot.ly"
       },
       "data": [
        {
         "name": "Revenus",
         "type": "scatter",
         "x": [
          "2022 (mean)",
          "2023 January",
          "2023 February",
          "2023 March",
          "2023 April"
         ],
         "y": [
          2741.6433333333334,
          5497.63,
          2860.46,
          3786.29,
          2524.45
         ]
        },
        {
         "name": "Dépenses",
         "type": "scatter",
         "x": [
          "2022 (mean)",
          "2023 January",
          "2023 February",
          "2023 March",
          "2023 April"
         ],
         "y": [
          1874.899166666667,
          732.8399999999999,
          1640.5100000000002,
          2206.4700000000003,
          1727.71
         ]
        },
        {
         "name": "Reste à vivre",
         "type": "scatter",
         "x": [
          "2022 (mean)",
          "2023 January",
          "2023 February",
          "2023 March",
          "2023 April"
         ],
         "y": [
          866.7441666666664,
          4764.79,
          1219.9499999999998,
          1579.8199999999997,
          796.7399999999998
         ]
        },
        {
         "name": "Capital investi",
         "type": "scatter",
         "x": [
          "2022 (mean)",
          "2023 January",
          "2023 February",
          "2023 March",
          "2023 April"
         ],
         "y": [
          620.8333333333333,
          0,
          0,
          0,
          0
         ]
        },
        {
         "name": "Epargne",
         "type": "scatter",
         "x": [
          "2022 (mean)",
          "2023 January",
          "2023 February",
          "2023 March",
          "2023 April"
         ],
         "y": [
          245.91083333333313,
          4764.79,
          1219.9499999999998,
          1579.8199999999997,
          796.7399999999998
         ]
        }
       ],
       "layout": {
        "template": {
         "data": {
          "bar": [
           {
            "error_x": {
             "color": "#2a3f5f"
            },
            "error_y": {
             "color": "#2a3f5f"
            },
            "marker": {
             "line": {
              "color": "#E5ECF6",
              "width": 0.5
             },
             "pattern": {
              "fillmode": "overlay",
              "size": 10,
              "solidity": 0.2
             }
            },
            "type": "bar"
           }
          ],
          "barpolar": [
           {
            "marker": {
             "line": {
              "color": "#E5ECF6",
              "width": 0.5
             },
             "pattern": {
              "fillmode": "overlay",
              "size": 10,
              "solidity": 0.2
             }
            },
            "type": "barpolar"
           }
          ],
          "carpet": [
           {
            "aaxis": {
             "endlinecolor": "#2a3f5f",
             "gridcolor": "white",
             "linecolor": "white",
             "minorgridcolor": "white",
             "startlinecolor": "#2a3f5f"
            },
            "baxis": {
             "endlinecolor": "#2a3f5f",
             "gridcolor": "white",
             "linecolor": "white",
             "minorgridcolor": "white",
             "startlinecolor": "#2a3f5f"
            },
            "type": "carpet"
           }
          ],
          "choropleth": [
           {
            "colorbar": {
             "outlinewidth": 0,
             "ticks": ""
            },
            "type": "choropleth"
           }
          ],
          "contour": [
           {
            "colorbar": {
             "outlinewidth": 0,
             "ticks": ""
            },
            "colorscale": [
             [
              0,
              "#0d0887"
             ],
             [
              0.1111111111111111,
              "#46039f"
             ],
             [
              0.2222222222222222,
              "#7201a8"
             ],
             [
              0.3333333333333333,
              "#9c179e"
             ],
             [
              0.4444444444444444,
              "#bd3786"
             ],
             [
              0.5555555555555556,
              "#d8576b"
             ],
             [
              0.6666666666666666,
              "#ed7953"
             ],
             [
              0.7777777777777778,
              "#fb9f3a"
             ],
             [
              0.8888888888888888,
              "#fdca26"
             ],
             [
              1,
              "#f0f921"
             ]
            ],
            "type": "contour"
           }
          ],
          "contourcarpet": [
           {
            "colorbar": {
             "outlinewidth": 0,
             "ticks": ""
            },
            "type": "contourcarpet"
           }
          ],
          "heatmap": [
           {
            "colorbar": {
             "outlinewidth": 0,
             "ticks": ""
            },
            "colorscale": [
             [
              0,
              "#0d0887"
             ],
             [
              0.1111111111111111,
              "#46039f"
             ],
             [
              0.2222222222222222,
              "#7201a8"
             ],
             [
              0.3333333333333333,
              "#9c179e"
             ],
             [
              0.4444444444444444,
              "#bd3786"
             ],
             [
              0.5555555555555556,
              "#d8576b"
             ],
             [
              0.6666666666666666,
              "#ed7953"
             ],
             [
              0.7777777777777778,
              "#fb9f3a"
             ],
             [
              0.8888888888888888,
              "#fdca26"
             ],
             [
              1,
              "#f0f921"
             ]
            ],
            "type": "heatmap"
           }
          ],
          "heatmapgl": [
           {
            "colorbar": {
             "outlinewidth": 0,
             "ticks": ""
            },
            "colorscale": [
             [
              0,
              "#0d0887"
             ],
             [
              0.1111111111111111,
              "#46039f"
             ],
             [
              0.2222222222222222,
              "#7201a8"
             ],
             [
              0.3333333333333333,
              "#9c179e"
             ],
             [
              0.4444444444444444,
              "#bd3786"
             ],
             [
              0.5555555555555556,
              "#d8576b"
             ],
             [
              0.6666666666666666,
              "#ed7953"
             ],
             [
              0.7777777777777778,
              "#fb9f3a"
             ],
             [
              0.8888888888888888,
              "#fdca26"
             ],
             [
              1,
              "#f0f921"
             ]
            ],
            "type": "heatmapgl"
           }
          ],
          "histogram": [
           {
            "marker": {
             "pattern": {
              "fillmode": "overlay",
              "size": 10,
              "solidity": 0.2
             }
            },
            "type": "histogram"
           }
          ],
          "histogram2d": [
           {
            "colorbar": {
             "outlinewidth": 0,
             "ticks": ""
            },
            "colorscale": [
             [
              0,
              "#0d0887"
             ],
             [
              0.1111111111111111,
              "#46039f"
             ],
             [
              0.2222222222222222,
              "#7201a8"
             ],
             [
              0.3333333333333333,
              "#9c179e"
             ],
             [
              0.4444444444444444,
              "#bd3786"
             ],
             [
              0.5555555555555556,
              "#d8576b"
             ],
             [
              0.6666666666666666,
              "#ed7953"
             ],
             [
              0.7777777777777778,
              "#fb9f3a"
             ],
             [
              0.8888888888888888,
              "#fdca26"
             ],
             [
              1,
              "#f0f921"
             ]
            ],
            "type": "histogram2d"
           }
          ],
          "histogram2dcontour": [
           {
            "colorbar": {
             "outlinewidth": 0,
             "ticks": ""
            },
            "colorscale": [
             [
              0,
              "#0d0887"
             ],
             [
              0.1111111111111111,
              "#46039f"
             ],
             [
              0.2222222222222222,
              "#7201a8"
             ],
             [
              0.3333333333333333,
              "#9c179e"
             ],
             [
              0.4444444444444444,
              "#bd3786"
             ],
             [
              0.5555555555555556,
              "#d8576b"
             ],
             [
              0.6666666666666666,
              "#ed7953"
             ],
             [
              0.7777777777777778,
              "#fb9f3a"
             ],
             [
              0.8888888888888888,
              "#fdca26"
             ],
             [
              1,
              "#f0f921"
             ]
            ],
            "type": "histogram2dcontour"
           }
          ],
          "mesh3d": [
           {
            "colorbar": {
             "outlinewidth": 0,
             "ticks": ""
            },
            "type": "mesh3d"
           }
          ],
          "parcoords": [
           {
            "line": {
             "colorbar": {
              "outlinewidth": 0,
              "ticks": ""
             }
            },
            "type": "parcoords"
           }
          ],
          "pie": [
           {
            "automargin": true,
            "type": "pie"
           }
          ],
          "scatter": [
           {
            "fillpattern": {
             "fillmode": "overlay",
             "size": 10,
             "solidity": 0.2
            },
            "type": "scatter"
           }
          ],
          "scatter3d": [
           {
            "line": {
             "colorbar": {
              "outlinewidth": 0,
              "ticks": ""
             }
            },
            "marker": {
             "colorbar": {
              "outlinewidth": 0,
              "ticks": ""
             }
            },
            "type": "scatter3d"
           }
          ],
          "scattercarpet": [
           {
            "marker": {
             "colorbar": {
              "outlinewidth": 0,
              "ticks": ""
             }
            },
            "type": "scattercarpet"
           }
          ],
          "scattergeo": [
           {
            "marker": {
             "colorbar": {
              "outlinewidth": 0,
              "ticks": ""
             }
            },
            "type": "scattergeo"
           }
          ],
          "scattergl": [
           {
            "marker": {
             "colorbar": {
              "outlinewidth": 0,
              "ticks": ""
             }
            },
            "type": "scattergl"
           }
          ],
          "scattermapbox": [
           {
            "marker": {
             "colorbar": {
              "outlinewidth": 0,
              "ticks": ""
             }
            },
            "type": "scattermapbox"
           }
          ],
          "scatterpolar": [
           {
            "marker": {
             "colorbar": {
              "outlinewidth": 0,
              "ticks": ""
             }
            },
            "type": "scatterpolar"
           }
          ],
          "scatterpolargl": [
           {
            "marker": {
             "colorbar": {
              "outlinewidth": 0,
              "ticks": ""
             }
            },
            "type": "scatterpolargl"
           }
          ],
          "scatterternary": [
           {
            "marker": {
             "colorbar": {
              "outlinewidth": 0,
              "ticks": ""
             }
            },
            "type": "scatterternary"
           }
          ],
          "surface": [
           {
            "colorbar": {
             "outlinewidth": 0,
             "ticks": ""
            },
            "colorscale": [
             [
              0,
              "#0d0887"
             ],
             [
              0.1111111111111111,
              "#46039f"
             ],
             [
              0.2222222222222222,
              "#7201a8"
             ],
             [
              0.3333333333333333,
              "#9c179e"
             ],
             [
              0.4444444444444444,
              "#bd3786"
             ],
             [
              0.5555555555555556,
              "#d8576b"
             ],
             [
              0.6666666666666666,
              "#ed7953"
             ],
             [
              0.7777777777777778,
              "#fb9f3a"
             ],
             [
              0.8888888888888888,
              "#fdca26"
             ],
             [
              1,
              "#f0f921"
             ]
            ],
            "type": "surface"
           }
          ],
          "table": [
           {
            "cells": {
             "fill": {
              "color": "#EBF0F8"
             },
             "line": {
              "color": "white"
             }
            },
            "header": {
             "fill": {
              "color": "#C8D4E3"
             },
             "line": {
              "color": "white"
             }
            },
            "type": "table"
           }
          ]
         },
         "layout": {
          "annotationdefaults": {
           "arrowcolor": "#2a3f5f",
           "arrowhead": 0,
           "arrowwidth": 1
          },
          "autotypenumbers": "strict",
          "coloraxis": {
           "colorbar": {
            "outlinewidth": 0,
            "ticks": ""
           }
          },
          "colorscale": {
           "diverging": [
            [
             0,
             "#8e0152"
            ],
            [
             0.1,
             "#c51b7d"
            ],
            [
             0.2,
             "#de77ae"
            ],
            [
             0.3,
             "#f1b6da"
            ],
            [
             0.4,
             "#fde0ef"
            ],
            [
             0.5,
             "#f7f7f7"
            ],
            [
             0.6,
             "#e6f5d0"
            ],
            [
             0.7,
             "#b8e186"
            ],
            [
             0.8,
             "#7fbc41"
            ],
            [
             0.9,
             "#4d9221"
            ],
            [
             1,
             "#276419"
            ]
           ],
           "sequential": [
            [
             0,
             "#0d0887"
            ],
            [
             0.1111111111111111,
             "#46039f"
            ],
            [
             0.2222222222222222,
             "#7201a8"
            ],
            [
             0.3333333333333333,
             "#9c179e"
            ],
            [
             0.4444444444444444,
             "#bd3786"
            ],
            [
             0.5555555555555556,
             "#d8576b"
            ],
            [
             0.6666666666666666,
             "#ed7953"
            ],
            [
             0.7777777777777778,
             "#fb9f3a"
            ],
            [
             0.8888888888888888,
             "#fdca26"
            ],
            [
             1,
             "#f0f921"
            ]
           ],
           "sequentialminus": [
            [
             0,
             "#0d0887"
            ],
            [
             0.1111111111111111,
             "#46039f"
            ],
            [
             0.2222222222222222,
             "#7201a8"
            ],
            [
             0.3333333333333333,
             "#9c179e"
            ],
            [
             0.4444444444444444,
             "#bd3786"
            ],
            [
             0.5555555555555556,
             "#d8576b"
            ],
            [
             0.6666666666666666,
             "#ed7953"
            ],
            [
             0.7777777777777778,
             "#fb9f3a"
            ],
            [
             0.8888888888888888,
             "#fdca26"
            ],
            [
             1,
             "#f0f921"
            ]
           ]
          },
          "colorway": [
           "#636efa",
           "#EF553B",
           "#00cc96",
           "#ab63fa",
           "#FFA15A",
           "#19d3f3",
           "#FF6692",
           "#B6E880",
           "#FF97FF",
           "#FECB52"
          ],
          "font": {
           "color": "#2a3f5f"
          },
          "geo": {
           "bgcolor": "white",
           "lakecolor": "white",
           "landcolor": "#E5ECF6",
           "showlakes": true,
           "showland": true,
           "subunitcolor": "white"
          },
          "hoverlabel": {
           "align": "left"
          },
          "hovermode": "closest",
          "mapbox": {
           "style": "light"
          },
          "paper_bgcolor": "white",
          "plot_bgcolor": "#E5ECF6",
          "polar": {
           "angularaxis": {
            "gridcolor": "white",
            "linecolor": "white",
            "ticks": ""
           },
           "bgcolor": "#E5ECF6",
           "radialaxis": {
            "gridcolor": "white",
            "linecolor": "white",
            "ticks": ""
           }
          },
          "scene": {
           "xaxis": {
            "backgroundcolor": "#E5ECF6",
            "gridcolor": "white",
            "gridwidth": 2,
            "linecolor": "white",
            "showbackground": true,
            "ticks": "",
            "zerolinecolor": "white"
           },
           "yaxis": {
            "backgroundcolor": "#E5ECF6",
            "gridcolor": "white",
            "gridwidth": 2,
            "linecolor": "white",
            "showbackground": true,
            "ticks": "",
            "zerolinecolor": "white"
           },
           "zaxis": {
            "backgroundcolor": "#E5ECF6",
            "gridcolor": "white",
            "gridwidth": 2,
            "linecolor": "white",
            "showbackground": true,
            "ticks": "",
            "zerolinecolor": "white"
           }
          },
          "shapedefaults": {
           "line": {
            "color": "#2a3f5f"
           }
          },
          "ternary": {
           "aaxis": {
            "gridcolor": "white",
            "linecolor": "white",
            "ticks": ""
           },
           "baxis": {
            "gridcolor": "white",
            "linecolor": "white",
            "ticks": ""
           },
           "bgcolor": "#E5ECF6",
           "caxis": {
            "gridcolor": "white",
            "linecolor": "white",
            "ticks": ""
           }
          },
          "title": {
           "x": 0.05
          },
          "xaxis": {
           "automargin": true,
           "gridcolor": "white",
           "linecolor": "white",
           "ticks": "",
           "title": {
            "standoff": 15
           },
           "zerolinecolor": "white",
           "zerolinewidth": 2
          },
          "yaxis": {
           "automargin": true,
           "gridcolor": "white",
           "linecolor": "white",
           "ticks": "",
           "title": {
            "standoff": 15
           },
           "zerolinecolor": "white",
           "zerolinewidth": 2
          }
         }
        }
       }
      }
     },
     "metadata": {},
     "output_type": "display_data"
    }
   ],
   "source": [
    "import plotly.graph_objects as go\n",
    "import pandas as pd\n",
    "import numpy as np\n",
    "\n",
    "periods = ['2022 (mean)', '2023 January', '2023 February', '2023 March', '2023 April']\n",
    "people = 'Vincent'\n",
    "\n",
    "rows = {}\n",
    "for period in periods:\n",
    "    rows[period] = result[period][people]\n",
    "df = pd.concat(rows, axis=1).transpose()\n",
    "\n",
    "\n",
    "fig = go.Figure()\n",
    "for metric in [m for m in df.columns if m in ['Revenus', 'Dépenses', 'Reste à vivre', 'Capital investi', 'Epargne']]:\n",
    "    fig.add_trace(go.Scatter(x=df.index.tolist(), y=np.abs(df[metric].values.tolist()), name=metric))\n",
    "\n",
    "fig.show()"
   ]
  },
  {
   "cell_type": "code",
   "execution_count": 5,
   "metadata": {},
   "outputs": [
    {
     "data": {
      "application/vnd.plotly.v1+json": {
       "config": {
        "plotlyServerURL": "https://plot.ly"
       },
       "data": [
        {
         "name": "2022 (mean)",
         "type": "bar",
         "x": [
          "Revenus",
          "Dépenses",
          "Reste à vivre",
          "Reste à vivre %",
          "Capital investi",
          "Capital investi %",
          "Epargne",
          "Epargne %"
         ],
         "y": [
          2741.6433333333334,
          1874.899166666667,
          866.7441666666664,
          31.614038052603476,
          620.8333333333333,
          22.644569619437487,
          245.91083333333313,
          8.96946843316599
         ]
        },
        {
         "name": "2023 January",
         "type": "bar",
         "x": [
          "Revenus",
          "Dépenses",
          "Reste à vivre",
          "Reste à vivre %",
          "Capital investi",
          "Capital investi %",
          "Epargne",
          "Epargne %"
         ],
         "y": [
          5497.63,
          732.8399999999999,
          4764.79,
          86.66989229904523,
          0,
          0,
          4764.79,
          86.66989229904523
         ]
        },
        {
         "name": "2023 February",
         "type": "bar",
         "x": [
          "Revenus",
          "Dépenses",
          "Reste à vivre",
          "Reste à vivre %",
          "Capital investi",
          "Capital investi %",
          "Epargne",
          "Epargne %"
         ],
         "y": [
          2860.46,
          1640.5100000000002,
          1219.9499999999998,
          42.648734818875276,
          0,
          0,
          1219.9499999999998,
          42.648734818875276
         ]
        },
        {
         "name": "2023 March",
         "type": "bar",
         "x": [
          "Revenus",
          "Dépenses",
          "Reste à vivre",
          "Reste à vivre %",
          "Capital investi",
          "Capital investi %",
          "Epargne",
          "Epargne %"
         ],
         "y": [
          3786.29,
          2206.4700000000003,
          1579.8199999999997,
          41.7247490287326,
          0,
          0,
          1579.8199999999997,
          41.7247490287326
         ]
        },
        {
         "name": "2023 April",
         "type": "bar",
         "x": [
          "Revenus",
          "Dépenses",
          "Reste à vivre",
          "Reste à vivre %",
          "Capital investi",
          "Capital investi %",
          "Epargne",
          "Epargne %"
         ],
         "y": [
          2524.45,
          1727.71,
          796.7399999999998,
          31.560934064845803,
          0,
          0,
          796.7399999999998,
          31.560934064845803
         ]
        }
       ],
       "layout": {
        "template": {
         "data": {
          "bar": [
           {
            "error_x": {
             "color": "#2a3f5f"
            },
            "error_y": {
             "color": "#2a3f5f"
            },
            "marker": {
             "line": {
              "color": "#E5ECF6",
              "width": 0.5
             },
             "pattern": {
              "fillmode": "overlay",
              "size": 10,
              "solidity": 0.2
             }
            },
            "type": "bar"
           }
          ],
          "barpolar": [
           {
            "marker": {
             "line": {
              "color": "#E5ECF6",
              "width": 0.5
             },
             "pattern": {
              "fillmode": "overlay",
              "size": 10,
              "solidity": 0.2
             }
            },
            "type": "barpolar"
           }
          ],
          "carpet": [
           {
            "aaxis": {
             "endlinecolor": "#2a3f5f",
             "gridcolor": "white",
             "linecolor": "white",
             "minorgridcolor": "white",
             "startlinecolor": "#2a3f5f"
            },
            "baxis": {
             "endlinecolor": "#2a3f5f",
             "gridcolor": "white",
             "linecolor": "white",
             "minorgridcolor": "white",
             "startlinecolor": "#2a3f5f"
            },
            "type": "carpet"
           }
          ],
          "choropleth": [
           {
            "colorbar": {
             "outlinewidth": 0,
             "ticks": ""
            },
            "type": "choropleth"
           }
          ],
          "contour": [
           {
            "colorbar": {
             "outlinewidth": 0,
             "ticks": ""
            },
            "colorscale": [
             [
              0,
              "#0d0887"
             ],
             [
              0.1111111111111111,
              "#46039f"
             ],
             [
              0.2222222222222222,
              "#7201a8"
             ],
             [
              0.3333333333333333,
              "#9c179e"
             ],
             [
              0.4444444444444444,
              "#bd3786"
             ],
             [
              0.5555555555555556,
              "#d8576b"
             ],
             [
              0.6666666666666666,
              "#ed7953"
             ],
             [
              0.7777777777777778,
              "#fb9f3a"
             ],
             [
              0.8888888888888888,
              "#fdca26"
             ],
             [
              1,
              "#f0f921"
             ]
            ],
            "type": "contour"
           }
          ],
          "contourcarpet": [
           {
            "colorbar": {
             "outlinewidth": 0,
             "ticks": ""
            },
            "type": "contourcarpet"
           }
          ],
          "heatmap": [
           {
            "colorbar": {
             "outlinewidth": 0,
             "ticks": ""
            },
            "colorscale": [
             [
              0,
              "#0d0887"
             ],
             [
              0.1111111111111111,
              "#46039f"
             ],
             [
              0.2222222222222222,
              "#7201a8"
             ],
             [
              0.3333333333333333,
              "#9c179e"
             ],
             [
              0.4444444444444444,
              "#bd3786"
             ],
             [
              0.5555555555555556,
              "#d8576b"
             ],
             [
              0.6666666666666666,
              "#ed7953"
             ],
             [
              0.7777777777777778,
              "#fb9f3a"
             ],
             [
              0.8888888888888888,
              "#fdca26"
             ],
             [
              1,
              "#f0f921"
             ]
            ],
            "type": "heatmap"
           }
          ],
          "heatmapgl": [
           {
            "colorbar": {
             "outlinewidth": 0,
             "ticks": ""
            },
            "colorscale": [
             [
              0,
              "#0d0887"
             ],
             [
              0.1111111111111111,
              "#46039f"
             ],
             [
              0.2222222222222222,
              "#7201a8"
             ],
             [
              0.3333333333333333,
              "#9c179e"
             ],
             [
              0.4444444444444444,
              "#bd3786"
             ],
             [
              0.5555555555555556,
              "#d8576b"
             ],
             [
              0.6666666666666666,
              "#ed7953"
             ],
             [
              0.7777777777777778,
              "#fb9f3a"
             ],
             [
              0.8888888888888888,
              "#fdca26"
             ],
             [
              1,
              "#f0f921"
             ]
            ],
            "type": "heatmapgl"
           }
          ],
          "histogram": [
           {
            "marker": {
             "pattern": {
              "fillmode": "overlay",
              "size": 10,
              "solidity": 0.2
             }
            },
            "type": "histogram"
           }
          ],
          "histogram2d": [
           {
            "colorbar": {
             "outlinewidth": 0,
             "ticks": ""
            },
            "colorscale": [
             [
              0,
              "#0d0887"
             ],
             [
              0.1111111111111111,
              "#46039f"
             ],
             [
              0.2222222222222222,
              "#7201a8"
             ],
             [
              0.3333333333333333,
              "#9c179e"
             ],
             [
              0.4444444444444444,
              "#bd3786"
             ],
             [
              0.5555555555555556,
              "#d8576b"
             ],
             [
              0.6666666666666666,
              "#ed7953"
             ],
             [
              0.7777777777777778,
              "#fb9f3a"
             ],
             [
              0.8888888888888888,
              "#fdca26"
             ],
             [
              1,
              "#f0f921"
             ]
            ],
            "type": "histogram2d"
           }
          ],
          "histogram2dcontour": [
           {
            "colorbar": {
             "outlinewidth": 0,
             "ticks": ""
            },
            "colorscale": [
             [
              0,
              "#0d0887"
             ],
             [
              0.1111111111111111,
              "#46039f"
             ],
             [
              0.2222222222222222,
              "#7201a8"
             ],
             [
              0.3333333333333333,
              "#9c179e"
             ],
             [
              0.4444444444444444,
              "#bd3786"
             ],
             [
              0.5555555555555556,
              "#d8576b"
             ],
             [
              0.6666666666666666,
              "#ed7953"
             ],
             [
              0.7777777777777778,
              "#fb9f3a"
             ],
             [
              0.8888888888888888,
              "#fdca26"
             ],
             [
              1,
              "#f0f921"
             ]
            ],
            "type": "histogram2dcontour"
           }
          ],
          "mesh3d": [
           {
            "colorbar": {
             "outlinewidth": 0,
             "ticks": ""
            },
            "type": "mesh3d"
           }
          ],
          "parcoords": [
           {
            "line": {
             "colorbar": {
              "outlinewidth": 0,
              "ticks": ""
             }
            },
            "type": "parcoords"
           }
          ],
          "pie": [
           {
            "automargin": true,
            "type": "pie"
           }
          ],
          "scatter": [
           {
            "fillpattern": {
             "fillmode": "overlay",
             "size": 10,
             "solidity": 0.2
            },
            "type": "scatter"
           }
          ],
          "scatter3d": [
           {
            "line": {
             "colorbar": {
              "outlinewidth": 0,
              "ticks": ""
             }
            },
            "marker": {
             "colorbar": {
              "outlinewidth": 0,
              "ticks": ""
             }
            },
            "type": "scatter3d"
           }
          ],
          "scattercarpet": [
           {
            "marker": {
             "colorbar": {
              "outlinewidth": 0,
              "ticks": ""
             }
            },
            "type": "scattercarpet"
           }
          ],
          "scattergeo": [
           {
            "marker": {
             "colorbar": {
              "outlinewidth": 0,
              "ticks": ""
             }
            },
            "type": "scattergeo"
           }
          ],
          "scattergl": [
           {
            "marker": {
             "colorbar": {
              "outlinewidth": 0,
              "ticks": ""
             }
            },
            "type": "scattergl"
           }
          ],
          "scattermapbox": [
           {
            "marker": {
             "colorbar": {
              "outlinewidth": 0,
              "ticks": ""
             }
            },
            "type": "scattermapbox"
           }
          ],
          "scatterpolar": [
           {
            "marker": {
             "colorbar": {
              "outlinewidth": 0,
              "ticks": ""
             }
            },
            "type": "scatterpolar"
           }
          ],
          "scatterpolargl": [
           {
            "marker": {
             "colorbar": {
              "outlinewidth": 0,
              "ticks": ""
             }
            },
            "type": "scatterpolargl"
           }
          ],
          "scatterternary": [
           {
            "marker": {
             "colorbar": {
              "outlinewidth": 0,
              "ticks": ""
             }
            },
            "type": "scatterternary"
           }
          ],
          "surface": [
           {
            "colorbar": {
             "outlinewidth": 0,
             "ticks": ""
            },
            "colorscale": [
             [
              0,
              "#0d0887"
             ],
             [
              0.1111111111111111,
              "#46039f"
             ],
             [
              0.2222222222222222,
              "#7201a8"
             ],
             [
              0.3333333333333333,
              "#9c179e"
             ],
             [
              0.4444444444444444,
              "#bd3786"
             ],
             [
              0.5555555555555556,
              "#d8576b"
             ],
             [
              0.6666666666666666,
              "#ed7953"
             ],
             [
              0.7777777777777778,
              "#fb9f3a"
             ],
             [
              0.8888888888888888,
              "#fdca26"
             ],
             [
              1,
              "#f0f921"
             ]
            ],
            "type": "surface"
           }
          ],
          "table": [
           {
            "cells": {
             "fill": {
              "color": "#EBF0F8"
             },
             "line": {
              "color": "white"
             }
            },
            "header": {
             "fill": {
              "color": "#C8D4E3"
             },
             "line": {
              "color": "white"
             }
            },
            "type": "table"
           }
          ]
         },
         "layout": {
          "annotationdefaults": {
           "arrowcolor": "#2a3f5f",
           "arrowhead": 0,
           "arrowwidth": 1
          },
          "autotypenumbers": "strict",
          "coloraxis": {
           "colorbar": {
            "outlinewidth": 0,
            "ticks": ""
           }
          },
          "colorscale": {
           "diverging": [
            [
             0,
             "#8e0152"
            ],
            [
             0.1,
             "#c51b7d"
            ],
            [
             0.2,
             "#de77ae"
            ],
            [
             0.3,
             "#f1b6da"
            ],
            [
             0.4,
             "#fde0ef"
            ],
            [
             0.5,
             "#f7f7f7"
            ],
            [
             0.6,
             "#e6f5d0"
            ],
            [
             0.7,
             "#b8e186"
            ],
            [
             0.8,
             "#7fbc41"
            ],
            [
             0.9,
             "#4d9221"
            ],
            [
             1,
             "#276419"
            ]
           ],
           "sequential": [
            [
             0,
             "#0d0887"
            ],
            [
             0.1111111111111111,
             "#46039f"
            ],
            [
             0.2222222222222222,
             "#7201a8"
            ],
            [
             0.3333333333333333,
             "#9c179e"
            ],
            [
             0.4444444444444444,
             "#bd3786"
            ],
            [
             0.5555555555555556,
             "#d8576b"
            ],
            [
             0.6666666666666666,
             "#ed7953"
            ],
            [
             0.7777777777777778,
             "#fb9f3a"
            ],
            [
             0.8888888888888888,
             "#fdca26"
            ],
            [
             1,
             "#f0f921"
            ]
           ],
           "sequentialminus": [
            [
             0,
             "#0d0887"
            ],
            [
             0.1111111111111111,
             "#46039f"
            ],
            [
             0.2222222222222222,
             "#7201a8"
            ],
            [
             0.3333333333333333,
             "#9c179e"
            ],
            [
             0.4444444444444444,
             "#bd3786"
            ],
            [
             0.5555555555555556,
             "#d8576b"
            ],
            [
             0.6666666666666666,
             "#ed7953"
            ],
            [
             0.7777777777777778,
             "#fb9f3a"
            ],
            [
             0.8888888888888888,
             "#fdca26"
            ],
            [
             1,
             "#f0f921"
            ]
           ]
          },
          "colorway": [
           "#636efa",
           "#EF553B",
           "#00cc96",
           "#ab63fa",
           "#FFA15A",
           "#19d3f3",
           "#FF6692",
           "#B6E880",
           "#FF97FF",
           "#FECB52"
          ],
          "font": {
           "color": "#2a3f5f"
          },
          "geo": {
           "bgcolor": "white",
           "lakecolor": "white",
           "landcolor": "#E5ECF6",
           "showlakes": true,
           "showland": true,
           "subunitcolor": "white"
          },
          "hoverlabel": {
           "align": "left"
          },
          "hovermode": "closest",
          "mapbox": {
           "style": "light"
          },
          "paper_bgcolor": "white",
          "plot_bgcolor": "#E5ECF6",
          "polar": {
           "angularaxis": {
            "gridcolor": "white",
            "linecolor": "white",
            "ticks": ""
           },
           "bgcolor": "#E5ECF6",
           "radialaxis": {
            "gridcolor": "white",
            "linecolor": "white",
            "ticks": ""
           }
          },
          "scene": {
           "xaxis": {
            "backgroundcolor": "#E5ECF6",
            "gridcolor": "white",
            "gridwidth": 2,
            "linecolor": "white",
            "showbackground": true,
            "ticks": "",
            "zerolinecolor": "white"
           },
           "yaxis": {
            "backgroundcolor": "#E5ECF6",
            "gridcolor": "white",
            "gridwidth": 2,
            "linecolor": "white",
            "showbackground": true,
            "ticks": "",
            "zerolinecolor": "white"
           },
           "zaxis": {
            "backgroundcolor": "#E5ECF6",
            "gridcolor": "white",
            "gridwidth": 2,
            "linecolor": "white",
            "showbackground": true,
            "ticks": "",
            "zerolinecolor": "white"
           }
          },
          "shapedefaults": {
           "line": {
            "color": "#2a3f5f"
           }
          },
          "ternary": {
           "aaxis": {
            "gridcolor": "white",
            "linecolor": "white",
            "ticks": ""
           },
           "baxis": {
            "gridcolor": "white",
            "linecolor": "white",
            "ticks": ""
           },
           "bgcolor": "#E5ECF6",
           "caxis": {
            "gridcolor": "white",
            "linecolor": "white",
            "ticks": ""
           }
          },
          "title": {
           "x": 0.05
          },
          "xaxis": {
           "automargin": true,
           "gridcolor": "white",
           "linecolor": "white",
           "ticks": "",
           "title": {
            "standoff": 15
           },
           "zerolinecolor": "white",
           "zerolinewidth": 2
          },
          "yaxis": {
           "automargin": true,
           "gridcolor": "white",
           "linecolor": "white",
           "ticks": "",
           "title": {
            "standoff": 15
           },
           "zerolinecolor": "white",
           "zerolinewidth": 2
          }
         }
        }
       }
      }
     },
     "metadata": {},
     "output_type": "display_data"
    }
   ],
   "source": [
    "df2 = df.transpose()\n",
    "\n",
    "fig = go.Figure()\n",
    "for metric in df2.columns:\n",
    "    fig.add_trace(go.Bar(x=df2.index.tolist(), y=np.abs(df2[metric].values.tolist()), name=metric))\n",
    "\n",
    "fig.show()"
   ]
  },
  {
   "cell_type": "code",
   "execution_count": 7,
   "metadata": {},
   "outputs": [
    {
     "data": {
      "text/html": [
       "<style type=\"text/css\">\n",
       "#T_fc1b9_row0_col4, #T_fc1b9_row0_col5, #T_fc1b9_row0_col6, #T_fc1b9_row0_col7, #T_fc1b9_row0_col8, #T_fc1b9_row0_col9, #T_fc1b9_row1_col4, #T_fc1b9_row1_col5, #T_fc1b9_row1_col6, #T_fc1b9_row1_col7, #T_fc1b9_row1_col8, #T_fc1b9_row1_col9, #T_fc1b9_row3_col6, #T_fc1b9_row3_col7, #T_fc1b9_row4_col6, #T_fc1b9_row4_col7, #T_fc1b9_row5_col0, #T_fc1b9_row5_col1, #T_fc1b9_row5_col2, #T_fc1b9_row5_col3, #T_fc1b9_row5_col4, #T_fc1b9_row5_col5, #T_fc1b9_row7_col0, #T_fc1b9_row7_col1, #T_fc1b9_row7_col4, #T_fc1b9_row7_col5, #T_fc1b9_row7_col6, #T_fc1b9_row7_col7, #T_fc1b9_row7_col8, #T_fc1b9_row7_col9, #T_fc1b9_row8_col2, #T_fc1b9_row8_col3, #T_fc1b9_row8_col4, #T_fc1b9_row8_col5, #T_fc1b9_row8_col6, #T_fc1b9_row8_col7, #T_fc1b9_row8_col8, #T_fc1b9_row8_col9, #T_fc1b9_row10_col2, #T_fc1b9_row10_col3, #T_fc1b9_row10_col4, #T_fc1b9_row10_col5, #T_fc1b9_row10_col6, #T_fc1b9_row10_col7, #T_fc1b9_row10_col8, #T_fc1b9_row10_col9, #T_fc1b9_row13_col6, #T_fc1b9_row13_col7, #T_fc1b9_row17_col2, #T_fc1b9_row17_col3, #T_fc1b9_row17_col8, #T_fc1b9_row17_col9, #T_fc1b9_row20_col2, #T_fc1b9_row20_col3, #T_fc1b9_row20_col4, #T_fc1b9_row20_col5, #T_fc1b9_row21_col6, #T_fc1b9_row21_col7 {\n",
       "  color: transparent;\n",
       "}\n",
       "</style>\n",
       "<table id=\"T_fc1b9\">\n",
       "  <thead>\n",
       "    <tr>\n",
       "      <th class=\"blank level0\" >&nbsp;</th>\n",
       "      <th id=\"T_fc1b9_level0_col0\" class=\"col_heading level0 col0\" colspan=\"2\">2022 (mean)</th>\n",
       "      <th id=\"T_fc1b9_level0_col2\" class=\"col_heading level0 col2\" colspan=\"2\">2023 January</th>\n",
       "      <th id=\"T_fc1b9_level0_col4\" class=\"col_heading level0 col4\" colspan=\"2\">2023 February</th>\n",
       "      <th id=\"T_fc1b9_level0_col6\" class=\"col_heading level0 col6\" colspan=\"2\">2023 March</th>\n",
       "      <th id=\"T_fc1b9_level0_col8\" class=\"col_heading level0 col8\" colspan=\"2\">2023 April</th>\n",
       "    </tr>\n",
       "    <tr>\n",
       "      <th class=\"blank level1\" >&nbsp;</th>\n",
       "      <th id=\"T_fc1b9_level1_col0\" class=\"col_heading level1 col0\" >Total</th>\n",
       "      <th id=\"T_fc1b9_level1_col1\" class=\"col_heading level1 col1\" >Vincent</th>\n",
       "      <th id=\"T_fc1b9_level1_col2\" class=\"col_heading level1 col2\" >Total</th>\n",
       "      <th id=\"T_fc1b9_level1_col3\" class=\"col_heading level1 col3\" >Vincent</th>\n",
       "      <th id=\"T_fc1b9_level1_col4\" class=\"col_heading level1 col4\" >Total</th>\n",
       "      <th id=\"T_fc1b9_level1_col5\" class=\"col_heading level1 col5\" >Vincent</th>\n",
       "      <th id=\"T_fc1b9_level1_col6\" class=\"col_heading level1 col6\" >Total</th>\n",
       "      <th id=\"T_fc1b9_level1_col7\" class=\"col_heading level1 col7\" >Vincent</th>\n",
       "      <th id=\"T_fc1b9_level1_col8\" class=\"col_heading level1 col8\" >Total</th>\n",
       "      <th id=\"T_fc1b9_level1_col9\" class=\"col_heading level1 col9\" >Vincent</th>\n",
       "    </tr>\n",
       "    <tr>\n",
       "      <th class=\"index_name level0\" >Catégorie</th>\n",
       "      <th class=\"blank col0\" >&nbsp;</th>\n",
       "      <th class=\"blank col1\" >&nbsp;</th>\n",
       "      <th class=\"blank col2\" >&nbsp;</th>\n",
       "      <th class=\"blank col3\" >&nbsp;</th>\n",
       "      <th class=\"blank col4\" >&nbsp;</th>\n",
       "      <th class=\"blank col5\" >&nbsp;</th>\n",
       "      <th class=\"blank col6\" >&nbsp;</th>\n",
       "      <th class=\"blank col7\" >&nbsp;</th>\n",
       "      <th class=\"blank col8\" >&nbsp;</th>\n",
       "      <th class=\"blank col9\" >&nbsp;</th>\n",
       "    </tr>\n",
       "  </thead>\n",
       "  <tbody>\n",
       "    <tr>\n",
       "      <th id=\"T_fc1b9_level0_row0\" class=\"row_heading level0 row0\" >Activités</th>\n",
       "      <td id=\"T_fc1b9_row0_col0\" class=\"data row0 col0\" >-7</td>\n",
       "      <td id=\"T_fc1b9_row0_col1\" class=\"data row0 col1\" >-3</td>\n",
       "      <td id=\"T_fc1b9_row0_col2\" class=\"data row0 col2\" >-51</td>\n",
       "      <td id=\"T_fc1b9_row0_col3\" class=\"data row0 col3\" >-26</td>\n",
       "      <td id=\"T_fc1b9_row0_col4\" class=\"data row0 col4\" >nan</td>\n",
       "      <td id=\"T_fc1b9_row0_col5\" class=\"data row0 col5\" >nan</td>\n",
       "      <td id=\"T_fc1b9_row0_col6\" class=\"data row0 col6\" >nan</td>\n",
       "      <td id=\"T_fc1b9_row0_col7\" class=\"data row0 col7\" >nan</td>\n",
       "      <td id=\"T_fc1b9_row0_col8\" class=\"data row0 col8\" >nan</td>\n",
       "      <td id=\"T_fc1b9_row0_col9\" class=\"data row0 col9\" >nan</td>\n",
       "    </tr>\n",
       "    <tr>\n",
       "      <th id=\"T_fc1b9_level0_row1\" class=\"row_heading level0 row1\" >Alcool</th>\n",
       "      <td id=\"T_fc1b9_row1_col0\" class=\"data row1 col0\" >-15</td>\n",
       "      <td id=\"T_fc1b9_row1_col1\" class=\"data row1 col1\" >-9</td>\n",
       "      <td id=\"T_fc1b9_row1_col2\" class=\"data row1 col2\" >-81</td>\n",
       "      <td id=\"T_fc1b9_row1_col3\" class=\"data row1 col3\" >-40</td>\n",
       "      <td id=\"T_fc1b9_row1_col4\" class=\"data row1 col4\" >nan</td>\n",
       "      <td id=\"T_fc1b9_row1_col5\" class=\"data row1 col5\" >nan</td>\n",
       "      <td id=\"T_fc1b9_row1_col6\" class=\"data row1 col6\" >nan</td>\n",
       "      <td id=\"T_fc1b9_row1_col7\" class=\"data row1 col7\" >nan</td>\n",
       "      <td id=\"T_fc1b9_row1_col8\" class=\"data row1 col8\" >nan</td>\n",
       "      <td id=\"T_fc1b9_row1_col9\" class=\"data row1 col9\" >nan</td>\n",
       "    </tr>\n",
       "    <tr>\n",
       "      <th id=\"T_fc1b9_level0_row2\" class=\"row_heading level0 row2\" >Alimentation</th>\n",
       "      <td id=\"T_fc1b9_row2_col0\" class=\"data row2 col0\" >-309</td>\n",
       "      <td id=\"T_fc1b9_row2_col1\" class=\"data row2 col1\" >-150</td>\n",
       "      <td id=\"T_fc1b9_row2_col2\" class=\"data row2 col2\" >-710</td>\n",
       "      <td id=\"T_fc1b9_row2_col3\" class=\"data row2 col3\" >-339</td>\n",
       "      <td id=\"T_fc1b9_row2_col4\" class=\"data row2 col4\" >-244</td>\n",
       "      <td id=\"T_fc1b9_row2_col5\" class=\"data row2 col5\" >-122</td>\n",
       "      <td id=\"T_fc1b9_row2_col6\" class=\"data row2 col6\" >-336</td>\n",
       "      <td id=\"T_fc1b9_row2_col7\" class=\"data row2 col7\" >-127</td>\n",
       "      <td id=\"T_fc1b9_row2_col8\" class=\"data row2 col8\" >-455</td>\n",
       "      <td id=\"T_fc1b9_row2_col9\" class=\"data row2 col9\" >-173</td>\n",
       "    </tr>\n",
       "    <tr>\n",
       "      <th id=\"T_fc1b9_level0_row3\" class=\"row_heading level0 row3\" >Boulangerie</th>\n",
       "      <td id=\"T_fc1b9_row3_col0\" class=\"data row3 col0\" >-13</td>\n",
       "      <td id=\"T_fc1b9_row3_col1\" class=\"data row3 col1\" >-5</td>\n",
       "      <td id=\"T_fc1b9_row3_col2\" class=\"data row3 col2\" >-39</td>\n",
       "      <td id=\"T_fc1b9_row3_col3\" class=\"data row3 col3\" >-35</td>\n",
       "      <td id=\"T_fc1b9_row3_col4\" class=\"data row3 col4\" >-62</td>\n",
       "      <td id=\"T_fc1b9_row3_col5\" class=\"data row3 col5\" >-31</td>\n",
       "      <td id=\"T_fc1b9_row3_col6\" class=\"data row3 col6\" >nan</td>\n",
       "      <td id=\"T_fc1b9_row3_col7\" class=\"data row3 col7\" >nan</td>\n",
       "      <td id=\"T_fc1b9_row3_col8\" class=\"data row3 col8\" >-8</td>\n",
       "      <td id=\"T_fc1b9_row3_col9\" class=\"data row3 col9\" >-4</td>\n",
       "    </tr>\n",
       "    <tr>\n",
       "      <th id=\"T_fc1b9_level0_row4\" class=\"row_heading level0 row4\" >Cadeau</th>\n",
       "      <td id=\"T_fc1b9_row4_col0\" class=\"data row4 col0\" >-182</td>\n",
       "      <td id=\"T_fc1b9_row4_col1\" class=\"data row4 col1\" >-88</td>\n",
       "      <td id=\"T_fc1b9_row4_col2\" class=\"data row4 col2\" >433</td>\n",
       "      <td id=\"T_fc1b9_row4_col3\" class=\"data row4 col3\" >500</td>\n",
       "      <td id=\"T_fc1b9_row4_col4\" class=\"data row4 col4\" >-9</td>\n",
       "      <td id=\"T_fc1b9_row4_col5\" class=\"data row4 col5\" >-4</td>\n",
       "      <td id=\"T_fc1b9_row4_col6\" class=\"data row4 col6\" >nan</td>\n",
       "      <td id=\"T_fc1b9_row4_col7\" class=\"data row4 col7\" >nan</td>\n",
       "      <td id=\"T_fc1b9_row4_col8\" class=\"data row4 col8\" >1730</td>\n",
       "      <td id=\"T_fc1b9_row4_col9\" class=\"data row4 col9\" >930</td>\n",
       "    </tr>\n",
       "    <tr>\n",
       "      <th id=\"T_fc1b9_level0_row5\" class=\"row_heading level0 row5\" >Chien</th>\n",
       "      <td id=\"T_fc1b9_row5_col0\" class=\"data row5 col0\" >nan</td>\n",
       "      <td id=\"T_fc1b9_row5_col1\" class=\"data row5 col1\" >nan</td>\n",
       "      <td id=\"T_fc1b9_row5_col2\" class=\"data row5 col2\" >nan</td>\n",
       "      <td id=\"T_fc1b9_row5_col3\" class=\"data row5 col3\" >nan</td>\n",
       "      <td id=\"T_fc1b9_row5_col4\" class=\"data row5 col4\" >nan</td>\n",
       "      <td id=\"T_fc1b9_row5_col5\" class=\"data row5 col5\" >nan</td>\n",
       "      <td id=\"T_fc1b9_row5_col6\" class=\"data row5 col6\" >-82</td>\n",
       "      <td id=\"T_fc1b9_row5_col7\" class=\"data row5 col7\" >-41</td>\n",
       "      <td id=\"T_fc1b9_row5_col8\" class=\"data row5 col8\" >-3115</td>\n",
       "      <td id=\"T_fc1b9_row5_col9\" class=\"data row5 col9\" >-1558</td>\n",
       "    </tr>\n",
       "    <tr>\n",
       "      <th id=\"T_fc1b9_level0_row6\" class=\"row_heading level0 row6\" >Divertissement</th>\n",
       "      <td id=\"T_fc1b9_row6_col0\" class=\"data row6 col0\" >-33</td>\n",
       "      <td id=\"T_fc1b9_row6_col1\" class=\"data row6 col1\" >-7</td>\n",
       "      <td id=\"T_fc1b9_row6_col2\" class=\"data row6 col2\" >-44</td>\n",
       "      <td id=\"T_fc1b9_row6_col3\" class=\"data row6 col3\" >-10</td>\n",
       "      <td id=\"T_fc1b9_row6_col4\" class=\"data row6 col4\" >-353</td>\n",
       "      <td id=\"T_fc1b9_row6_col5\" class=\"data row6 col5\" >-164</td>\n",
       "      <td id=\"T_fc1b9_row6_col6\" class=\"data row6 col6\" >-24</td>\n",
       "      <td id=\"T_fc1b9_row6_col7\" class=\"data row6 col7\" >0</td>\n",
       "      <td id=\"T_fc1b9_row6_col8\" class=\"data row6 col8\" >-24</td>\n",
       "      <td id=\"T_fc1b9_row6_col9\" class=\"data row6 col9\" >-7</td>\n",
       "    </tr>\n",
       "    <tr>\n",
       "      <th id=\"T_fc1b9_level0_row7\" class=\"row_heading level0 row7\" >Espèce</th>\n",
       "      <td id=\"T_fc1b9_row7_col0\" class=\"data row7 col0\" >nan</td>\n",
       "      <td id=\"T_fc1b9_row7_col1\" class=\"data row7 col1\" >nan</td>\n",
       "      <td id=\"T_fc1b9_row7_col2\" class=\"data row7 col2\" >4000</td>\n",
       "      <td id=\"T_fc1b9_row7_col3\" class=\"data row7 col3\" >2000</td>\n",
       "      <td id=\"T_fc1b9_row7_col4\" class=\"data row7 col4\" >nan</td>\n",
       "      <td id=\"T_fc1b9_row7_col5\" class=\"data row7 col5\" >nan</td>\n",
       "      <td id=\"T_fc1b9_row7_col6\" class=\"data row7 col6\" >nan</td>\n",
       "      <td id=\"T_fc1b9_row7_col7\" class=\"data row7 col7\" >nan</td>\n",
       "      <td id=\"T_fc1b9_row7_col8\" class=\"data row7 col8\" >nan</td>\n",
       "      <td id=\"T_fc1b9_row7_col9\" class=\"data row7 col9\" >nan</td>\n",
       "    </tr>\n",
       "    <tr>\n",
       "      <th id=\"T_fc1b9_level0_row8\" class=\"row_heading level0 row8\" >Formation</th>\n",
       "      <td id=\"T_fc1b9_row8_col0\" class=\"data row8 col0\" >-162</td>\n",
       "      <td id=\"T_fc1b9_row8_col1\" class=\"data row8 col1\" >-162</td>\n",
       "      <td id=\"T_fc1b9_row8_col2\" class=\"data row8 col2\" >nan</td>\n",
       "      <td id=\"T_fc1b9_row8_col3\" class=\"data row8 col3\" >nan</td>\n",
       "      <td id=\"T_fc1b9_row8_col4\" class=\"data row8 col4\" >nan</td>\n",
       "      <td id=\"T_fc1b9_row8_col5\" class=\"data row8 col5\" >nan</td>\n",
       "      <td id=\"T_fc1b9_row8_col6\" class=\"data row8 col6\" >nan</td>\n",
       "      <td id=\"T_fc1b9_row8_col7\" class=\"data row8 col7\" >nan</td>\n",
       "      <td id=\"T_fc1b9_row8_col8\" class=\"data row8 col8\" >nan</td>\n",
       "      <td id=\"T_fc1b9_row8_col9\" class=\"data row8 col9\" >nan</td>\n",
       "    </tr>\n",
       "    <tr>\n",
       "      <th id=\"T_fc1b9_level0_row9\" class=\"row_heading level0 row9\" >Investissement</th>\n",
       "      <td id=\"T_fc1b9_row9_col0\" class=\"data row9 col0\" >-488</td>\n",
       "      <td id=\"T_fc1b9_row9_col1\" class=\"data row9 col1\" >-458</td>\n",
       "      <td id=\"T_fc1b9_row9_col2\" class=\"data row9 col2\" >-30</td>\n",
       "      <td id=\"T_fc1b9_row9_col3\" class=\"data row9 col3\" >0</td>\n",
       "      <td id=\"T_fc1b9_row9_col4\" class=\"data row9 col4\" >-30</td>\n",
       "      <td id=\"T_fc1b9_row9_col5\" class=\"data row9 col5\" >0</td>\n",
       "      <td id=\"T_fc1b9_row9_col6\" class=\"data row9 col6\" >-42</td>\n",
       "      <td id=\"T_fc1b9_row9_col7\" class=\"data row9 col7\" >0</td>\n",
       "      <td id=\"T_fc1b9_row9_col8\" class=\"data row9 col8\" >-30</td>\n",
       "      <td id=\"T_fc1b9_row9_col9\" class=\"data row9 col9\" >0</td>\n",
       "    </tr>\n",
       "    <tr>\n",
       "      <th id=\"T_fc1b9_level0_row10\" class=\"row_heading level0 row10\" >Livres</th>\n",
       "      <td id=\"T_fc1b9_row10_col0\" class=\"data row10 col0\" >-18</td>\n",
       "      <td id=\"T_fc1b9_row10_col1\" class=\"data row10 col1\" >-9</td>\n",
       "      <td id=\"T_fc1b9_row10_col2\" class=\"data row10 col2\" >nan</td>\n",
       "      <td id=\"T_fc1b9_row10_col3\" class=\"data row10 col3\" >nan</td>\n",
       "      <td id=\"T_fc1b9_row10_col4\" class=\"data row10 col4\" >nan</td>\n",
       "      <td id=\"T_fc1b9_row10_col5\" class=\"data row10 col5\" >nan</td>\n",
       "      <td id=\"T_fc1b9_row10_col6\" class=\"data row10 col6\" >nan</td>\n",
       "      <td id=\"T_fc1b9_row10_col7\" class=\"data row10 col7\" >nan</td>\n",
       "      <td id=\"T_fc1b9_row10_col8\" class=\"data row10 col8\" >nan</td>\n",
       "      <td id=\"T_fc1b9_row10_col9\" class=\"data row10 col9\" >nan</td>\n",
       "    </tr>\n",
       "    <tr>\n",
       "      <th id=\"T_fc1b9_level0_row11\" class=\"row_heading level0 row11\" >Logement</th>\n",
       "      <td id=\"T_fc1b9_row11_col0\" class=\"data row11 col0\" >-19</td>\n",
       "      <td id=\"T_fc1b9_row11_col1\" class=\"data row11 col1\" >-9</td>\n",
       "      <td id=\"T_fc1b9_row11_col2\" class=\"data row11 col2\" >-22</td>\n",
       "      <td id=\"T_fc1b9_row11_col3\" class=\"data row11 col3\" >0</td>\n",
       "      <td id=\"T_fc1b9_row11_col4\" class=\"data row11 col4\" >-170</td>\n",
       "      <td id=\"T_fc1b9_row11_col5\" class=\"data row11 col5\" >-85</td>\n",
       "      <td id=\"T_fc1b9_row11_col6\" class=\"data row11 col6\" >-197</td>\n",
       "      <td id=\"T_fc1b9_row11_col7\" class=\"data row11 col7\" >-99</td>\n",
       "      <td id=\"T_fc1b9_row11_col8\" class=\"data row11 col8\" >-238</td>\n",
       "      <td id=\"T_fc1b9_row11_col9\" class=\"data row11 col9\" >-119</td>\n",
       "    </tr>\n",
       "    <tr>\n",
       "      <th id=\"T_fc1b9_level0_row12\" class=\"row_heading level0 row12\" >Loyer & charges</th>\n",
       "      <td id=\"T_fc1b9_row12_col0\" class=\"data row12 col0\" >-1026</td>\n",
       "      <td id=\"T_fc1b9_row12_col1\" class=\"data row12 col1\" >-456</td>\n",
       "      <td id=\"T_fc1b9_row12_col2\" class=\"data row12 col2\" >-1057</td>\n",
       "      <td id=\"T_fc1b9_row12_col3\" class=\"data row12 col3\" >-498</td>\n",
       "      <td id=\"T_fc1b9_row12_col4\" class=\"data row12 col4\" >-931</td>\n",
       "      <td id=\"T_fc1b9_row12_col5\" class=\"data row12 col5\" >-434</td>\n",
       "      <td id=\"T_fc1b9_row12_col6\" class=\"data row12 col6\" >-930</td>\n",
       "      <td id=\"T_fc1b9_row12_col7\" class=\"data row12 col7\" >-434</td>\n",
       "      <td id=\"T_fc1b9_row12_col8\" class=\"data row12 col8\" >-829</td>\n",
       "      <td id=\"T_fc1b9_row12_col9\" class=\"data row12 col9\" >-333</td>\n",
       "    </tr>\n",
       "    <tr>\n",
       "      <th id=\"T_fc1b9_level0_row13\" class=\"row_heading level0 row13\" >Restaurant & bar</th>\n",
       "      <td id=\"T_fc1b9_row13_col0\" class=\"data row13 col0\" >-110</td>\n",
       "      <td id=\"T_fc1b9_row13_col1\" class=\"data row13 col1\" >-70</td>\n",
       "      <td id=\"T_fc1b9_row13_col2\" class=\"data row13 col2\" >-76</td>\n",
       "      <td id=\"T_fc1b9_row13_col3\" class=\"data row13 col3\" >-49</td>\n",
       "      <td id=\"T_fc1b9_row13_col4\" class=\"data row13 col4\" >-181</td>\n",
       "      <td id=\"T_fc1b9_row13_col5\" class=\"data row13 col5\" >-98</td>\n",
       "      <td id=\"T_fc1b9_row13_col6\" class=\"data row13 col6\" >nan</td>\n",
       "      <td id=\"T_fc1b9_row13_col7\" class=\"data row13 col7\" >nan</td>\n",
       "      <td id=\"T_fc1b9_row13_col8\" class=\"data row13 col8\" >-129</td>\n",
       "      <td id=\"T_fc1b9_row13_col9\" class=\"data row13 col9\" >-64</td>\n",
       "    </tr>\n",
       "    <tr>\n",
       "      <th id=\"T_fc1b9_level0_row14\" class=\"row_heading level0 row14\" >Salaire</th>\n",
       "      <td id=\"T_fc1b9_row14_col0\" class=\"data row14 col0\" >5002</td>\n",
       "      <td id=\"T_fc1b9_row14_col1\" class=\"data row14 col1\" >2742</td>\n",
       "      <td id=\"T_fc1b9_row14_col2\" class=\"data row14 col2\" >6249</td>\n",
       "      <td id=\"T_fc1b9_row14_col3\" class=\"data row14 col3\" >3498</td>\n",
       "      <td id=\"T_fc1b9_row14_col4\" class=\"data row14 col4\" >5112</td>\n",
       "      <td id=\"T_fc1b9_row14_col5\" class=\"data row14 col5\" >2860</td>\n",
       "      <td id=\"T_fc1b9_row14_col6\" class=\"data row14 col6\" >6038</td>\n",
       "      <td id=\"T_fc1b9_row14_col7\" class=\"data row14 col7\" >3786</td>\n",
       "      <td id=\"T_fc1b9_row14_col8\" class=\"data row14 col8\" >4776</td>\n",
       "      <td id=\"T_fc1b9_row14_col9\" class=\"data row14 col9\" >2524</td>\n",
       "    </tr>\n",
       "    <tr>\n",
       "      <th id=\"T_fc1b9_level0_row15\" class=\"row_heading level0 row15\" >Services</th>\n",
       "      <td id=\"T_fc1b9_row15_col0\" class=\"data row15 col0\" >-46</td>\n",
       "      <td id=\"T_fc1b9_row15_col1\" class=\"data row15 col1\" >-4</td>\n",
       "      <td id=\"T_fc1b9_row15_col2\" class=\"data row15 col2\" >-25</td>\n",
       "      <td id=\"T_fc1b9_row15_col3\" class=\"data row15 col3\" >0</td>\n",
       "      <td id=\"T_fc1b9_row15_col4\" class=\"data row15 col4\" >-40</td>\n",
       "      <td id=\"T_fc1b9_row15_col5\" class=\"data row15 col5\" >-40</td>\n",
       "      <td id=\"T_fc1b9_row15_col6\" class=\"data row15 col6\" >-106</td>\n",
       "      <td id=\"T_fc1b9_row15_col7\" class=\"data row15 col7\" >0</td>\n",
       "      <td id=\"T_fc1b9_row15_col8\" class=\"data row15 col8\" >-37</td>\n",
       "      <td id=\"T_fc1b9_row15_col9\" class=\"data row15 col9\" >0</td>\n",
       "    </tr>\n",
       "    <tr>\n",
       "      <th id=\"T_fc1b9_level0_row16\" class=\"row_heading level0 row16\" >Shopping</th>\n",
       "      <td id=\"T_fc1b9_row16_col0\" class=\"data row16 col0\" >-468</td>\n",
       "      <td id=\"T_fc1b9_row16_col1\" class=\"data row16 col1\" >-240</td>\n",
       "      <td id=\"T_fc1b9_row16_col2\" class=\"data row16 col2\" >-330</td>\n",
       "      <td id=\"T_fc1b9_row16_col3\" class=\"data row16 col3\" >-92</td>\n",
       "      <td id=\"T_fc1b9_row16_col4\" class=\"data row16 col4\" >-197</td>\n",
       "      <td id=\"T_fc1b9_row16_col5\" class=\"data row16 col5\" >-148</td>\n",
       "      <td id=\"T_fc1b9_row16_col6\" class=\"data row16 col6\" >-752</td>\n",
       "      <td id=\"T_fc1b9_row16_col7\" class=\"data row16 col7\" >-603</td>\n",
       "      <td id=\"T_fc1b9_row16_col8\" class=\"data row16 col8\" >-66</td>\n",
       "      <td id=\"T_fc1b9_row16_col9\" class=\"data row16 col9\" >-33</td>\n",
       "    </tr>\n",
       "    <tr>\n",
       "      <th id=\"T_fc1b9_level0_row17\" class=\"row_heading level0 row17\" >Soin de santé</th>\n",
       "      <td id=\"T_fc1b9_row17_col0\" class=\"data row17 col0\" >-93</td>\n",
       "      <td id=\"T_fc1b9_row17_col1\" class=\"data row17 col1\" >-32</td>\n",
       "      <td id=\"T_fc1b9_row17_col2\" class=\"data row17 col2\" >nan</td>\n",
       "      <td id=\"T_fc1b9_row17_col3\" class=\"data row17 col3\" >nan</td>\n",
       "      <td id=\"T_fc1b9_row17_col4\" class=\"data row17 col4\" >-38</td>\n",
       "      <td id=\"T_fc1b9_row17_col5\" class=\"data row17 col5\" >-19</td>\n",
       "      <td id=\"T_fc1b9_row17_col6\" class=\"data row17 col6\" >-14</td>\n",
       "      <td id=\"T_fc1b9_row17_col7\" class=\"data row17 col7\" >-6</td>\n",
       "      <td id=\"T_fc1b9_row17_col8\" class=\"data row17 col8\" >nan</td>\n",
       "      <td id=\"T_fc1b9_row17_col9\" class=\"data row17 col9\" >nan</td>\n",
       "    </tr>\n",
       "    <tr>\n",
       "      <th id=\"T_fc1b9_level0_row18\" class=\"row_heading level0 row18\" >Sport</th>\n",
       "      <td id=\"T_fc1b9_row18_col0\" class=\"data row18 col0\" >-135</td>\n",
       "      <td id=\"T_fc1b9_row18_col1\" class=\"data row18 col1\" >-82</td>\n",
       "      <td id=\"T_fc1b9_row18_col2\" class=\"data row18 col2\" >-30</td>\n",
       "      <td id=\"T_fc1b9_row18_col3\" class=\"data row18 col3\" >-15</td>\n",
       "      <td id=\"T_fc1b9_row18_col4\" class=\"data row18 col4\" >-30</td>\n",
       "      <td id=\"T_fc1b9_row18_col5\" class=\"data row18 col5\" >-15</td>\n",
       "      <td id=\"T_fc1b9_row18_col6\" class=\"data row18 col6\" >-30</td>\n",
       "      <td id=\"T_fc1b9_row18_col7\" class=\"data row18 col7\" >-15</td>\n",
       "      <td id=\"T_fc1b9_row18_col8\" class=\"data row18 col8\" >-57</td>\n",
       "      <td id=\"T_fc1b9_row18_col9\" class=\"data row18 col9\" >-15</td>\n",
       "    </tr>\n",
       "    <tr>\n",
       "      <th id=\"T_fc1b9_level0_row19\" class=\"row_heading level0 row19\" >Transport</th>\n",
       "      <td id=\"T_fc1b9_row19_col0\" class=\"data row19 col0\" >-135</td>\n",
       "      <td id=\"T_fc1b9_row19_col1\" class=\"data row19 col1\" >-59</td>\n",
       "      <td id=\"T_fc1b9_row19_col2\" class=\"data row19 col2\" >-765</td>\n",
       "      <td id=\"T_fc1b9_row19_col3\" class=\"data row19 col3\" >-87</td>\n",
       "      <td id=\"T_fc1b9_row19_col4\" class=\"data row19 col4\" >-70</td>\n",
       "      <td id=\"T_fc1b9_row19_col5\" class=\"data row19 col5\" >-35</td>\n",
       "      <td id=\"T_fc1b9_row19_col6\" class=\"data row19 col6\" >-218</td>\n",
       "      <td id=\"T_fc1b9_row19_col7\" class=\"data row19 col7\" >-144</td>\n",
       "      <td id=\"T_fc1b9_row19_col8\" class=\"data row19 col8\" >-190</td>\n",
       "      <td id=\"T_fc1b9_row19_col9\" class=\"data row19 col9\" >-95</td>\n",
       "    </tr>\n",
       "    <tr>\n",
       "      <th id=\"T_fc1b9_level0_row20\" class=\"row_heading level0 row20\" >Vacances</th>\n",
       "      <td id=\"T_fc1b9_row20_col0\" class=\"data row20 col0\" >-1057</td>\n",
       "      <td id=\"T_fc1b9_row20_col1\" class=\"data row20 col1\" >-537</td>\n",
       "      <td id=\"T_fc1b9_row20_col2\" class=\"data row20 col2\" >nan</td>\n",
       "      <td id=\"T_fc1b9_row20_col3\" class=\"data row20 col3\" >nan</td>\n",
       "      <td id=\"T_fc1b9_row20_col4\" class=\"data row20 col4\" >nan</td>\n",
       "      <td id=\"T_fc1b9_row20_col5\" class=\"data row20 col5\" >nan</td>\n",
       "      <td id=\"T_fc1b9_row20_col6\" class=\"data row20 col6\" >-1467</td>\n",
       "      <td id=\"T_fc1b9_row20_col7\" class=\"data row20 col7\" >-737</td>\n",
       "      <td id=\"T_fc1b9_row20_col8\" class=\"data row20 col8\" >-364</td>\n",
       "      <td id=\"T_fc1b9_row20_col9\" class=\"data row20 col9\" >-182</td>\n",
       "    </tr>\n",
       "    <tr>\n",
       "      <th id=\"T_fc1b9_level0_row21\" class=\"row_heading level0 row21\" >Week-end</th>\n",
       "      <td id=\"T_fc1b9_row21_col0\" class=\"data row21 col0\" >-186</td>\n",
       "      <td id=\"T_fc1b9_row21_col1\" class=\"data row21 col1\" >-114</td>\n",
       "      <td id=\"T_fc1b9_row21_col2\" class=\"data row21 col2\" >-81</td>\n",
       "      <td id=\"T_fc1b9_row21_col3\" class=\"data row21 col3\" >-41</td>\n",
       "      <td id=\"T_fc1b9_row21_col4\" class=\"data row21 col4\" >-889</td>\n",
       "      <td id=\"T_fc1b9_row21_col5\" class=\"data row21 col5\" >-445</td>\n",
       "      <td id=\"T_fc1b9_row21_col6\" class=\"data row21 col6\" >nan</td>\n",
       "      <td id=\"T_fc1b9_row21_col7\" class=\"data row21 col7\" >nan</td>\n",
       "      <td id=\"T_fc1b9_row21_col8\" class=\"data row21 col8\" >-152</td>\n",
       "      <td id=\"T_fc1b9_row21_col9\" class=\"data row21 col9\" >-76</td>\n",
       "    </tr>\n",
       "  </tbody>\n",
       "</table>\n"
      ],
      "text/plain": [
       "<pandas.io.formats.style.Styler at 0x7fa468877f10>"
      ]
     },
     "execution_count": 7,
     "metadata": {},
     "output_type": "execute_result"
    }
   ],
   "source": [
    "rows = {}\n",
    "peoples = ['Total', 'Vincent']\n",
    "periods = ['2022 (mean)', '2023 January', '2023 February', '2023 March', '2023 April']\n",
    "\n",
    "for i, period in enumerate(periods):\n",
    "    \n",
    "    rows[period] = detail[period][peoples]\n",
    "\n",
    "pd.concat(rows, axis=1).style.format(\"{:.0f}\").highlight_null(props=\"color: transparent;\")"
   ]
  },
  {
   "cell_type": "code",
   "execution_count": 10,
   "metadata": {},
   "outputs": [
    {
     "data": {
      "text/plain": [
       "{'2023 (sum)':                      Total    Lucie   Vincent\n",
       " Catégorie                                    \n",
       " Activités           -51.00   -25.50    -25.50\n",
       " Alcool              -81.00   -40.50    -40.50\n",
       " Alimentation      -1933.32 -1082.91   -850.41\n",
       " Boulangerie        -108.40   -38.20    -70.20\n",
       " Cadeau             2154.24   728.62   1425.62\n",
       " Chien             -3299.94 -1649.97  -1649.97\n",
       " Divertissement     -471.11  -290.01   -181.10\n",
       " Espèce             4000.00  2000.00   2000.00\n",
       " Formation              NaN      NaN       NaN\n",
       " Investissement     -162.00  -162.00      0.00\n",
       " Livres                 NaN      NaN       NaN\n",
       " Logement           -627.00  -324.40   -302.60\n",
       " Loyer & charges   -4582.49 -2496.41  -2086.08\n",
       " Restaurant & bar   -401.31  -182.68   -218.63\n",
       " Salaire           22176.07  9507.24  12668.83\n",
       " Services           -207.90  -167.90    -40.00\n",
       " Shopping          -1510.38  -528.86   -981.52\n",
       " Soin de santé       -52.04   -27.02    -25.02\n",
       " Sport              -146.59   -86.59    -60.00\n",
       " Transport         -1243.06  -881.86   -361.20\n",
       " Vacances          -1830.69  -911.29   -919.40\n",
       " Week-end          -1121.92  -560.96   -560.96,\n",
       " '2023 (mean)':                      Total     Lucie   Vincent\n",
       " Catégorie                                     \n",
       " Activités          -10.200    -5.100    -5.100\n",
       " Alcool             -16.200    -8.100    -8.100\n",
       " Alimentation      -386.664  -216.582  -170.082\n",
       " Boulangerie        -21.680    -7.640   -14.040\n",
       " Cadeau             430.848   145.724   285.124\n",
       " Chien             -659.988  -329.994  -329.994\n",
       " Divertissement     -94.222   -58.002   -36.220\n",
       " Espèce             800.000   400.000   400.000\n",
       " Formation              NaN       NaN       NaN\n",
       " Investissement     -32.400   -32.400     0.000\n",
       " Livres                 NaN       NaN       NaN\n",
       " Logement          -125.400   -64.880   -60.520\n",
       " Loyer & charges   -916.498  -499.282  -417.216\n",
       " Restaurant & bar   -80.262   -36.536   -43.726\n",
       " Salaire           4435.214  1901.448  2533.766\n",
       " Services           -41.580   -33.580    -8.000\n",
       " Shopping          -302.076  -105.772  -196.304\n",
       " Soin de santé      -10.408    -5.404    -5.004\n",
       " Sport              -29.318   -17.318   -12.000\n",
       " Transport         -248.612  -176.372   -72.240\n",
       " Vacances          -366.138  -182.258  -183.880\n",
       " Week-end          -224.384  -112.192  -112.192,\n",
       " '2023 May':                    Total   Lucie  Vincent\n",
       " Catégorie                                \n",
       " Activités            NaN     NaN      NaN\n",
       " Alcool               NaN     NaN      NaN\n",
       " Alimentation     -188.92  -99.71   -89.21\n",
       " Boulangerie          NaN     NaN      NaN\n",
       " Cadeau               NaN     NaN      NaN\n",
       " Chien            -102.48  -51.24   -51.24\n",
       " Divertissement    -24.48  -24.48     0.00\n",
       " Espèce               NaN     NaN      NaN\n",
       " Formation            NaN     NaN      NaN\n",
       " Investissement    -30.00  -30.00     0.00\n",
       " Livres               NaN     NaN      NaN\n",
       " Logement             NaN     NaN      NaN\n",
       " Loyer & charges  -835.39 -448.70  -386.69\n",
       " Restaurant & bar  -15.60   -7.80    -7.80\n",
       " Salaire              NaN     NaN      NaN\n",
       " Services             NaN     NaN      NaN\n",
       " Shopping         -164.99  -59.99  -105.00\n",
       " Soin de santé        NaN     NaN      NaN\n",
       " Sport                NaN     NaN      NaN\n",
       " Transport            NaN     NaN      NaN\n",
       " Vacances             NaN     NaN      NaN\n",
       " Week-end             NaN     NaN      NaN,\n",
       " '2023 April':                     Total    Lucie  Vincent\n",
       " Catégorie                                  \n",
       " Activités             NaN      NaN      NaN\n",
       " Alcool                NaN      NaN      NaN\n",
       " Alimentation      -455.16  -282.03  -173.13\n",
       " Boulangerie         -7.70    -3.85    -3.85\n",
       " Cadeau            1730.00   800.00   930.00\n",
       " Chien            -3115.04 -1557.52 -1557.52\n",
       " Divertissement     -24.39   -17.69    -6.70\n",
       " Espèce                NaN      NaN      NaN\n",
       " Formation             NaN      NaN      NaN\n",
       " Investissement     -30.00   -30.00     0.00\n",
       " Livres                NaN      NaN      NaN\n",
       " Logement          -238.02  -119.01  -119.01\n",
       " Loyer & charges   -828.84  -496.24  -332.60\n",
       " Restaurant & bar  -128.80   -64.40   -64.40\n",
       " Salaire           4776.26  2251.81  2524.45\n",
       " Services           -36.90   -36.90     0.00\n",
       " Shopping           -65.76   -32.88   -32.88\n",
       " Soin de santé         NaN      NaN      NaN\n",
       " Sport              -56.59   -41.59   -15.00\n",
       " Transport         -189.60   -94.80   -94.80\n",
       " Vacances          -363.86  -181.93  -181.93\n",
       " Week-end          -151.78   -75.89   -75.89,\n",
       " '2023 March':                     Total    Lucie  Vincent\n",
       " Catégorie                                  \n",
       " Activités             NaN      NaN      NaN\n",
       " Alcool                NaN      NaN      NaN\n",
       " Alimentation      -335.54  -208.52  -127.02\n",
       " Boulangerie           NaN      NaN      NaN\n",
       " Cadeau                NaN      NaN      NaN\n",
       " Chien              -82.42   -41.21   -41.21\n",
       " Divertissement     -24.48   -24.48     0.00\n",
       " Espèce                NaN      NaN      NaN\n",
       " Formation             NaN      NaN      NaN\n",
       " Investissement     -42.00   -42.00     0.00\n",
       " Livres                NaN      NaN      NaN\n",
       " Logement          -197.28   -98.64   -98.64\n",
       " Loyer & charges   -930.47  -496.24  -434.23\n",
       " Restaurant & bar      NaN      NaN      NaN\n",
       " Salaire           6038.10  2251.81  3786.29\n",
       " Services          -106.00  -106.00     0.00\n",
       " Shopping          -752.34  -149.24  -603.10\n",
       " Soin de santé      -13.64    -7.82    -5.82\n",
       " Sport              -30.00   -15.00   -15.00\n",
       " Transport         -217.96   -73.98  -143.98\n",
       " Vacances         -1466.83  -729.36  -737.47\n",
       " Week-end              NaN      NaN      NaN,\n",
       " '2023 February':                     Total    Lucie  Vincent\n",
       " Catégorie                                  \n",
       " Activités             NaN      NaN      NaN\n",
       " Alcool                NaN      NaN      NaN\n",
       " Alimentation      -243.86  -121.93  -121.93\n",
       " Boulangerie        -62.10   -31.05   -31.05\n",
       " Cadeau              -8.76    -4.38    -4.38\n",
       " Chien                 NaN      NaN      NaN\n",
       " Divertissement    -353.28  -188.88  -164.40\n",
       " Espèce                NaN      NaN      NaN\n",
       " Formation             NaN      NaN      NaN\n",
       " Investissement     -30.00   -30.00     0.00\n",
       " Livres                NaN      NaN      NaN\n",
       " Logement          -169.90   -84.95   -84.95\n",
       " Loyer & charges   -930.73  -496.61  -434.12\n",
       " Restaurant & bar  -181.31   -83.48   -97.83\n",
       " Salaire           5112.27  2251.81  2860.46\n",
       " Services           -40.00     0.00   -40.00\n",
       " Shopping          -197.04   -49.00  -148.04\n",
       " Soin de santé      -38.40   -19.20   -19.20\n",
       " Sport              -30.00   -15.00   -15.00\n",
       " Transport          -70.10   -35.05   -35.05\n",
       " Vacances              NaN      NaN      NaN\n",
       " Week-end          -889.12  -444.56  -444.56,\n",
       " '2023 January':                     Total    Lucie  Vincent\n",
       " Catégorie                                  \n",
       " Activités          -51.00   -25.50   -25.50\n",
       " Alcool             -81.00   -40.50   -40.50\n",
       " Alimentation      -709.84  -370.72  -339.12\n",
       " Boulangerie        -38.60    -3.30   -35.30\n",
       " Cadeau             433.00   -67.00   500.00\n",
       " Chien                 NaN      NaN      NaN\n",
       " Divertissement     -44.48   -34.48   -10.00\n",
       " Espèce            4000.00  2000.00  2000.00\n",
       " Formation             NaN      NaN      NaN\n",
       " Investissement     -30.00   -30.00     0.00\n",
       " Livres                NaN      NaN      NaN\n",
       " Logement           -21.80   -21.80     0.00\n",
       " Loyer & charges  -1057.06  -558.62  -498.44\n",
       " Restaurant & bar   -75.60   -27.00   -48.60\n",
       " Salaire           6249.44  2751.81  3497.63\n",
       " Services           -25.00   -25.00     0.00\n",
       " Shopping          -330.25  -237.75   -92.50\n",
       " Soin de santé         NaN      NaN      NaN\n",
       " Sport              -30.00   -15.00   -15.00\n",
       " Transport         -765.40  -678.03   -87.37\n",
       " Vacances              NaN      NaN      NaN\n",
       " Week-end           -81.02   -40.51   -40.51,\n",
       " '2022 (sum)':                      Total     Lucie   Vincent\n",
       " Catégorie                                     \n",
       " Activités           -78.80    -39.40    -39.40\n",
       " Alcool             -184.14    -74.57   -109.57\n",
       " Alimentation      -3702.59  -1903.04  -1799.55\n",
       " Boulangerie        -158.25   -100.15    -58.10\n",
       " Cadeau            -2188.67  -1136.49  -1052.18\n",
       " Chien                  NaN       NaN       NaN\n",
       " Divertissement     -397.37   -313.54    -83.83\n",
       " Espèce                 NaN       NaN       NaN\n",
       " Formation         -1950.00      0.00  -1950.00\n",
       " Investissement    -5860.00   -360.00  -5500.00\n",
       " Livres             -213.70   -103.88   -109.82\n",
       " Logement           -229.13   -121.54   -107.59\n",
       " Loyer & charges  -12310.10  -6837.91  -5472.19\n",
       " Restaurant & bar  -1318.02   -480.28   -837.74\n",
       " Salaire           60022.34  27122.62  32899.72\n",
       " Services           -552.91   -500.95    -51.96\n",
       " Shopping          -5616.66  -2739.15  -2877.51\n",
       " Soin de santé     -1110.06   -724.62   -385.44\n",
       " Sport             -1615.48   -626.50   -988.98\n",
       " Transport         -1624.21   -912.38   -711.83\n",
       " Vacances         -12684.92  -6241.47  -6443.45\n",
       " Week-end          -2226.64   -856.99  -1369.65,\n",
       " '2022 (mean)':                         Total        Lucie      Vincent\n",
       " Catégorie                                              \n",
       " Activités           -6.566667    -3.283333    -3.283333\n",
       " Alcool             -15.345000    -6.214167    -9.130833\n",
       " Alimentation      -308.549167  -158.586667  -149.962500\n",
       " Boulangerie        -13.187500    -8.345833    -4.841667\n",
       " Cadeau            -182.389167   -94.707500   -87.681667\n",
       " Chien                     NaN          NaN          NaN\n",
       " Divertissement     -33.114167   -26.128333    -6.985833\n",
       " Espèce                    NaN          NaN          NaN\n",
       " Formation         -162.500000     0.000000  -162.500000\n",
       " Investissement    -488.333333   -30.000000  -458.333333\n",
       " Livres             -17.808333    -8.656667    -9.151667\n",
       " Logement           -19.094167   -10.128333    -8.965833\n",
       " Loyer & charges  -1025.841667  -569.825833  -456.015833\n",
       " Restaurant & bar  -109.835000   -40.023333   -69.811667\n",
       " Salaire           5001.861667  2260.218333  2741.643333\n",
       " Services           -46.075833   -41.745833    -4.330000\n",
       " Shopping          -468.055000  -228.262500  -239.792500\n",
       " Soin de santé      -92.505000   -60.385000   -32.120000\n",
       " Sport             -134.623333   -52.208333   -82.415000\n",
       " Transport         -135.350833   -76.031667   -59.319167\n",
       " Vacances         -1057.076667  -520.122500  -536.954167\n",
       " Week-end          -185.553333   -71.415833  -114.137500,\n",
       " '2022 December':                     Total    Lucie  Vincent\n",
       " Catégorie                                  \n",
       " Activités          -34.80   -17.40   -17.40\n",
       " Alcool                NaN      NaN      NaN\n",
       " Alimentation      -175.94   -90.47   -85.47\n",
       " Boulangerie        -45.50   -39.25    -6.25\n",
       " Cadeau           -1011.92  -467.09  -544.83\n",
       " Chien                 NaN      NaN      NaN\n",
       " Divertissement     -24.48   -24.48     0.00\n",
       " Espèce                NaN      NaN      NaN\n",
       " Formation             NaN      NaN      NaN\n",
       " Investissement     -30.00   -30.00     0.00\n",
       " Livres                NaN      NaN      NaN\n",
       " Logement           -13.40    -6.70    -6.70\n",
       " Loyer & charges  -1269.11  -840.18  -428.93\n",
       " Restaurant & bar  -177.98   -44.84  -133.14\n",
       " Salaire           5437.14  2139.43  3297.71\n",
       " Services          -112.10   -91.95   -20.15\n",
       " Shopping          -381.24  -189.22  -192.02\n",
       " Soin de santé         NaN      NaN      NaN\n",
       " Sport              -60.00   -30.00   -30.00\n",
       " Transport         -182.90   -91.45   -91.45\n",
       " Vacances              NaN      NaN      NaN\n",
       " Week-end           -22.00     0.00   -22.00,\n",
       " '2022 November':                     Total    Lucie  Vincent\n",
       " Catégorie                                  \n",
       " Activités             NaN      NaN      NaN\n",
       " Alcool                NaN      NaN      NaN\n",
       " Alimentation      -370.02  -204.86  -165.16\n",
       " Boulangerie        -16.20    -8.10    -8.10\n",
       " Cadeau            -517.70   -27.50  -490.20\n",
       " Chien                 NaN      NaN      NaN\n",
       " Divertissement     -24.48   -24.48     0.00\n",
       " Espèce                NaN      NaN      NaN\n",
       " Formation             NaN      NaN      NaN\n",
       " Investissement     -30.00   -30.00     0.00\n",
       " Livres                NaN      NaN      NaN\n",
       " Logement           -86.00   -43.00   -43.00\n",
       " Loyer & charges  -1267.99  -838.55  -429.44\n",
       " Restaurant & bar  -198.34  -122.47   -75.87\n",
       " Salaire           6489.86  3245.18  3244.68\n",
       " Services              NaN      NaN      NaN\n",
       " Shopping          -352.62  -197.63  -154.99\n",
       " Soin de santé        0.02     0.02     0.00\n",
       " Sport              -30.00   -15.00   -15.00\n",
       " Transport         -112.50   -35.00   -77.50\n",
       " Vacances              NaN      NaN      NaN\n",
       " Week-end          -201.54  -100.77  -100.77,\n",
       " '2022 October':                     Total    Lucie  Vincent\n",
       " Catégorie                                  \n",
       " Activités             NaN      NaN      NaN\n",
       " Alcool                NaN      NaN      NaN\n",
       " Alimentation      -419.76  -214.21  -205.55\n",
       " Boulangerie         -9.00    -4.50    -4.50\n",
       " Cadeau                NaN      NaN      NaN\n",
       " Chien                 NaN      NaN      NaN\n",
       " Divertissement     -29.48   -26.98    -2.50\n",
       " Espèce                NaN      NaN      NaN\n",
       " Formation             NaN      NaN      NaN\n",
       " Investissement     -30.00   -30.00     0.00\n",
       " Livres                NaN      NaN      NaN\n",
       " Logement           -16.12    -8.06    -8.06\n",
       " Loyer & charges  -1182.32  -795.74  -386.58\n",
       " Restaurant & bar   -68.60   -15.80   -52.80\n",
       " Salaire           4265.80  2139.43  2126.37\n",
       " Services          -117.81   -86.00   -31.81\n",
       " Shopping          -138.00   -37.17  -100.83\n",
       " Soin de santé         NaN      NaN      NaN\n",
       " Sport             -111.50  -146.50    35.00\n",
       " Transport             NaN      NaN      NaN\n",
       " Vacances         -2931.40 -1465.70 -1465.70\n",
       " Week-end              NaN      NaN      NaN,\n",
       " '2022 September':                     Total    Lucie  Vincent\n",
       " Catégorie                                  \n",
       " Activités             NaN      NaN      NaN\n",
       " Alcool                NaN      NaN      NaN\n",
       " Alimentation      -161.96   -80.98   -80.98\n",
       " Boulangerie           NaN      NaN      NaN\n",
       " Cadeau                NaN      NaN      NaN\n",
       " Chien                 NaN      NaN      NaN\n",
       " Divertissement     -24.48   -24.48     0.00\n",
       " Espèce                NaN      NaN      NaN\n",
       " Formation             NaN      NaN      NaN\n",
       " Investissement     -30.00   -30.00     0.00\n",
       " Livres                NaN      NaN      NaN\n",
       " Logement              NaN      NaN      NaN\n",
       " Loyer & charges   -592.13  -469.64  -122.49\n",
       " Restaurant & bar   -28.20   -10.00   -18.20\n",
       " Salaire           5646.78  2157.79  3488.99\n",
       " Services           -25.00   -25.00     0.00\n",
       " Shopping          -221.03   -19.23  -201.80\n",
       " Soin de santé      -91.38   -46.30   -45.08\n",
       " Sport              -30.00   -15.00   -15.00\n",
       " Transport         -130.00   -65.00   -65.00\n",
       " Vacances          -177.10   -88.55   -88.55\n",
       " Week-end              NaN      NaN      NaN,\n",
       " '2022 August':                     Total    Lucie  Vincent\n",
       " Catégorie                                  \n",
       " Activités             NaN      NaN      NaN\n",
       " Alcool                NaN      NaN      NaN\n",
       " Alimentation      -386.89  -152.97  -233.92\n",
       " Boulangerie           NaN      NaN      NaN\n",
       " Cadeau             -15.00   -15.00     0.00\n",
       " Chien                 NaN      NaN      NaN\n",
       " Divertissement     -24.48   -24.48     0.00\n",
       " Espèce                NaN      NaN      NaN\n",
       " Formation             NaN      NaN      NaN\n",
       " Investissement    -530.00   -30.00  -500.00\n",
       " Livres                NaN      NaN      NaN\n",
       " Logement              NaN      NaN      NaN\n",
       " Loyer & charges  -1322.64  -548.33  -774.31\n",
       " Restaurant & bar  -126.10   -76.95   -49.15\n",
       " Salaire           4278.46  2132.03  2146.43\n",
       " Services           -25.00   -25.00     0.00\n",
       " Shopping         -1225.48  -603.46  -622.02\n",
       " Soin de santé       29.90    29.90     0.00\n",
       " Sport             -828.99     0.00  -828.99\n",
       " Transport         -279.27  -179.77   -99.50\n",
       " Vacances         -5413.17 -2706.60 -2706.57\n",
       " Week-end         -1032.76  -481.54  -551.22,\n",
       " '2022 July':                     Total    Lucie  Vincent\n",
       " Catégorie                                  \n",
       " Activités             NaN      NaN      NaN\n",
       " Alcool            -100.00   -50.00   -50.00\n",
       " Alimentation      -357.58  -213.04  -144.54\n",
       " Boulangerie           NaN      NaN      NaN\n",
       " Cadeau            -298.00  -149.00  -149.00\n",
       " Chien                 NaN      NaN      NaN\n",
       " Divertissement     -31.47   -24.48    -6.99\n",
       " Espèce                NaN      NaN      NaN\n",
       " Formation             NaN      NaN      NaN\n",
       " Investissement   -1530.00   -30.00 -1500.00\n",
       " Livres                NaN      NaN      NaN\n",
       " Logement              NaN      NaN      NaN\n",
       " Loyer & charges   -919.58  -488.57  -431.01\n",
       " Restaurant & bar   -38.00   -19.00   -19.00\n",
       " Salaire           6038.06  2132.03  3906.03\n",
       " Services           -52.00   -52.00     0.00\n",
       " Shopping          -418.50  -222.00  -196.50\n",
       " Soin de santé     -423.34  -266.22  -157.12\n",
       " Sport              -29.99     0.00   -29.99\n",
       " Transport         -140.02   -65.01   -75.01\n",
       " Vacances           250.00   250.00     0.00\n",
       " Week-end          -216.10  -108.05  -108.05,\n",
       " '2022 June':                     Total    Lucie  Vincent\n",
       " Catégorie                                  \n",
       " Activités             NaN      NaN      NaN\n",
       " Alcool                NaN      NaN      NaN\n",
       " Alimentation      -335.59  -187.48  -148.11\n",
       " Boulangerie        -44.20   -44.20     0.00\n",
       " Cadeau             -51.98    -5.99   -45.99\n",
       " Chien                 NaN      NaN      NaN\n",
       " Divertissement     -28.48   -26.48    -2.00\n",
       " Espèce                NaN      NaN      NaN\n",
       " Formation             NaN      NaN      NaN\n",
       " Investissement     -30.00   -30.00     0.00\n",
       " Livres             -27.40   -27.40     0.00\n",
       " Logement           -30.64   -15.32   -15.32\n",
       " Loyer & charges  -1386.58  -515.31  -871.27\n",
       " Restaurant & bar   -65.50   -17.75   -47.75\n",
       " Salaire           6614.81  3234.08  3380.73\n",
       " Services           -25.00   -25.00     0.00\n",
       " Shopping         -1596.07  -767.15  -828.92\n",
       " Soin de santé     -330.96  -283.72   -47.24\n",
       " Sport              -30.00   -15.00   -15.00\n",
       " Transport         -323.76  -161.88  -161.88\n",
       " Vacances              NaN      NaN      NaN\n",
       " Week-end          -131.75     0.00  -131.75,\n",
       " '2022 May':                     Total    Lucie  Vincent\n",
       " Catégorie                                  \n",
       " Activités          -44.00   -22.00   -22.00\n",
       " Alcool             -35.00     0.00   -35.00\n",
       " Alimentation      -349.12  -139.56  -209.56\n",
       " Boulangerie         -8.20    -4.10    -4.10\n",
       " Cadeau            -189.75    -9.75  -180.00\n",
       " Chien                 NaN      NaN      NaN\n",
       " Divertissement     -94.48   -59.48   -35.00\n",
       " Espèce                NaN      NaN      NaN\n",
       " Formation         -150.00     0.00  -150.00\n",
       " Investissement    -530.00   -30.00  -500.00\n",
       " Livres            -157.34   -55.00  -102.34\n",
       " Logement              NaN      NaN      NaN\n",
       " Loyer & charges   -923.83  -490.81  -433.02\n",
       " Restaurant & bar  -139.08   -89.54   -49.54\n",
       " Salaire           4657.44  1988.53  2668.91\n",
       " Services           -42.00   -42.00     0.00\n",
       " Shopping          -714.84  -323.87  -390.97\n",
       " Soin de santé     -198.53  -128.50   -70.03\n",
       " Sport             -109.00   -94.00   -15.00\n",
       " Transport          -81.24   -40.62   -40.62\n",
       " Vacances              NaN      NaN      NaN\n",
       " Week-end          -135.26   -67.63   -67.63,\n",
       " '2022 April':                     Total    Lucie  Vincent\n",
       " Catégorie                                  \n",
       " Activités             NaN      NaN      NaN\n",
       " Alcool             -49.14   -24.57   -24.57\n",
       " Alimentation      -341.67  -197.44  -144.23\n",
       " Boulangerie           NaN      NaN      NaN\n",
       " Cadeau            -125.00   -47.50   -77.50\n",
       " Chien                 NaN      NaN      NaN\n",
       " Divertissement     -40.07   -24.48   -15.59\n",
       " Espèce                NaN      NaN      NaN\n",
       " Formation             NaN      NaN      NaN\n",
       " Investissement   -2030.00   -30.00 -2000.00\n",
       " Livres                NaN      NaN      NaN\n",
       " Logement           -79.53   -46.74   -32.79\n",
       " Loyer & charges   -867.03  -464.57  -402.46\n",
       " Restaurant & bar  -181.36   -36.50  -144.86\n",
       " Salaire           4097.72  1988.53  2109.19\n",
       " Services           -30.00   -30.00     0.00\n",
       " Shopping           -93.99   -57.49   -36.50\n",
       " Soin de santé      -46.47     0.00   -46.47\n",
       " Sport             -119.00   -89.00   -30.00\n",
       " Transport          -70.12   -35.06   -35.06\n",
       " Vacances            60.00  -125.00   185.00\n",
       " Week-end          -179.13     0.00  -179.13,\n",
       " '2022 March':                     Total    Lucie  Vincent\n",
       " Catégorie                                  \n",
       " Activités             NaN      NaN      NaN\n",
       " Alcool                NaN      NaN      NaN\n",
       " Alimentation      -245.08  -122.54  -122.54\n",
       " Boulangerie        -30.00     0.00   -30.00\n",
       " Cadeau             210.00  -300.00   510.00\n",
       " Chien                 NaN      NaN      NaN\n",
       " Divertissement     -24.49   -17.74    -6.75\n",
       " Espèce                NaN      NaN      NaN\n",
       " Formation             NaN      NaN      NaN\n",
       " Investissement    -530.00   -30.00  -500.00\n",
       " Livres                NaN      NaN      NaN\n",
       " Logement            -3.44    -1.72    -1.72\n",
       " Loyer & charges   -857.63  -462.07  -395.56\n",
       " Restaurant & bar   -40.50   -20.50   -20.00\n",
       " Salaire           4390.54  1988.53  2402.01\n",
       " Services           -99.00   -99.00     0.00\n",
       " Shopping          -152.94   -12.98  -139.96\n",
       " Soin de santé      -29.80   -29.80     0.00\n",
       " Sport              -89.00   -74.00   -15.00\n",
       " Transport          -65.60   -32.80   -32.80\n",
       " Vacances         -1635.75  -686.87  -948.88\n",
       " Week-end          -176.30   -33.10  -143.20,\n",
       " '2022 February':                     Total    Lucie  Vincent\n",
       " Catégorie                                  \n",
       " Activités             NaN      NaN      NaN\n",
       " Alcool                NaN      NaN      NaN\n",
       " Alimentation      -338.26  -179.13  -159.13\n",
       " Boulangerie           NaN      NaN      NaN\n",
       " Cadeau             -75.00   -50.00   -25.00\n",
       " Chien                 NaN      NaN      NaN\n",
       " Divertissement     -24.49   -17.74    -6.75\n",
       " Espèce                NaN      NaN      NaN\n",
       " Formation             NaN      NaN      NaN\n",
       " Investissement    -530.00   -30.00  -500.00\n",
       " Livres             -14.00   -14.00     0.00\n",
       " Logement              NaN      NaN      NaN\n",
       " Loyer & charges   -857.63  -462.07  -395.56\n",
       " Restaurant & bar  -200.50     0.00  -200.50\n",
       " Salaire           4097.72  1988.53  2109.19\n",
       " Services              NaN      NaN      NaN\n",
       " Shopping           -25.00   -25.00     0.00\n",
       " Soin de santé         NaN      NaN      NaN\n",
       " Sport              -89.00   -74.00   -15.00\n",
       " Transport          -66.02   -33.01   -33.01\n",
       " Vacances         -2837.50 -1418.75 -1418.75\n",
       " Week-end          -131.80   -65.90   -65.90,\n",
       " '2022 January':                     Total    Lucie  Vincent\n",
       " Catégorie                                  \n",
       " Activités             NaN      NaN      NaN\n",
       " Alcool                NaN      NaN      NaN\n",
       " Alimentation      -220.72  -120.36  -100.36\n",
       " Boulangerie         -5.15     0.00    -5.15\n",
       " Cadeau            -114.32   -64.66   -49.66\n",
       " Chien                 NaN      NaN      NaN\n",
       " Divertissement     -26.49   -18.24    -8.25\n",
       " Espèce                NaN      NaN      NaN\n",
       " Formation        -1800.00     0.00 -1800.00\n",
       " Investissement     -30.00   -30.00     0.00\n",
       " Livres             -14.96    -7.48    -7.48\n",
       " Logement              NaN      NaN      NaN\n",
       " Loyer & charges   -863.63  -462.07  -401.56\n",
       " Restaurant & bar   -53.86   -26.93   -26.93\n",
       " Salaire           4008.01  1988.53  2019.48\n",
       " Services           -25.00   -25.00     0.00\n",
       " Shopping          -296.95  -283.95   -13.00\n",
       " Soin de santé      -19.50     0.00   -19.50\n",
       " Sport              -89.00   -74.00   -15.00\n",
       " Transport         -172.78  -172.78     0.00\n",
       " Vacances              NaN      NaN      NaN\n",
       " Week-end              NaN      NaN      NaN,\n",
       " '2021 (sum)':                      Total     Lucie   Vincent\n",
       " Catégorie                                     \n",
       " Activités          -211.38    -68.19   -143.19\n",
       " Alcool             -166.24    -73.12    -93.12\n",
       " Alimentation      -2512.15  -1159.68  -1352.47\n",
       " Boulangerie         -37.20      0.00    -37.20\n",
       " Cadeau              -69.19   -292.50    223.31\n",
       " Chien                  NaN       NaN       NaN\n",
       " Divertissement     -286.68   -208.28    -78.40\n",
       " Espèce                 NaN       NaN       NaN\n",
       " Formation              NaN       NaN       NaN\n",
       " Investissement    -4680.00  -1180.00  -3500.00\n",
       " Livres             -126.25    -22.95   -103.30\n",
       " Logement           -834.89   -278.70   -556.19\n",
       " Loyer & charges   -6750.71  -3260.87  -3489.84\n",
       " Restaurant & bar  -1188.63   -528.81   -659.82\n",
       " Salaire           28470.12  13971.51  14498.61\n",
       " Services           -354.45   -331.75    -22.70\n",
       " Shopping           -880.92   -630.92   -250.00\n",
       " Soin de santé      -127.06    -92.37    -34.69\n",
       " Sport             -1068.00  -1038.00    -30.00\n",
       " Transport          -624.26   -351.85   -272.41\n",
       " Vacances           -834.30   -834.30      0.00\n",
       " Week-end          -2342.33  -1091.47  -1250.86,\n",
       " '2021 (mean)':                         Total        Lucie      Vincent\n",
       " Catégorie                                              \n",
       " Activités          -30.197143    -9.741429   -20.455714\n",
       " Alcool             -23.748571   -10.445714   -13.302857\n",
       " Alimentation      -358.878571  -165.668571  -193.210000\n",
       " Boulangerie         -5.314286     0.000000    -5.314286\n",
       " Cadeau              -9.884286   -41.785714    31.901429\n",
       " Chien                     NaN          NaN          NaN\n",
       " Divertissement     -40.954286   -29.754286   -11.200000\n",
       " Espèce                    NaN          NaN          NaN\n",
       " Formation                 NaN          NaN          NaN\n",
       " Investissement    -668.571429  -168.571429  -500.000000\n",
       " Livres             -18.035714    -3.278571   -14.757143\n",
       " Logement          -119.270000   -39.814286   -79.455714\n",
       " Loyer & charges   -964.387143  -465.838571  -498.548571\n",
       " Restaurant & bar  -169.804286   -75.544286   -94.260000\n",
       " Salaire           4067.160000  1995.930000  2071.230000\n",
       " Services           -50.635714   -47.392857    -3.242857\n",
       " Shopping          -125.845714   -90.131429   -35.714286\n",
       " Soin de santé      -18.151429   -13.195714    -4.955714\n",
       " Sport             -152.571429  -148.285714    -4.285714\n",
       " Transport          -89.180000   -50.264286   -38.915714\n",
       " Vacances          -119.185714  -119.185714     0.000000\n",
       " Week-end          -334.618571  -155.924286  -178.694286,\n",
       " '2021 December':                     Total    Lucie  Vincent\n",
       " Catégorie                                  \n",
       " Activités          -75.00     0.00   -75.00\n",
       " Alcool                NaN      NaN      NaN\n",
       " Alimentation      -215.44   -62.72  -152.72\n",
       " Boulangerie           NaN      NaN      NaN\n",
       " Cadeau             -42.50  -292.50   250.00\n",
       " Chien                 NaN      NaN      NaN\n",
       " Divertissement     -86.19   -48.09   -38.10\n",
       " Espèce                NaN      NaN      NaN\n",
       " Formation             NaN      NaN      NaN\n",
       " Investissement   -1030.00   -30.00 -1000.00\n",
       " Livres                NaN      NaN      NaN\n",
       " Logement           -15.00    -7.50    -7.50\n",
       " Loyer & charges   -931.25  -498.88  -432.37\n",
       " Restaurant & bar  -143.50   -61.30   -82.20\n",
       " Salaire           3409.06  1471.34  1937.72\n",
       " Services           -30.00   -30.00     0.00\n",
       " Shopping           -46.00   -46.00     0.00\n",
       " Soin de santé      -52.84   -39.52   -13.32\n",
       " Sport              -89.00   -74.00   -15.00\n",
       " Transport         -175.36  -139.15   -36.21\n",
       " Vacances          -834.30  -834.30     0.00\n",
       " Week-end          -884.65  -384.25  -500.40,\n",
       " '2021 November':                     Total    Lucie  Vincent\n",
       " Catégorie                                  \n",
       " Activités             NaN      NaN      NaN\n",
       " Alcool             -13.84    -6.92    -6.92\n",
       " Alimentation      -243.14  -141.57  -101.57\n",
       " Boulangerie           NaN      NaN      NaN\n",
       " Cadeau                NaN      NaN      NaN\n",
       " Chien                 NaN      NaN      NaN\n",
       " Divertissement     -50.29   -30.14   -20.15\n",
       " Espèce                NaN      NaN      NaN\n",
       " Formation             NaN      NaN      NaN\n",
       " Investissement    -530.00   -30.00  -500.00\n",
       " Livres                NaN      NaN      NaN\n",
       " Logement              NaN      NaN      NaN\n",
       " Loyer & charges   -973.71  -520.11  -453.60\n",
       " Restaurant & bar  -124.50   -51.75   -72.75\n",
       " Salaire           5168.69  2446.54  2722.15\n",
       " Services              NaN      NaN      NaN\n",
       " Shopping          -162.99    -7.99  -155.00\n",
       " Soin de santé      -12.90   -12.90     0.00\n",
       " Sport             -134.00  -119.00   -15.00\n",
       " Transport          -65.74   -32.87   -32.87\n",
       " Vacances              NaN      NaN      NaN\n",
       " Week-end          -131.86   -26.65  -105.21,\n",
       " '2021 October':                     Total    Lucie  Vincent\n",
       " Catégorie                                  \n",
       " Activités             NaN      NaN      NaN\n",
       " Alcool             -20.00     0.00   -20.00\n",
       " Alimentation      -497.22  -227.79  -269.43\n",
       " Boulangerie           NaN      NaN      NaN\n",
       " Cadeau                NaN      NaN      NaN\n",
       " Chien                 NaN      NaN      NaN\n",
       " Divertissement     -23.49   -16.74    -6.75\n",
       " Espèce                NaN      NaN      NaN\n",
       " Formation             NaN      NaN      NaN\n",
       " Investissement   -1530.00 -1030.00  -500.00\n",
       " Livres             -53.90    -2.45   -51.45\n",
       " Logement           -41.62   -20.81   -20.81\n",
       " Loyer & charges   -970.25  -523.38  -446.87\n",
       " Restaurant & bar  -150.20   -70.70   -79.50\n",
       " Salaire           3444.20  1471.34  1972.86\n",
       " Services          -174.00  -174.00     0.00\n",
       " Shopping          -252.95  -252.95     0.00\n",
       " Soin de santé       -8.36    -4.18    -4.18\n",
       " Sport              -59.00   -59.00     0.00\n",
       " Transport          -13.40    -3.20   -10.20\n",
       " Vacances              NaN      NaN      NaN\n",
       " Week-end          -488.11  -347.20  -140.91,\n",
       " '2021 September':                     Total    Lucie  Vincent\n",
       " Catégorie                                  \n",
       " Activités             NaN      NaN      NaN\n",
       " Alcool                NaN      NaN      NaN\n",
       " Alimentation      -378.43  -184.73  -193.70\n",
       " Boulangerie        -23.40     0.00   -23.40\n",
       " Cadeau                NaN      NaN      NaN\n",
       " Chien                 NaN      NaN      NaN\n",
       " Divertissement     -60.77   -47.37   -13.40\n",
       " Espèce                NaN      NaN      NaN\n",
       " Formation             NaN      NaN      NaN\n",
       " Investissement     -30.00   -30.00     0.00\n",
       " Livres             -20.50   -20.50     0.00\n",
       " Logement           -69.95     0.00   -69.95\n",
       " Loyer & charges  -1427.99  -433.84  -994.15\n",
       " Restaurant & bar  -169.70   -91.80   -77.90\n",
       " Salaire           3409.06  1471.34  1937.72\n",
       " Services           -92.00   -92.00     0.00\n",
       " Shopping          -172.99  -172.99     0.00\n",
       " Soin de santé         NaN      NaN      NaN\n",
       " Sport              -64.00   -64.00     0.00\n",
       " Transport         -125.84   -62.92   -62.92\n",
       " Vacances              NaN      NaN      NaN\n",
       " Week-end           -41.91   -41.91     0.00,\n",
       " '2021 August':                     Total    Lucie  Vincent\n",
       " Catégorie                                  \n",
       " Activités             NaN      NaN      NaN\n",
       " Alcool            -132.40   -66.20   -66.20\n",
       " Alimentation      -371.69  -192.87  -178.82\n",
       " Boulangerie           NaN      NaN      NaN\n",
       " Cadeau             -26.69     0.00   -26.69\n",
       " Chien                 NaN      NaN      NaN\n",
       " Divertissement     -21.98   -21.98     0.00\n",
       " Espèce                NaN      NaN      NaN\n",
       " Formation             NaN      NaN      NaN\n",
       " Investissement    -530.00   -30.00  -500.00\n",
       " Livres                NaN      NaN      NaN\n",
       " Logement          -506.70   -95.13  -411.57\n",
       " Loyer & charges   -814.35  -438.34  -376.01\n",
       " Restaurant & bar   -58.61   -45.61   -13.00\n",
       " Salaire           3973.25  2035.53  1937.72\n",
       " Services           -35.75   -35.75     0.00\n",
       " Shopping           -52.00   -52.00     0.00\n",
       " Soin de santé      -12.88    -6.44    -6.44\n",
       " Sport             -174.00  -174.00     0.00\n",
       " Transport         -117.42   -58.71   -58.71\n",
       " Vacances              NaN      NaN      NaN\n",
       " Week-end          -106.36   -53.18   -53.18,\n",
       " '2021 July':                     Total    Lucie  Vincent\n",
       " Catégorie                                  \n",
       " Activités         -136.38   -68.19   -68.19\n",
       " Alcool                NaN      NaN      NaN\n",
       " Alimentation      -364.26  -157.13  -207.13\n",
       " Boulangerie        -13.80     0.00   -13.80\n",
       " Cadeau                NaN      NaN      NaN\n",
       " Chien                 NaN      NaN      NaN\n",
       " Divertissement     -21.98   -21.98     0.00\n",
       " Espèce                NaN      NaN      NaN\n",
       " Formation             NaN      NaN      NaN\n",
       " Investissement    -500.00     0.00  -500.00\n",
       " Livres                NaN      NaN      NaN\n",
       " Logement           -50.16   -40.03   -10.13\n",
       " Loyer & charges   -805.67  -433.84  -371.83\n",
       " Restaurant & bar  -358.00  -115.65  -242.35\n",
       " Salaire           3973.25  2035.53  1937.72\n",
       " Services           -22.70     0.00   -22.70\n",
       " Shopping           -85.00     0.00   -85.00\n",
       " Soin de santé         NaN      NaN      NaN\n",
       " Sport             -429.00  -429.00     0.00\n",
       " Transport          -65.00   -32.50   -32.50\n",
       " Vacances              NaN      NaN      NaN\n",
       " Week-end          -152.52  -121.02   -31.50,\n",
       " '2021 June':                     Total    Lucie  Vincent\n",
       " Catégorie                                  \n",
       " Activités             NaN      NaN      NaN\n",
       " Alcool                NaN      NaN      NaN\n",
       " Alimentation      -441.97  -192.87  -249.10\n",
       " Boulangerie           NaN      NaN      NaN\n",
       " Cadeau                NaN      NaN      NaN\n",
       " Chien                 NaN      NaN      NaN\n",
       " Divertissement     -21.98   -21.98     0.00\n",
       " Espèce                NaN      NaN      NaN\n",
       " Formation             NaN      NaN      NaN\n",
       " Investissement    -530.00   -30.00  -500.00\n",
       " Livres             -51.85     0.00   -51.85\n",
       " Logement          -151.46  -115.23   -36.23\n",
       " Loyer & charges   -827.49  -412.48  -415.01\n",
       " Restaurant & bar  -184.12   -92.00   -92.12\n",
       " Salaire           5092.61  3039.89  2052.72\n",
       " Services              NaN      NaN      NaN\n",
       " Shopping          -108.99   -98.99   -10.00\n",
       " Soin de santé      -40.08   -29.33   -10.75\n",
       " Sport             -119.00  -119.00     0.00\n",
       " Transport          -61.50   -22.50   -39.00\n",
       " Vacances              NaN      NaN      NaN\n",
       " Week-end          -536.92  -117.26  -419.66}"
      ]
     },
     "execution_count": 10,
     "metadata": {},
     "output_type": "execute_result"
    }
   ],
   "source": [
    "detail"
   ]
  }
 ],
 "metadata": {
  "kernelspec": {
   "display_name": ".env",
   "language": "python",
   "name": "python3"
  },
  "language_info": {
   "codemirror_mode": {
    "name": "ipython",
    "version": 3
   },
   "file_extension": ".py",
   "mimetype": "text/x-python",
   "name": "python",
   "nbconvert_exporter": "python",
   "pygments_lexer": "ipython3",
   "version": "3.10.9"
  },
  "orig_nbformat": 4,
  "vscode": {
   "interpreter": {
    "hash": "e0e94819156be55a28bfd803e01ad2b3b7815826841d5d8114b63fb17f9e909b"
   }
  }
 },
 "nbformat": 4,
 "nbformat_minor": 2
}
