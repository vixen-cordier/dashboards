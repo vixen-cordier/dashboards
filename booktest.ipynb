{
 "cells": [
  {
   "cell_type": "code",
   "execution_count": 1,
   "metadata": {},
   "outputs": [
    {
     "data": {
      "text/plain": [
       "array(['DMA', 'ZEN'], dtype=object)"
      ]
     },
     "execution_count": 1,
     "metadata": {},
     "output_type": "execute_result"
    }
   ],
   "source": [
    "import streamlit as st\n",
    "import gspread as gs \n",
    "import pandas as pd\n",
    "import numpy as np\n",
    "import yfinance as yf\n",
    "import plotly.graph_objects as go\n",
    "from typing import Dict\n",
    "\n",
    "gc = gs.service_account_from_dict(st.secrets['gcp_service_account'])\n",
    "ss = gc.open_by_key(st.secrets['portfolio'].spreadsheet_key)\n",
    "ws_operation = ss.worksheet('Operations')\n",
    "ope = pd.DataFrame(ws_operation.get_all_records()).sort_values('Date').astype({'Date': 'datetime64[ns]'}).set_index('Date')\n"
   ]
  },
  {
   "cell_type": "code",
   "execution_count": 15,
   "metadata": {},
   "outputs": [
    {
     "data": {
      "text/plain": [
       "[1, 1, 8]"
      ]
     },
     "execution_count": 15,
     "metadata": {},
     "output_type": "execute_result"
    }
   ],
   "source": [
    "ptfs = np.unique(ope['Portfolio'])\n",
    "[1 for col in range(len(ptfs))] + [10 - len(ptfs)]"
   ]
  },
  {
   "cell_type": "code",
   "execution_count": 33,
   "metadata": {},
   "outputs": [
    {
     "name": "stdout",
     "output_type": "stream",
     "text": [
      "[*********************100%***********************]  3 of 3 completed\n",
      "[*********************100%***********************]  2 of 2 completed\n",
      " DMA\n",
      "   €\n",
      " ZEN\n",
      "   $\n",
      "   BTC\n",
      "   ESE\n",
      "   GOLD\n",
      "   GREENBULL\n",
      "   USDT\n",
      "   €\n"
     ]
    },
    {
     "name": "stderr",
     "output_type": "stream",
     "text": [
      "c:\\Users\\vcordier\\Documents\\MesDocuments\\dev\\test\\dashboards\\app.py:84: PerformanceWarning: indexing past lexsort depth may impact performance.\n",
      "  df['DepositEUR', portfolio, 'All'] = df['DepositEUR', portfolio].sum(axis=1)\n",
      "c:\\Users\\vcordier\\Documents\\MesDocuments\\dev\\test\\dashboards\\app.py:84: PerformanceWarning: indexing past lexsort depth may impact performance.\n",
      "  df['DepositEUR', portfolio, 'All'] = df['DepositEUR', portfolio].sum(axis=1)\n",
      "c:\\Users\\vcordier\\Documents\\MesDocuments\\dev\\test\\dashboards\\app.py:86: PerformanceWarning: indexing past lexsort depth may impact performance.\n",
      "  df['InvestedEUR', portfolio, 'All'] = df['InvestedEUR', portfolio].sum(axis=1)\n",
      "c:\\Users\\vcordier\\Documents\\MesDocuments\\dev\\test\\dashboards\\app.py:88: PerformanceWarning: indexing past lexsort depth may impact performance.\n",
      "  df['ValueEUR', portfolio, 'All'] = df['ValueEUR', portfolio].sum(axis=1)\n",
      "c:\\Users\\vcordier\\Documents\\MesDocuments\\dev\\test\\dashboards\\app.py:90: PerformanceWarning: indexing past lexsort depth may impact performance.\n",
      "  df['PnLEUR', portfolio, 'All'] = df['PnLEUR', portfolio].sum(axis=1)\n",
      "2022-12-20 14:40:41.187 \n",
      "  \u001b[33m\u001b[1mWarning:\u001b[0m to view this Streamlit app on a browser, run it with the following\n",
      "  command:\n",
      "\n",
      "    streamlit run c:\\Users\\vcordier\\Documents\\MesDocuments\\dev\\test\\dashboards\\.env\\lib\\site-packages\\ipykernel_launcher.py [ARGUMENTS]\n",
      "c:\\Users\\vcordier\\Documents\\MesDocuments\\dev\\test\\dashboards\\app.py:137: PerformanceWarning:\n",
      "\n",
      "indexing past lexsort depth may impact performance.\n",
      "\n",
      "2022-12-20 14:40:41.388 Applying automatic fixes for column types to make the dataframe Arrow-compatible.\n"
     ]
    },
    {
     "name": "stdout",
     "output_type": "stream",
     "text": [
      "BTC\n",
      "ESE\n",
      "GOLD\n",
      "GREENBULL\n",
      "All\n",
      "[*********************100%***********************]  3 of 3 completed\n",
      "[*********************100%***********************]  2 of 2 completed\n",
      " DMA\n",
      "   €\n",
      " ZEN\n",
      "   $\n",
      "   BTC\n",
      "   ESE\n",
      "   GOLD\n",
      "   GREENBULL\n",
      "   USDT\n",
      "   €\n"
     ]
    },
    {
     "name": "stderr",
     "output_type": "stream",
     "text": [
      "c:\\Users\\vcordier\\Documents\\MesDocuments\\dev\\test\\dashboards\\app.py:84: PerformanceWarning:\n",
      "\n",
      "indexing past lexsort depth may impact performance.\n",
      "\n",
      "c:\\Users\\vcordier\\Documents\\MesDocuments\\dev\\test\\dashboards\\app.py:84: PerformanceWarning:\n",
      "\n",
      "indexing past lexsort depth may impact performance.\n",
      "\n",
      "c:\\Users\\vcordier\\Documents\\MesDocuments\\dev\\test\\dashboards\\app.py:86: PerformanceWarning:\n",
      "\n",
      "indexing past lexsort depth may impact performance.\n",
      "\n",
      "c:\\Users\\vcordier\\Documents\\MesDocuments\\dev\\test\\dashboards\\app.py:88: PerformanceWarning:\n",
      "\n",
      "indexing past lexsort depth may impact performance.\n",
      "\n",
      "c:\\Users\\vcordier\\Documents\\MesDocuments\\dev\\test\\dashboards\\app.py:90: PerformanceWarning:\n",
      "\n",
      "indexing past lexsort depth may impact performance.\n",
      "\n"
     ]
    }
   ],
   "source": [
    "from app import *\n",
    "sheets = extract_sheets()\n",
    "market = fetch_market(sheets['Dicts']['assets'], sheets['Others'])\n",
    "forex = fetch_forex(sheets['Dicts']['depots'])\n",
    "data = build_metrics(sheets['Dicts']['assets'], market, sheets['Dicts']['depots'], forex, sheets['Operation'])"
   ]
  },
  {
   "cell_type": "code",
   "execution_count": 44,
   "metadata": {},
   "outputs": [
    {
     "ename": "AttributeError",
     "evalue": "'DataFrame' object has no attribute 'get_level'",
     "output_type": "error",
     "traceback": [
      "\u001b[1;31m---------------------------------------------------------------------------\u001b[0m",
      "\u001b[1;31mAttributeError\u001b[0m                            Traceback (most recent call last)",
      "Cell \u001b[1;32mIn [44], line 1\u001b[0m\n\u001b[1;32m----> 1\u001b[0m data\u001b[39m.\u001b[39;49mget_level(\u001b[39m0\u001b[39m)\n",
      "File \u001b[1;32mc:\\Users\\vcordier\\Documents\\MesDocuments\\dev\\test\\dashboards\\.env\\lib\\site-packages\\pandas\\core\\generic.py:5575\u001b[0m, in \u001b[0;36mNDFrame.__getattr__\u001b[1;34m(self, name)\u001b[0m\n\u001b[0;32m   5568\u001b[0m \u001b[39mif\u001b[39;00m (\n\u001b[0;32m   5569\u001b[0m     name \u001b[39mnot\u001b[39;00m \u001b[39min\u001b[39;00m \u001b[39mself\u001b[39m\u001b[39m.\u001b[39m_internal_names_set\n\u001b[0;32m   5570\u001b[0m     \u001b[39mand\u001b[39;00m name \u001b[39mnot\u001b[39;00m \u001b[39min\u001b[39;00m \u001b[39mself\u001b[39m\u001b[39m.\u001b[39m_metadata\n\u001b[0;32m   5571\u001b[0m     \u001b[39mand\u001b[39;00m name \u001b[39mnot\u001b[39;00m \u001b[39min\u001b[39;00m \u001b[39mself\u001b[39m\u001b[39m.\u001b[39m_accessors\n\u001b[0;32m   5572\u001b[0m     \u001b[39mand\u001b[39;00m \u001b[39mself\u001b[39m\u001b[39m.\u001b[39m_info_axis\u001b[39m.\u001b[39m_can_hold_identifiers_and_holds_name(name)\n\u001b[0;32m   5573\u001b[0m ):\n\u001b[0;32m   5574\u001b[0m     \u001b[39mreturn\u001b[39;00m \u001b[39mself\u001b[39m[name]\n\u001b[1;32m-> 5575\u001b[0m \u001b[39mreturn\u001b[39;00m \u001b[39mobject\u001b[39;49m\u001b[39m.\u001b[39;49m\u001b[39m__getattribute__\u001b[39;49m(\u001b[39mself\u001b[39;49m, name)\n",
      "\u001b[1;31mAttributeError\u001b[0m: 'DataFrame' object has no attribute 'get_level'"
     ]
    }
   ],
   "source": [
    "data.get_level(0)"
   ]
  },
  {
   "cell_type": "code",
   "execution_count": null,
   "metadata": {},
   "outputs": [],
   "source": []
  }
 ],
 "metadata": {
  "kernelspec": {
   "display_name": ".env",
   "language": "python",
   "name": "python3"
  },
  "language_info": {
   "codemirror_mode": {
    "name": "ipython",
    "version": 3
   },
   "file_extension": ".py",
   "mimetype": "text/x-python",
   "name": "python",
   "nbconvert_exporter": "python",
   "pygments_lexer": "ipython3",
   "version": "3.10.5"
  },
  "orig_nbformat": 4,
  "vscode": {
   "interpreter": {
    "hash": "804e7ee1804460a5d49adb8f72a7787217750747c314b60956905ff5648956bd"
   }
  }
 },
 "nbformat": 4,
 "nbformat_minor": 2
}
