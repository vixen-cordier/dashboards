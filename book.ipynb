{
 "cells": [
  {
   "cell_type": "code",
   "execution_count": 1,
   "metadata": {},
   "outputs": [],
   "source": [
    "%load_ext autoreload\n",
    "%autoreload 2\n",
    "\n",
    "from api_tricount import *\n"
   ]
  },
  {
   "cell_type": "code",
   "execution_count": 2,
   "metadata": {},
   "outputs": [
    {
     "name": "stdout",
     "output_type": "stream",
     "text": [
      "\n",
      "    # --------------------------------- #\n",
      "    # Connection to Google Sheet        #\n",
      "    # and extract Spreadsheets          #\n",
      "    #  - exported tricount data         #\n",
      "    #  - category dictonnary            #\n",
      "    # --------------------------------- #\n",
      "    \n",
      " -- data fetched\n",
      "(1023, 17)\n",
      "Index(['Unnamed: 0', 'Titre', 'Montant', 'Devise', 'Taux de change',\n",
      "       'Montant dans la devise du tricount (EUR)', 'Type de transaction',\n",
      "       'Catégorie', 'Payé par', 'Payé par Commun', 'Payé par Lucie',\n",
      "       'Payé par Vincent', 'Impacté à Commun', 'Impacté à Lucie',\n",
      "       'Impacté à Vincent', 'Date & heure', 'URL des images'],\n",
      "      dtype='object')\n",
      " -- dict fetched \n",
      "{'Alimentation': 'Quotidien', 'Shopping': 'Achats', 'Logement': 'Achats', 'Loyer & charges': 'Quotidien', 'Divertissement': 'Extra', 'Sport': 'Loisir', 'Restaurant & bar': 'Extra', 'Investissement': 'Investissement', 'Transport': 'Quotidien', 'Week-end': 'Loisir', 'Soin de santé': 'Quotidien', 'Livres': 'Achats', 'Activités': 'Loisir', 'Boulangerie': 'Quotidien', 'Salaire': \"Rentrée d'argent\", 'Services': 'Quotidien', 'Alcool': 'Extra', 'Cadeau': 'Achats', 'Vacances': 'Loisir', 'Formation': 'Investissement'}\n",
      "\n",
      "    # --------------------------------- #\n",
      "    # Filter, clean and aggregate data  #\n",
      "    # --------------------------------- #\n",
      "    \n",
      " -- data built\n",
      "(281, 3)\n",
      "Index(['Lucie', 'Vincent', 'Total'], dtype='object')\n",
      "\n",
      "    # --------------------------------- #\n",
      "    # Format and split data             #\n",
      "    # by date and categories            #\n",
      "    # --------------------------------- #\n",
      "    \n",
      "\n",
      "    # --------------------------------- #\n",
      "    # Build the overview result         #\n",
      "    # --------------------------------- #\n",
      "    \n"
     ]
    }
   ],
   "source": [
    "\n",
    "data, dict = fetch_data()\n",
    "data = build_data(data)\n",
    "detail = split_data(data, dict)\n",
    "postes, result = concat_data(detail, dict)\n"
   ]
  },
  {
   "cell_type": "code",
   "execution_count": 18,
   "metadata": {},
   "outputs": [
    {
     "name": "stdout",
     "output_type": "stream",
     "text": [
      "\n",
      "    # ----------------------------------------------\n",
      "    # Get data, concate, merge and extract metrics\n",
      "    # for portfolio Dashboard \n",
      "    # ----------------------------------------------\n",
      "    \n",
      "              Market Currency     Forex IsDepot    Format\n",
      "Asset                                                    \n",
      "€           EUREUR=X        €  EUREUR=X    TRUE  {:.0f} €\n",
      "$              EUR=X        €  EUREUR=X    TRUE  {:.4f} €\n",
      "USDT           EUR=X        €  EUREUR=X    TRUE  {:.4f} €\n",
      "ESE           ESE.PA        €  EUREUR=X          {:.2f} €\n",
      "PUST                        €  EUREUR=X          {:.2f} €\n",
      "RS2K                        €  EUREUR=X          {:.2f} €\n",
      "OBLI         OBLI.PA        €  EUREUR=X          {:.2f} €\n",
      "GOLD         GOLD.PA        €  EUREUR=X          {:.2f} €\n",
      "BTC          BTC-USD     USDT  EURUSD=X          {:.0f} $\n",
      "ETH                      USDT  EURUSD=X          {:.0f} $\n",
      "GREENBULL  GREENBULL        $  EURUSD=X          {:.0f} $ \n",
      "\n",
      "[*********************100%***********************]  7 of 7 completed\n",
      "DMA\n",
      "\tdepot:  €\n",
      "ZEN\n",
      "\tdepot:  $\n",
      "\tasset:  BTC\n",
      "\tasset:  ESE\n",
      "\tasset:  GOLD\n",
      "\tasset:  GREENBULL\n",
      "\tasset:  OBLI\n",
      "\tdepot:  USDT\n",
      "\tdepot:  €\n"
     ]
    }
   ],
   "source": [
    "from api_portfolio import build_data\n",
    "\n",
    "data = build_data()\n",
    "s = data.iloc[-1]"
   ]
  },
  {
   "cell_type": "code",
   "execution_count": 40,
   "metadata": {},
   "outputs": [
    {
     "data": {
      "text/plain": [
       "'{:.4f} €'"
      ]
     },
     "execution_count": 40,
     "metadata": {},
     "output_type": "execute_result"
    }
   ],
   "source": [
    "s_fmt = data.iloc[-1][['Format']]\n",
    "s_fmt['Format', 'ZEN', '$']"
   ]
  },
  {
   "cell_type": "code",
   "execution_count": 35,
   "metadata": {},
   "outputs": [
    {
     "ename": "KeyError",
     "evalue": "\"['Format'] not in index\"",
     "output_type": "error",
     "traceback": [
      "\u001b[0;31m---------------------------------------------------------------------------\u001b[0m",
      "\u001b[0;31mKeyError\u001b[0m                                  Traceback (most recent call last)",
      "Cell \u001b[0;32mIn[35], line 2\u001b[0m\n\u001b[1;32m      1\u001b[0m \u001b[39mimport\u001b[39;00m \u001b[39mpandas\u001b[39;00m \u001b[39mas\u001b[39;00m \u001b[39mpd\u001b[39;00m\n\u001b[0;32m----> 2\u001b[0m s_fmt \u001b[39m=\u001b[39m s[[\u001b[39m'\u001b[39;49m\u001b[39mFormat\u001b[39;49m\u001b[39m'\u001b[39;49m]]\n\u001b[1;32m      3\u001b[0m s \u001b[39m=\u001b[39m s[[\u001b[39m'\u001b[39m\u001b[39mCotation\u001b[39m\u001b[39m'\u001b[39m, \u001b[39m'\u001b[39m\u001b[39mPRU\u001b[39m\u001b[39m'\u001b[39m, \u001b[39m'\u001b[39m\u001b[39mAmount\u001b[39m\u001b[39m'\u001b[39m, \u001b[39m'\u001b[39m\u001b[39mValue\u001b[39m\u001b[39m'\u001b[39m, \u001b[39m'\u001b[39m\u001b[39mInvested\u001b[39m\u001b[39m'\u001b[39m, \u001b[39m'\u001b[39m\u001b[39mPnL\u001b[39m\u001b[39m'\u001b[39m]]\n\u001b[1;32m      4\u001b[0m s_fmt\n",
      "File \u001b[0;32m~/Documents/dev/dashboards/.env/lib/python3.10/site-packages/pandas/core/series.py:984\u001b[0m, in \u001b[0;36mSeries.__getitem__\u001b[0;34m(self, key)\u001b[0m\n\u001b[1;32m    981\u001b[0m     key \u001b[39m=\u001b[39m np\u001b[39m.\u001b[39masarray(key, dtype\u001b[39m=\u001b[39m\u001b[39mbool\u001b[39m)\n\u001b[1;32m    982\u001b[0m     \u001b[39mreturn\u001b[39;00m \u001b[39mself\u001b[39m\u001b[39m.\u001b[39m_get_values(key)\n\u001b[0;32m--> 984\u001b[0m \u001b[39mreturn\u001b[39;00m \u001b[39mself\u001b[39;49m\u001b[39m.\u001b[39;49m_get_with(key)\n",
      "File \u001b[0;32m~/Documents/dev/dashboards/.env/lib/python3.10/site-packages/pandas/core/series.py:1024\u001b[0m, in \u001b[0;36mSeries._get_with\u001b[0;34m(self, key)\u001b[0m\n\u001b[1;32m   1021\u001b[0m         \u001b[39mreturn\u001b[39;00m \u001b[39mself\u001b[39m\u001b[39m.\u001b[39miloc[key]\n\u001b[1;32m   1023\u001b[0m \u001b[39m# handle the dup indexing case GH#4246\u001b[39;00m\n\u001b[0;32m-> 1024\u001b[0m \u001b[39mreturn\u001b[39;00m \u001b[39mself\u001b[39;49m\u001b[39m.\u001b[39;49mloc[key]\n",
      "File \u001b[0;32m~/Documents/dev/dashboards/.env/lib/python3.10/site-packages/pandas/core/indexing.py:967\u001b[0m, in \u001b[0;36m_LocationIndexer.__getitem__\u001b[0;34m(self, key)\u001b[0m\n\u001b[1;32m    964\u001b[0m axis \u001b[39m=\u001b[39m \u001b[39mself\u001b[39m\u001b[39m.\u001b[39maxis \u001b[39mor\u001b[39;00m \u001b[39m0\u001b[39m\n\u001b[1;32m    966\u001b[0m maybe_callable \u001b[39m=\u001b[39m com\u001b[39m.\u001b[39mapply_if_callable(key, \u001b[39mself\u001b[39m\u001b[39m.\u001b[39mobj)\n\u001b[0;32m--> 967\u001b[0m \u001b[39mreturn\u001b[39;00m \u001b[39mself\u001b[39;49m\u001b[39m.\u001b[39;49m_getitem_axis(maybe_callable, axis\u001b[39m=\u001b[39;49maxis)\n",
      "File \u001b[0;32m~/Documents/dev/dashboards/.env/lib/python3.10/site-packages/pandas/core/indexing.py:1194\u001b[0m, in \u001b[0;36m_LocIndexer._getitem_axis\u001b[0;34m(self, key, axis)\u001b[0m\n\u001b[1;32m   1191\u001b[0m     \u001b[39mif\u001b[39;00m \u001b[39mhasattr\u001b[39m(key, \u001b[39m\"\u001b[39m\u001b[39mndim\u001b[39m\u001b[39m\"\u001b[39m) \u001b[39mand\u001b[39;00m key\u001b[39m.\u001b[39mndim \u001b[39m>\u001b[39m \u001b[39m1\u001b[39m:\n\u001b[1;32m   1192\u001b[0m         \u001b[39mraise\u001b[39;00m \u001b[39mValueError\u001b[39;00m(\u001b[39m\"\u001b[39m\u001b[39mCannot index with multidimensional key\u001b[39m\u001b[39m\"\u001b[39m)\n\u001b[0;32m-> 1194\u001b[0m     \u001b[39mreturn\u001b[39;00m \u001b[39mself\u001b[39;49m\u001b[39m.\u001b[39;49m_getitem_iterable(key, axis\u001b[39m=\u001b[39;49maxis)\n\u001b[1;32m   1196\u001b[0m \u001b[39m# nested tuple slicing\u001b[39;00m\n\u001b[1;32m   1197\u001b[0m \u001b[39mif\u001b[39;00m is_nested_tuple(key, labels):\n",
      "File \u001b[0;32m~/Documents/dev/dashboards/.env/lib/python3.10/site-packages/pandas/core/indexing.py:1132\u001b[0m, in \u001b[0;36m_LocIndexer._getitem_iterable\u001b[0;34m(self, key, axis)\u001b[0m\n\u001b[1;32m   1129\u001b[0m \u001b[39mself\u001b[39m\u001b[39m.\u001b[39m_validate_key(key, axis)\n\u001b[1;32m   1131\u001b[0m \u001b[39m# A collection of keys\u001b[39;00m\n\u001b[0;32m-> 1132\u001b[0m keyarr, indexer \u001b[39m=\u001b[39m \u001b[39mself\u001b[39;49m\u001b[39m.\u001b[39;49m_get_listlike_indexer(key, axis)\n\u001b[1;32m   1133\u001b[0m \u001b[39mreturn\u001b[39;00m \u001b[39mself\u001b[39m\u001b[39m.\u001b[39mobj\u001b[39m.\u001b[39m_reindex_with_indexers(\n\u001b[1;32m   1134\u001b[0m     {axis: [keyarr, indexer]}, copy\u001b[39m=\u001b[39m\u001b[39mTrue\u001b[39;00m, allow_dups\u001b[39m=\u001b[39m\u001b[39mTrue\u001b[39;00m\n\u001b[1;32m   1135\u001b[0m )\n",
      "File \u001b[0;32m~/Documents/dev/dashboards/.env/lib/python3.10/site-packages/pandas/core/indexing.py:1330\u001b[0m, in \u001b[0;36m_LocIndexer._get_listlike_indexer\u001b[0;34m(self, key, axis)\u001b[0m\n\u001b[1;32m   1327\u001b[0m ax \u001b[39m=\u001b[39m \u001b[39mself\u001b[39m\u001b[39m.\u001b[39mobj\u001b[39m.\u001b[39m_get_axis(axis)\n\u001b[1;32m   1328\u001b[0m axis_name \u001b[39m=\u001b[39m \u001b[39mself\u001b[39m\u001b[39m.\u001b[39mobj\u001b[39m.\u001b[39m_get_axis_name(axis)\n\u001b[0;32m-> 1330\u001b[0m keyarr, indexer \u001b[39m=\u001b[39m ax\u001b[39m.\u001b[39;49m_get_indexer_strict(key, axis_name)\n\u001b[1;32m   1332\u001b[0m \u001b[39mreturn\u001b[39;00m keyarr, indexer\n",
      "File \u001b[0;32m~/Documents/dev/dashboards/.env/lib/python3.10/site-packages/pandas/core/indexes/multi.py:2587\u001b[0m, in \u001b[0;36mMultiIndex._get_indexer_strict\u001b[0;34m(self, key, axis_name)\u001b[0m\n\u001b[1;32m   2584\u001b[0m \u001b[39mif\u001b[39;00m \u001b[39mlen\u001b[39m(keyarr) \u001b[39mand\u001b[39;00m \u001b[39mnot\u001b[39;00m \u001b[39misinstance\u001b[39m(keyarr[\u001b[39m0\u001b[39m], \u001b[39mtuple\u001b[39m):\n\u001b[1;32m   2585\u001b[0m     indexer \u001b[39m=\u001b[39m \u001b[39mself\u001b[39m\u001b[39m.\u001b[39m_get_indexer_level_0(keyarr)\n\u001b[0;32m-> 2587\u001b[0m     \u001b[39mself\u001b[39;49m\u001b[39m.\u001b[39;49m_raise_if_missing(key, indexer, axis_name)\n\u001b[1;32m   2588\u001b[0m     \u001b[39mreturn\u001b[39;00m \u001b[39mself\u001b[39m[indexer], indexer\n\u001b[1;32m   2590\u001b[0m \u001b[39mreturn\u001b[39;00m \u001b[39msuper\u001b[39m()\u001b[39m.\u001b[39m_get_indexer_strict(key, axis_name)\n",
      "File \u001b[0;32m~/Documents/dev/dashboards/.env/lib/python3.10/site-packages/pandas/core/indexes/multi.py:2608\u001b[0m, in \u001b[0;36mMultiIndex._raise_if_missing\u001b[0;34m(self, key, indexer, axis_name)\u001b[0m\n\u001b[1;32m   2605\u001b[0m             \u001b[39mraise\u001b[39;00m \u001b[39mKeyError\u001b[39;00m(\u001b[39mf\u001b[39m\u001b[39m\"\u001b[39m\u001b[39m{\u001b[39;00mkeyarr[cmask]\u001b[39m}\u001b[39;00m\u001b[39m not in index\u001b[39m\u001b[39m\"\u001b[39m)\n\u001b[1;32m   2606\u001b[0m         \u001b[39m# We get here when levels still contain values which are not\u001b[39;00m\n\u001b[1;32m   2607\u001b[0m         \u001b[39m# actually in Index anymore\u001b[39;00m\n\u001b[0;32m-> 2608\u001b[0m         \u001b[39mraise\u001b[39;00m \u001b[39mKeyError\u001b[39;00m(\u001b[39mf\u001b[39m\u001b[39m\"\u001b[39m\u001b[39m{\u001b[39;00mkeyarr\u001b[39m}\u001b[39;00m\u001b[39m not in index\u001b[39m\u001b[39m\"\u001b[39m)\n\u001b[1;32m   2609\u001b[0m \u001b[39melse\u001b[39;00m:\n\u001b[1;32m   2610\u001b[0m     \u001b[39mreturn\u001b[39;00m \u001b[39msuper\u001b[39m()\u001b[39m.\u001b[39m_raise_if_missing(key, indexer, axis_name)\n",
      "\u001b[0;31mKeyError\u001b[0m: \"['Format'] not in index\""
     ]
    }
   ],
   "source": [
    "import pandas as pd\n",
    "s_fmt = s[['Format']]\n",
    "s = s[['Cotation', 'PRU', 'Amount', 'Value', 'Invested', 'PnL']]\n",
    "s_fmt"
   ]
  }
 ],
 "metadata": {
  "kernelspec": {
   "display_name": ".env",
   "language": "python",
   "name": "python3"
  },
  "language_info": {
   "codemirror_mode": {
    "name": "ipython",
    "version": 3
   },
   "file_extension": ".py",
   "mimetype": "text/x-python",
   "name": "python",
   "nbconvert_exporter": "python",
   "pygments_lexer": "ipython3",
   "version": "3.10.9"
  },
  "orig_nbformat": 4,
  "vscode": {
   "interpreter": {
    "hash": "e0e94819156be55a28bfd803e01ad2b3b7815826841d5d8114b63fb17f9e909b"
   }
  }
 },
 "nbformat": 4,
 "nbformat_minor": 2
}
