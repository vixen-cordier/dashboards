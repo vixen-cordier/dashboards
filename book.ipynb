{
 "cells": [
  {
   "cell_type": "code",
   "execution_count": 17,
   "metadata": {},
   "outputs": [
    {
     "name": "stdout",
     "output_type": "stream",
     "text": [
      "The autoreload extension is already loaded. To reload it, use:\n",
      "  %reload_ext autoreload\n",
      "(1022, 16)\n",
      "Index(['Titre', 'Montant', 'Devise', 'Taux de change',\n",
      "       'Montant dans la devise du tricount (EUR)', 'Type de transaction',\n",
      "       'Catégorie', 'Payé par', 'Payé par Commun', 'Payé par Lucie',\n",
      "       'Payé par Vincent', 'Impacté à Commun', 'Impacté à Lucie',\n",
      "       'Impacté à Vincent', 'Date & heure', 'URL des images'],\n",
      "      dtype='object')\n"
     ]
    }
   ],
   "source": [
    "%load_ext autoreload\n",
    "%autoreload 2\n",
    "from api_tricount import build_data\n",
    "\n",
    "df = build_data()"
   ]
  },
  {
   "cell_type": "code",
   "execution_count": 18,
   "metadata": {},
   "outputs": [
    {
     "data": {
      "text/html": [
       "<div>\n",
       "<style scoped>\n",
       "    .dataframe tbody tr th:only-of-type {\n",
       "        vertical-align: middle;\n",
       "    }\n",
       "\n",
       "    .dataframe tbody tr th {\n",
       "        vertical-align: top;\n",
       "    }\n",
       "\n",
       "    .dataframe thead th {\n",
       "        text-align: right;\n",
       "    }\n",
       "</style>\n",
       "<table border=\"1\" class=\"dataframe\">\n",
       "  <thead>\n",
       "    <tr style=\"text-align: right;\">\n",
       "      <th></th>\n",
       "      <th></th>\n",
       "      <th>Lucie</th>\n",
       "      <th>Vincent</th>\n",
       "      <th>Total</th>\n",
       "    </tr>\n",
       "    <tr>\n",
       "      <th>Mois</th>\n",
       "      <th>Catégorie</th>\n",
       "      <th></th>\n",
       "      <th></th>\n",
       "      <th></th>\n",
       "    </tr>\n",
       "  </thead>\n",
       "  <tbody>\n",
       "    <tr>\n",
       "      <th rowspan=\"8\" valign=\"top\">1</th>\n",
       "      <th>Alcool</th>\n",
       "      <td>-40.50</td>\n",
       "      <td>-40.50</td>\n",
       "      <td>-81.00</td>\n",
       "    </tr>\n",
       "    <tr>\n",
       "      <th>Alimentation</th>\n",
       "      <td>-276.38</td>\n",
       "      <td>-296.38</td>\n",
       "      <td>-572.76</td>\n",
       "    </tr>\n",
       "    <tr>\n",
       "      <th>Boulangerie</th>\n",
       "      <td>0.00</td>\n",
       "      <td>-32.00</td>\n",
       "      <td>-32.00</td>\n",
       "    </tr>\n",
       "    <tr>\n",
       "      <th>Cadeau</th>\n",
       "      <td>0.00</td>\n",
       "      <td>530.00</td>\n",
       "      <td>530.00</td>\n",
       "    </tr>\n",
       "    <tr>\n",
       "      <th>Loyer &amp; charges</th>\n",
       "      <td>0.00</td>\n",
       "      <td>-26.36</td>\n",
       "      <td>-26.36</td>\n",
       "    </tr>\n",
       "    <tr>\n",
       "      <th>Shopping</th>\n",
       "      <td>-92.50</td>\n",
       "      <td>-92.50</td>\n",
       "      <td>-185.00</td>\n",
       "    </tr>\n",
       "    <tr>\n",
       "      <th>Transport</th>\n",
       "      <td>-569.76</td>\n",
       "      <td>-43.10</td>\n",
       "      <td>-612.86</td>\n",
       "    </tr>\n",
       "    <tr>\n",
       "      <th>Week-end</th>\n",
       "      <td>-40.51</td>\n",
       "      <td>-40.51</td>\n",
       "      <td>-81.02</td>\n",
       "    </tr>\n",
       "  </tbody>\n",
       "</table>\n",
       "</div>"
      ],
      "text/plain": [
       "                       Lucie  Vincent   Total\n",
       "Mois Catégorie                               \n",
       "1    Alcool           -40.50   -40.50  -81.00\n",
       "     Alimentation    -276.38  -296.38 -572.76\n",
       "     Boulangerie        0.00   -32.00  -32.00\n",
       "     Cadeau             0.00   530.00  530.00\n",
       "     Loyer & charges    0.00   -26.36  -26.36\n",
       "     Shopping         -92.50   -92.50 -185.00\n",
       "     Transport       -569.76   -43.10 -612.86\n",
       "     Week-end         -40.51   -40.51  -81.02"
      ]
     },
     "execution_count": 18,
     "metadata": {},
     "output_type": "execute_result"
    }
   ],
   "source": [
    "df.loc[2023,:,:]"
   ]
  }
 ],
 "metadata": {
  "kernelspec": {
   "display_name": ".env",
   "language": "python",
   "name": "python3"
  },
  "language_info": {
   "codemirror_mode": {
    "name": "ipython",
    "version": 3
   },
   "file_extension": ".py",
   "mimetype": "text/x-python",
   "name": "python",
   "nbconvert_exporter": "python",
   "pygments_lexer": "ipython3",
   "version": "3.10.8"
  },
  "orig_nbformat": 4,
  "vscode": {
   "interpreter": {
    "hash": "e0e94819156be55a28bfd803e01ad2b3b7815826841d5d8114b63fb17f9e909b"
   }
  }
 },
 "nbformat": 4,
 "nbformat_minor": 2
}
