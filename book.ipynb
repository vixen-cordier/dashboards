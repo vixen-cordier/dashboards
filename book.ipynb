{
 "cells": [
  {
   "cell_type": "code",
   "execution_count": 4,
   "metadata": {},
   "outputs": [
    {
     "name": "stdout",
     "output_type": "stream",
     "text": [
      "\n",
      "    # ----------------------------------------------\n",
      "    # Get data, concate, merge and extract metrics\n",
      "    # for portfolio Dashboard \n",
      "    # ----------------------------------------------\n",
      "    \n",
      "              Market Currency     Forex           Class  PriceFmt PositionFmt  \\\n",
      "Asset                                                                           \n",
      "EUR         EUREUR=X           EUREUR=X         Deposit                         \n",
      "€           EUREUR=X      EUR  EUREUR=X            Cash  {:.0f} €      {:.0f}   \n",
      "$              EUR=X      EUR  EUREUR=X            Cash  {:.4f} €      {:.0f}   \n",
      "USDT           EUR=X     EUR   EUREUR=X            Cash  {:.4f} €      {:.0f}   \n",
      "ESE           ESE.PA        €  EUREUR=X        Equities  {:.2f} €      {:.0f}   \n",
      "PUST                        €  EUREUR=X        Equities  {:.2f} €      {:.0f}   \n",
      "RS2K                        €  EUREUR=X        Equities  {:.2f} €      {:.0f}   \n",
      "OBLI         OBLI.PA        €  EUREUR=X    Fixed Income  {:.2f} €      {:.0f}   \n",
      "GOLD         GOLD.PA        €  EUREUR=X     Commodities  {:.2f} €      {:.0f}   \n",
      "BTC          BTC-USD     USDT  EURUSD=X  Cryptocurrency  {:.0f} $      {:.4f}   \n",
      "ETH                      USDT  EURUSD=X  Cryptocurrency  {:.0f} $      {:.3f}   \n",
      "GREENBULL  GREENBULL        $  EURUSD=X        Equities  {:.0f} $      {:.3f}   \n",
      "\n",
      "           ValueFmt  \n",
      "Asset                \n",
      "EUR                  \n",
      "€          {:.0f} €  \n",
      "$          {:.0f} €  \n",
      "USDT       {:.0f} €  \n",
      "ESE        {:.0f} €  \n",
      "PUST       {:.0f} €  \n",
      "RS2K       {:.0f} €  \n",
      "OBLI       {:.0f} €  \n",
      "GOLD       {:.0f} €  \n",
      "BTC        {:.0f} $  \n",
      "ETH        {:.0f} $  \n",
      "GREENBULL  {:.0f} $  \n",
      "[*********************100%***********************]  7 of 7 completed\n",
      "Index(['BTC-USD', 'ESE.PA', 'EUR=X', 'EUREUR=X', 'EURUSD=X', 'GOLD.PA',\n",
      "       'OBLI.PA', 'GREENBULL'],\n",
      "      dtype='object')\n",
      "DMA\n",
      "\tAssets\n",
      "\t\tCash:\t€\n",
      "\tCurrency\n",
      "\t\tDeposit:\tEUR\n",
      "\tBuild datatable ...\n",
      "\t\tEUR\n",
      "\t\t€\n",
      "Commodities missing\n",
      "Cryptocurrency missing\n",
      "Equities missing\n",
      "Fixed Income missing\n",
      "ZEN\n",
      "\tAssets\n",
      "\t\tCash:\t$\n",
      "\t\tCryptocurrency:\tBTC\n",
      "\t\tEquities:\tESE\n",
      "\t\tCommodities:\tGOLD\n",
      "\t\tEquities:\tGREENBULL\n",
      "\t\tFixed Income:\tOBLI\n",
      "\t\tCash:\tUSDT\n",
      "\t\tCash:\t€\n",
      "\tCurrency\n",
      "\t\tCash:\t$\n",
      "\t\tDeposit:\tEUR\n",
      "\t\tCash:\tUSDT\n",
      "\t\tCash:\t€\n",
      "\tBuild datatable ...\n",
      "\t\t$\n",
      "\t\tBTC\n",
      "\t\tESE\n",
      "\t\tEUR\n",
      "\t\tGOLD\n",
      "\t\tGREENBULL\n",
      "\t\tOBLI\n",
      "\t\tUSDT\n",
      "\t\t€\n"
     ]
    }
   ],
   "source": [
    "import pandas as pd\n",
    "import numpy as np\n",
    "import streamlit as st\n",
    "import plotly.graph_objects as go\n",
    "from plotly.subplots import make_subplots\n",
    "\n",
    "from api_portfolio import build_data\n",
    "\n",
    "data, assets = build_data()\n",
    "\n",
    "PTFS = np.unique(data.columns.get_level_values(0))\n",
    "CLASSES = ['Cash', 'Commodities', 'Cryptocurrency', 'Equities', 'Fixed Income']\n",
    "CLASSES_NOCASH = ['Commodities', 'Cryptocurrency', 'Equities', 'Fixed Income']"
   ]
  }
 ],
 "metadata": {
  "kernelspec": {
   "display_name": ".env",
   "language": "python",
   "name": "python3"
  },
  "language_info": {
   "codemirror_mode": {
    "name": "ipython",
    "version": 3
   },
   "file_extension": ".py",
   "mimetype": "text/x-python",
   "name": "python",
   "nbconvert_exporter": "python",
   "pygments_lexer": "ipython3",
   "version": "3.10.9"
  },
  "orig_nbformat": 4,
  "vscode": {
   "interpreter": {
    "hash": "e0e94819156be55a28bfd803e01ad2b3b7815826841d5d8114b63fb17f9e909b"
   }
  }
 },
 "nbformat": 4,
 "nbformat_minor": 2
}
