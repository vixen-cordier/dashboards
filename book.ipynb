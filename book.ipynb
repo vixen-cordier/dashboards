{
 "cells": [
  {
   "cell_type": "code",
   "execution_count": 1,
   "metadata": {},
   "outputs": [],
   "source": [
    "%load_ext autoreload\n",
    "%autoreload 2\n",
    "\n",
    "from api_tricount import *\n"
   ]
  },
  {
   "cell_type": "code",
   "execution_count": 83,
   "metadata": {},
   "outputs": [
    {
     "name": "stdout",
     "output_type": "stream",
     "text": [
      "The autoreload extension is already loaded. To reload it, use:\n",
      "  %reload_ext autoreload\n"
     ]
    }
   ],
   "source": [
    "%load_ext autoreload\n",
    "%autoreload 2\n",
    "from api_portfolio import build_data\n"
   ]
  },
  {
   "cell_type": "code",
   "execution_count": 33,
   "metadata": {},
   "outputs": [
    {
     "name": "stdout",
     "output_type": "stream",
     "text": [
      "              Market Currency     Forex           Class  PriceFmt AmountFmt  \\\n",
      "Asset                                                                         \n",
      "EUR         EUREUR=X           EUREUR=X         Deposit                       \n",
      "€           EUREUR=X      EUR  EUREUR=X            Cash  {:.0f} €    {:.0f}   \n",
      "$              EUR=X      EUR  EUREUR=X            Cash  {:.4f} €    {:.0f}   \n",
      "USDT           EUR=X     EUR   EUREUR=X            Cash  {:.4f} €    {:.0f}   \n",
      "ESE           ESE.PA        €  EUREUR=X        Equities  {:.2f} €    {:.0f}   \n",
      "PUST                        €  EUREUR=X        Equities  {:.2f} €    {:.0f}   \n",
      "RS2K                        €  EUREUR=X        Equities  {:.2f} €    {:.0f}   \n",
      "OBLI         OBLI.PA        €  EUREUR=X    Fixed Income  {:.2f} €    {:.0f}   \n",
      "GOLD         GOLD.PA        €  EUREUR=X     Commodities  {:.2f} €    {:.0f}   \n",
      "BTC          BTC-USD     USDT  EURUSD=X  Cryptocurrency  {:.0f} $    {:.4f}   \n",
      "ETH                      USDT  EURUSD=X  Cryptocurrency  {:.0f} $    {:.3f}   \n",
      "GREENBULL  GREENBULL        $  EURUSD=X        Equities  {:.0f} $    {:.3f}   \n",
      "\n",
      "           ValueFmt  \n",
      "Asset                \n",
      "EUR                  \n",
      "€          {:.0f} €  \n",
      "$          {:.0f} €  \n",
      "USDT       {:.0f} €  \n",
      "ESE        {:.2f} €  \n",
      "PUST       {:.2f} €  \n",
      "RS2K       {:.2f} €  \n",
      "OBLI       {:.0f} €  \n",
      "GOLD       {:.0f} €  \n",
      "BTC        {:.0f} $  \n",
      "ETH        {:.0f} $  \n",
      "GREENBULL  {:.0f} $   \n",
      "\n",
      "[*********************100%***********************]  7 of 7 completed\n",
      "Index(['BTC-USD', 'ESE.PA', 'EUR=X', 'EUREUR=X', 'EURUSD=X', 'GOLD.PA',\n",
      "       'OBLI.PA'],\n",
      "      dtype='object')\n"
     ]
    },
    {
     "data": {
      "text/html": [
       "<div>\n",
       "<style scoped>\n",
       "    .dataframe tbody tr th:only-of-type {\n",
       "        vertical-align: middle;\n",
       "    }\n",
       "\n",
       "    .dataframe tbody tr th {\n",
       "        vertical-align: top;\n",
       "    }\n",
       "\n",
       "    .dataframe thead tr th {\n",
       "        text-align: left;\n",
       "    }\n",
       "\n",
       "    .dataframe thead tr:last-of-type th {\n",
       "        text-align: right;\n",
       "    }\n",
       "</style>\n",
       "<table border=\"1\" class=\"dataframe\">\n",
       "  <thead>\n",
       "    <tr>\n",
       "      <th>Date</th>\n",
       "    </tr>\n",
       "  </thead>\n",
       "  <tbody>\n",
       "    <tr>\n",
       "      <th>2021-04-01</th>\n",
       "    </tr>\n",
       "    <tr>\n",
       "      <th>2021-04-28</th>\n",
       "    </tr>\n",
       "    <tr>\n",
       "      <th>2021-04-29</th>\n",
       "    </tr>\n",
       "    <tr>\n",
       "      <th>2021-04-30</th>\n",
       "    </tr>\n",
       "    <tr>\n",
       "      <th>2021-05-01</th>\n",
       "    </tr>\n",
       "  </tbody>\n",
       "</table>\n",
       "</div>"
      ],
      "text/plain": [
       "Empty DataFrame\n",
       "Columns: []\n",
       "Index: [2021-04-01 00:00:00, 2021-04-28 00:00:00, 2021-04-29 00:00:00, 2021-04-30 00:00:00, 2021-05-01 00:00:00]"
      ]
     },
     "execution_count": 33,
     "metadata": {},
     "output_type": "execute_result"
    }
   ],
   "source": [
    "import streamlit as st\n",
    "import gspread as gs \n",
    "import pandas as pd\n",
    "import numpy as np\n",
    "import yfinance as yf\n",
    "\n",
    "import warnings\n",
    "warnings.simplefilter(action='ignore', category=pd.errors.PerformanceWarning)\n",
    "\n",
    "\n",
    "gc = gs.service_account_from_dict(st.secrets['gcp_service_account'])\n",
    "ss = gc.open_by_key(st.secrets['portfolio'].spreadsheet_key)\n",
    "dicts = pd.DataFrame(ss.worksheet('Dict').get_all_records())\n",
    "operation = pd.DataFrame(ss.worksheet('Operations').get_all_records()).sort_values('Date').astype({'Date': 'datetime64[ns]'}).set_index('Date')\n",
    "greenbull = pd.DataFrame(ss.worksheet('GREENBULL').get_all_records()).sort_values('Date').astype({'Date': 'datetime64[ns]'}).set_index('Date')\n",
    "assets = dicts.set_index('Asset')\n",
    "print(assets, '\\n')\n",
    "\n",
    "market = yf.download(' '.join([*assets['Forex'], *assets['Market'][:-1]]), start='2021-04-28')['Close']\n",
    "print(market.columns)\n",
    "market = pd.concat([market, greenbull], axis=1).ffill().bfill()\n",
    "# market = pd.concat([market], keys=['Market'], axis=1)\n",
    "# market = pd.concat([market], keys=['Cotation'], axis=1)\n",
    "\n",
    "operation: pd.DataFrame = operation\n",
    "assets: pd.DataFrame = assets\n",
    "market: pd.DataFrame = market\n",
    "\n",
    "df = pd.DataFrame(index=market.index, columns=pd.MultiIndex(levels=[[],[],[],[]], codes=[[],[],[],[]]))#, names=['portfolio', 'class', 'asset', 'metric']))\n",
    "df.head()"
   ]
  },
  {
   "cell_type": "code",
   "execution_count": 35,
   "metadata": {},
   "outputs": [
    {
     "name": "stdout",
     "output_type": "stream",
     "text": [
      "DMA\n",
      "\tAssets\n",
      "\t\tCash:\t€\n",
      "\tCurrency\n",
      "\t\tDeposit:\tEUR\n",
      "\tBuild datatable ...\n",
      "\t\tEUR\n"
     ]
    },
    {
     "ename": "ValueError",
     "evalue": "Columns must be same length as key",
     "output_type": "error",
     "traceback": [
      "\u001b[0;31m---------------------------------------------------------------------------\u001b[0m",
      "\u001b[0;31mValueError\u001b[0m                                Traceback (most recent call last)",
      "Cell \u001b[0;32mIn[35], line 51\u001b[0m\n\u001b[1;32m     44\u001b[0m     invested[idx] \u001b[39m=\u001b[39m np\u001b[39m.\u001b[39msum(df\u001b[39m.\u001b[39mloc[:idx][portfolio, classs, asset, \u001b[39m'\u001b[39m\u001b[39mOperation\u001b[39m\u001b[39m'\u001b[39m])\n\u001b[1;32m     46\u001b[0m df \u001b[39m=\u001b[39m pd\u001b[39m.\u001b[39mconcat([df, pd\u001b[39m.\u001b[39mDataFrame({\n\u001b[1;32m     47\u001b[0m         (portfolio, classs, asset, \u001b[39m'\u001b[39m\u001b[39mPosition\u001b[39m\u001b[39m'\u001b[39m): position,\n\u001b[1;32m     48\u001b[0m         (portfolio, classs, asset, \u001b[39m'\u001b[39m\u001b[39mInvested\u001b[39m\u001b[39m'\u001b[39m): invested,\n\u001b[1;32m     49\u001b[0m     })], axis\u001b[39m=\u001b[39m\u001b[39m1\u001b[39m)\n\u001b[0;32m---> 51\u001b[0m df[portfolio, classs, asset, \u001b[39m'\u001b[39;49m\u001b[39mPRU\u001b[39;49m\u001b[39m'\u001b[39;49m] \u001b[39m=\u001b[39m df[portfolio, classs, asset, \u001b[39m'\u001b[39m\u001b[39mInvested\u001b[39m\u001b[39m'\u001b[39m] \u001b[39m/\u001b[39m df[portfolio, classs, asset, \u001b[39m'\u001b[39m\u001b[39mPosition\u001b[39m\u001b[39m'\u001b[39m]\n\u001b[1;32m     52\u001b[0m df[portfolio, classs, asset, \u001b[39m'\u001b[39m\u001b[39mValue\u001b[39m\u001b[39m'\u001b[39m] \u001b[39m=\u001b[39m df[portfolio, classs, asset, \u001b[39m'\u001b[39m\u001b[39mPosition\u001b[39m\u001b[39m'\u001b[39m] \u001b[39m*\u001b[39m df[portfolio, classs, asset, \u001b[39m'\u001b[39m\u001b[39mCotation\u001b[39m\u001b[39m'\u001b[39m]\n\u001b[1;32m     53\u001b[0m df[portfolio, classs, asset, \u001b[39m'\u001b[39m\u001b[39mPnL\u001b[39m\u001b[39m'\u001b[39m] \u001b[39m=\u001b[39m df[portfolio, classs, asset, \u001b[39m'\u001b[39m\u001b[39mValue\u001b[39m\u001b[39m'\u001b[39m] \u001b[39m-\u001b[39m df[portfolio, classs, asset, \u001b[39m'\u001b[39m\u001b[39mInvested\u001b[39m\u001b[39m'\u001b[39m]\n",
      "File \u001b[0;32m~/Documents/dev/dashboards/.env/lib/python3.10/site-packages/pandas/core/frame.py:3645\u001b[0m, in \u001b[0;36mDataFrame.__setitem__\u001b[0;34m(self, key, value)\u001b[0m\n\u001b[1;32m   3643\u001b[0m     \u001b[39mself\u001b[39m\u001b[39m.\u001b[39m_setitem_array(key, value)\n\u001b[1;32m   3644\u001b[0m \u001b[39melif\u001b[39;00m \u001b[39misinstance\u001b[39m(value, DataFrame):\n\u001b[0;32m-> 3645\u001b[0m     \u001b[39mself\u001b[39;49m\u001b[39m.\u001b[39;49m_set_item_frame_value(key, value)\n\u001b[1;32m   3646\u001b[0m \u001b[39melif\u001b[39;00m (\n\u001b[1;32m   3647\u001b[0m     is_list_like(value)\n\u001b[1;32m   3648\u001b[0m     \u001b[39mand\u001b[39;00m \u001b[39mnot\u001b[39;00m \u001b[39mself\u001b[39m\u001b[39m.\u001b[39mcolumns\u001b[39m.\u001b[39mis_unique\n\u001b[1;32m   3649\u001b[0m     \u001b[39mand\u001b[39;00m \u001b[39m1\u001b[39m \u001b[39m<\u001b[39m \u001b[39mlen\u001b[39m(\u001b[39mself\u001b[39m\u001b[39m.\u001b[39mcolumns\u001b[39m.\u001b[39mget_indexer_for([key])) \u001b[39m==\u001b[39m \u001b[39mlen\u001b[39m(value)\n\u001b[1;32m   3650\u001b[0m ):\n\u001b[1;32m   3651\u001b[0m     \u001b[39m# Column to set is duplicated\u001b[39;00m\n\u001b[1;32m   3652\u001b[0m     \u001b[39mself\u001b[39m\u001b[39m.\u001b[39m_setitem_array([key], value)\n",
      "File \u001b[0;32m~/Documents/dev/dashboards/.env/lib/python3.10/site-packages/pandas/core/frame.py:3775\u001b[0m, in \u001b[0;36mDataFrame._set_item_frame_value\u001b[0;34m(self, key, value)\u001b[0m\n\u001b[1;32m   3773\u001b[0m len_cols \u001b[39m=\u001b[39m \u001b[39m1\u001b[39m \u001b[39mif\u001b[39;00m is_scalar(cols) \u001b[39melse\u001b[39;00m \u001b[39mlen\u001b[39m(cols)\n\u001b[1;32m   3774\u001b[0m \u001b[39mif\u001b[39;00m len_cols \u001b[39m!=\u001b[39m \u001b[39mlen\u001b[39m(value\u001b[39m.\u001b[39mcolumns):\n\u001b[0;32m-> 3775\u001b[0m     \u001b[39mraise\u001b[39;00m \u001b[39mValueError\u001b[39;00m(\u001b[39m\"\u001b[39m\u001b[39mColumns must be same length as key\u001b[39m\u001b[39m\"\u001b[39m)\n\u001b[1;32m   3777\u001b[0m \u001b[39m# align right-hand-side columns if self.columns\u001b[39;00m\n\u001b[1;32m   3778\u001b[0m \u001b[39m# is multi-index and self[key] is a sub-frame\u001b[39;00m\n\u001b[1;32m   3779\u001b[0m \u001b[39mif\u001b[39;00m \u001b[39misinstance\u001b[39m(\u001b[39mself\u001b[39m\u001b[39m.\u001b[39mcolumns, MultiIndex) \u001b[39mand\u001b[39;00m \u001b[39misinstance\u001b[39m(\n\u001b[1;32m   3780\u001b[0m     loc, (\u001b[39mslice\u001b[39m, Series, np\u001b[39m.\u001b[39mndarray, Index)\n\u001b[1;32m   3781\u001b[0m ):\n",
      "\u001b[0;31mValueError\u001b[0m: Columns must be same length as key"
     ]
    }
   ],
   "source": [
    "\n",
    "for portfolio in np.unique(operation['Portfolio']):\n",
    "    print(portfolio)\n",
    "    dfp: pd.DataFrame = operation[operation['Portfolio'] == portfolio]\n",
    "\n",
    "    print(f\"\\tAssets\")\n",
    "    for asset in np.unique(dfp['Asset']):\n",
    "        classs = assets.loc[asset]['Class']\n",
    "        print(f\"\\t\\t{classs}:\\t{asset}\")\n",
    "\n",
    "        dfa: pd.DataFrame = dfp[dfp['Asset'] == asset]\n",
    "        dfa = dfa.groupby('Date').agg({'Quantity': 'sum', 'Operation': 'sum'}).reindex(df.index).fillna(0)\n",
    "\n",
    "        df[portfolio, classs, asset, 'Quantity'] = dfa['Quantity']\n",
    "        df[portfolio, classs, asset, 'Operation'] = dfa['Operation']\n",
    "        df[portfolio, classs, asset, 'Cotation'] = market[assets.loc[asset]['Market']]\n",
    "    \n",
    "    print(f\"\\tCurrency\")\n",
    "    for currency in np.unique(dfp['Currency']):\n",
    "        classs = assets.loc[currency]['Class']\n",
    "        print(f\"\\t\\t{classs}:\\t{currency}\")\n",
    "\n",
    "        dfc: pd.DataFrame = dfp[dfp['Currency'] == currency]\n",
    "        dfc = dfc.groupby('Date').agg({'Quantity': 'sum', 'Operation': 'sum'}).reindex(df.index).fillna(0)\n",
    "        \n",
    "        if (portfolio, classs, currency, 'Quantity') not in df.columns:\n",
    "            df[portfolio, classs, currency, 'Quantity'] = 0\n",
    "        if (portfolio, classs, currency, 'Operation') not in df.columns:\n",
    "            df[portfolio, classs, currency, 'Operation'] = 0\n",
    "        if (portfolio, classs, currency, 'Cotation') not in df.columns:\n",
    "            df[portfolio, classs, currency, 'Cotation'] = market[assets.loc[currency]['Market']]\n",
    "\n",
    "        df[portfolio, classs, currency, 'Quantity'] -= dfc['Operation']\n",
    "        df[portfolio, classs, currency, 'Operation'] -= dfc['Operation'] * df[portfolio, classs, currency, 'Cotation']\n",
    "\n",
    "\n",
    "    print(f\"\\tBuild datatable ...\")\n",
    "    for asset in np.unique([*dfp['Asset'], *dfp['Currency']]):\n",
    "        classs = assets.loc[asset]['Class']\n",
    "        print(f\"\\t\\t{asset}\")\n",
    "\n",
    "        position, invested = pd.Series(dtype=float), pd.Series(dtype=float)\n",
    "        for idx in df.index:\n",
    "            position[idx] = np.sum(df.loc[:idx][portfolio, classs, asset, 'Quantity'])\n",
    "            invested[idx] = np.sum(df.loc[:idx][portfolio, classs, asset, 'Operation'])\n",
    "\n",
    "        df = pd.concat([df, pd.DataFrame({\n",
    "                (portfolio, classs, asset, 'Position'): position,\n",
    "                (portfolio, classs, asset, 'Invested'): invested,\n",
    "            })], axis=1)\n",
    "\n",
    "        df[portfolio, classs, asset, 'PRU'] = df[portfolio, classs, asset, 'Invested'] / df[portfolio, classs, asset, 'Position']\n",
    "        df[portfolio, classs, asset, 'Value'] = df[portfolio, classs, asset, 'Position'] * df[portfolio, classs, asset, 'Cotation']\n",
    "        df[portfolio, classs, asset, 'PnL'] = df[portfolio, classs, asset, 'Value'] - df[portfolio, classs, asset, 'Invested']\n",
    "            \n",
    "        toEUR = market[assets.loc[asset]['Forex']]\n",
    "        df[portfolio, classs, asset, 'InvestedEUR'] = df[portfolio, classs, asset, 'Invested'] / toEUR\n",
    "        df[portfolio, classs, asset, 'ValueEUR'] = df[portfolio, classs, asset, 'Value'] / toEUR\n",
    "        df[portfolio, classs, asset, 'PnLEUR'] = df[portfolio, classs, asset, 'PnL'] / toEUR\n",
    "\n",
    "\n",
    "    print(f\"\\tConcate class data ...\")\n",
    "    for classs in np.unique(df[portfolio].columns.get_level_values(0)):\n",
    "        print(f\"\\t\\t{classs}\")\n",
    "        df[portfolio, classs, 'All', 'InvestedEUR'] = df.loc[:, pd.IndexSlice[portfolio, classs, :, 'InvestedEUR']].sum(axis=1)\n",
    "        df[portfolio, classs, 'All', 'ValueEUR'] = df.loc[:, pd.IndexSlice[portfolio, classs, :, 'ValueEUR']].sum(axis=1)\n",
    "        df[portfolio, classs, 'All', 'PnLEUR'] = df.loc[:, pd.IndexSlice[portfolio, classs, :, 'PnLEUR']].sum(axis=1)\n",
    "\n",
    "    df[portfolio, 'All', 'All', 'InvestedEUR'] = df.loc[:, pd.IndexSlice[portfolio, :, 'All', 'InvestedEUR']].sum(axis=1)\n",
    "    df[portfolio, 'All', 'All', 'ValueEUR'] = df.loc[:, pd.IndexSlice[portfolio, :, 'All', 'ValueEUR']].sum(axis=1)\n",
    "    df[portfolio, 'All', 'All', 'PnLEUR'] = df.loc[:, pd.IndexSlice[portfolio, :, 'All', 'PnLEUR']].sum(axis=1)\n",
    "\n",
    "for classs in np.unique(df.columns.get_level_values(1)):\n",
    "    df['All', classs, 'All', 'InvestedEUR'] = df.loc[:, pd.IndexSlice[:, classs, 'All', 'InvestedEUR']].sum(axis=1)\n",
    "    df['All', classs, 'All', 'ValueEUR'] = df.loc[:, pd.IndexSlice[:, classs, 'All', 'ValueEUR']].sum(axis=1)\n",
    "    df['All', classs, 'All', 'PnLEUR'] = df.loc[:, pd.IndexSlice[:, classs, 'All', 'PnLEUR']].sum(axis=1)\n",
    "\n",
    "df['All', 'All', 'All', 'InvestedEUR'] = df.loc[:, pd.IndexSlice['All', :, 'All', 'InvestedEUR']].sum(axis=1)\n",
    "df['All', 'All', 'All', 'ValueEUR'] = df.loc[:, pd.IndexSlice['All', :, 'All', 'ValueEUR']].sum(axis=1)\n",
    "df['All', 'All', 'All', 'PnLEUR'] = df.loc[:, pd.IndexSlice['All', :, 'All', 'PnLEUR']].sum(axis=1)\n",
    "\n",
    "\n",
    "for column in df.columns:\n",
    "    print(column)\n",
    "# dates = [\"2021-04-30\", \"2021-04-30\", \"2021-07-30\", \"2021-07-30\", \"2021-08-10\", \"2021-08-10\", \"2021-10-01\", \"2021-10-01\", \"2021-11-01\", \"2021-11-01\", \"2021-12-01\", \"2021-12-01\", \"2021-12-31\", \"2022-02-01\", \"2022-02-01\", \"2022-03-24\", \"2022-03-24\", \"2022-04-01\", \"2022-04-01\", \"2022-04-01\", \"2022-04-05\", \"2022-04-05\", \"2022-04-13\", \"2022-04-13\", \"2022-05-02\", \"2022-05-02\", \"2022-04-19\", \"2022-04-19\", \"2022-06-01\", \"2022-06-01\", \"2022-06-01\", \"2022-06-01\", \"2022-07-01\", \"2022-07-04\", \"2022-07-05\", \"2022-07-05\", \"2022-08-05\", \"2022-08-05\", \"2022-08-25\", \"2022-10-12\", \"2022-10-12\", \"2022-10-12\", \"2023-02-10\"]\n",
    "dates = [\"2021-04-30\",\"2021-07-30\",\"2021-08-10\",\"2021-10-01\",\"2021-11-01\",\"2021-12-01\",\"2021-12-31\",\"2022-02-01\",\"2022-03-24\",\"2022-04-01\",\"2022-04-05\",\"2022-04-13\",\"2022-05-02\",\"2022-04-19\",\"2022-06-01\",\"2022-07-01\",\"2022-07-04\",\"2022-07-05\",\"2022-08-05\",\"2022-08-25\",\"2022-10-12\",\"2023-02-10\"]\n",
    "# df.loc[dates]\n",
    "# df.head()\n",
    "df.loc[dates]   #, pd.IndexSlice[['Quantity', 'Operation', 'Total', 'Invested'], 'ZEN', ['BTC', 'USDT', 'EUR']]]\n"
   ]
  },
  {
   "cell_type": "code",
   "execution_count": 21,
   "metadata": {},
   "outputs": [
    {
     "data": {
      "text/plain": [
       "array(['Cash', 'Commodities', 'Cryptocurrency', 'Deposit', 'Equities',\n",
       "       'Fixed Income'], dtype=object)"
      ]
     },
     "execution_count": 21,
     "metadata": {},
     "output_type": "execute_result"
    }
   ],
   "source": [
    "np.unique(df['ZEN'].columns.get_level_values(0))"
   ]
  }
 ],
 "metadata": {
  "kernelspec": {
   "display_name": ".env",
   "language": "python",
   "name": "python3"
  },
  "language_info": {
   "codemirror_mode": {
    "name": "ipython",
    "version": 3
   },
   "file_extension": ".py",
   "mimetype": "text/x-python",
   "name": "python",
   "nbconvert_exporter": "python",
   "pygments_lexer": "ipython3",
   "version": "3.10.9"
  },
  "orig_nbformat": 4,
  "vscode": {
   "interpreter": {
    "hash": "e0e94819156be55a28bfd803e01ad2b3b7815826841d5d8114b63fb17f9e909b"
   }
  }
 },
 "nbformat": 4,
 "nbformat_minor": 2
}
