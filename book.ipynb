{
 "cells": [
  {
   "cell_type": "code",
   "execution_count": 35,
   "metadata": {},
   "outputs": [
    {
     "name": "stdout",
     "output_type": "stream",
     "text": [
      "[*********************100%***********************]  3 of 3 completed\n",
      "[*********************100%***********************]  2 of 2 completed\n",
      " DMA\n",
      "   €\n",
      " ZEN\n",
      "   $\n",
      "   BTC\n",
      "   ESE\n",
      "   GOLD\n",
      "   GREENBULL\n",
      "   USDT\n",
      "   €\n"
     ]
    }
   ],
   "source": [
    "from app import *\n",
    "\n",
    "sheets = extract_sheets()\n",
    "market = fetch_market(sheets['Dicts']['assets'], sheets['Others'])\n",
    "forex = fetch_forex(sheets['Dicts']['depots'])\n",
    "data = build_metrics(sheets['Dicts']['assets'], market, sheets['Dicts']['depots'], forex, sheets['Operation'])\n",
    "\n"
   ]
  },
  {
   "cell_type": "code",
   "execution_count": 64,
   "metadata": {},
   "outputs": [
    {
     "data": {
      "text/plain": [
       "Index(['ZEN', 'DMA', 'Cash'], dtype='object')"
      ]
     },
     "execution_count": 64,
     "metadata": {},
     "output_type": "execute_result"
    }
   ],
   "source": [
    "df = data[['ValueEUR', 'InvestedEUR', 'CashEUR', 'PnLEUR', 'DepositEUR']]\n",
    "df = pd.concat([df['ValueEUR', 'ZEN', 'All'], df['ValueEUR', 'DMA', 'All'], df['CashEUR', 'All', 'All']], axis=1)\n",
    "df.columns = ['ZEN', 'DMA', 'Cash'] \n",
    "df.iloc[-1].index"
   ]
  },
  {
   "cell_type": "code",
   "execution_count": 70,
   "metadata": {},
   "outputs": [
    {
     "data": {
      "text/plain": [
       "Index(['ZEN', 'DMA', 'Cash'], dtype='object')"
      ]
     },
     "execution_count": 70,
     "metadata": {},
     "output_type": "execute_result"
    }
   ],
   "source": [
    "df = data[['ValueEUR', 'InvestedEUR', 'CashEUR', 'PnLEUR', 'DepositEUR']]\n",
    "df_pie = pd.concat({ \n",
    "    'ZEN' : df['ValueEUR', 'ZEN', 'All'],  \n",
    "    'DMA' : df['ValueEUR', 'DMA', 'All'],  \n",
    "    'Cash' : df['CashEUR', 'All', 'All']\n",
    "}, axis=1) \n",
    "\n",
    "df_pie.columns"
   ]
  },
  {
   "cell_type": "code",
   "execution_count": 48,
   "metadata": {},
   "outputs": [
    {
     "name": "stdout",
     "output_type": "stream",
     "text": [
      "11125.33017654419\n"
     ]
    },
    {
     "data": {
      "text/plain": [
       "DMA       0.000000\n",
       "ZEN    8452.909579\n",
       "Name: 2023-01-12 00:00:00, dtype: float64"
      ]
     },
     "execution_count": 48,
     "metadata": {},
     "output_type": "execute_result"
    }
   ],
   "source": [
    "print(s_last['CashEUR', 'All', 'All'])\n",
    "s_pie = s_last['ValueEUR', :, 'All'].drop(labels=['All']) #.append(s_last['CashEUR', 'All', 'All'])\n",
    "s_pie"
   ]
  },
  {
   "cell_type": "code",
   "execution_count": null,
   "metadata": {},
   "outputs": [],
   "source": []
  }
 ],
 "metadata": {
  "kernelspec": {
   "display_name": ".env",
   "language": "python",
   "name": "python3"
  },
  "language_info": {
   "codemirror_mode": {
    "name": "ipython",
    "version": 3
   },
   "file_extension": ".py",
   "mimetype": "text/x-python",
   "name": "python",
   "nbconvert_exporter": "python",
   "pygments_lexer": "ipython3",
   "version": "3.10.8"
  },
  "orig_nbformat": 4,
  "vscode": {
   "interpreter": {
    "hash": "e0e94819156be55a28bfd803e01ad2b3b7815826841d5d8114b63fb17f9e909b"
   }
  }
 },
 "nbformat": 4,
 "nbformat_minor": 2
}
