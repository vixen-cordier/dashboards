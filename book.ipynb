{
 "cells": [
  {
   "cell_type": "code",
   "execution_count": 1,
   "metadata": {},
   "outputs": [],
   "source": [
    "%load_ext autoreload\n",
    "%autoreload 2\n",
    "\n",
    "from api_tricount import *\n"
   ]
  },
  {
   "cell_type": "code",
   "execution_count": 2,
   "metadata": {},
   "outputs": [
    {
     "name": "stdout",
     "output_type": "stream",
     "text": [
      "\n",
      "    # --------------------------------- #\n",
      "    # Connection to Google Sheet        #\n",
      "    # and extract Spreadsheets          #\n",
      "    #  - exported tricount data         #\n",
      "    #  - category dictonnary            #\n",
      "    # --------------------------------- #\n",
      "    \n",
      " -- data fetched\n",
      "(1023, 17)\n",
      "Index(['Unnamed: 0', 'Titre', 'Montant', 'Devise', 'Taux de change',\n",
      "       'Montant dans la devise du tricount (EUR)', 'Type de transaction',\n",
      "       'Catégorie', 'Payé par', 'Payé par Commun', 'Payé par Lucie',\n",
      "       'Payé par Vincent', 'Impacté à Commun', 'Impacté à Lucie',\n",
      "       'Impacté à Vincent', 'Date & heure', 'URL des images'],\n",
      "      dtype='object')\n",
      " -- dict fetched \n",
      "{'Alimentation': 'Quotidien', 'Shopping': 'Achats', 'Logement': 'Achats', 'Loyer & charges': 'Quotidien', 'Divertissement': 'Extra', 'Sport': 'Loisir', 'Restaurant & bar': 'Extra', 'Investissement': 'Investissement', 'Transport': 'Quotidien', 'Week-end': 'Loisir', 'Soin de santé': 'Quotidien', 'Livres': 'Achats', 'Activités': 'Loisir', 'Boulangerie': 'Quotidien', 'Salaire': \"Rentrée d'argent\", 'Services': 'Quotidien', 'Alcool': 'Extra', 'Cadeau': 'Achats', 'Vacances': 'Loisir', 'Formation': 'Investissement'}\n",
      "\n",
      "    # --------------------------------- #\n",
      "    # Filter, clean and aggregate data  #\n",
      "    # --------------------------------- #\n",
      "    \n",
      " -- data built\n",
      "(281, 3)\n",
      "Index(['Lucie', 'Vincent', 'Total'], dtype='object')\n",
      "\n",
      "    # --------------------------------- #\n",
      "    # Format and split data             #\n",
      "    # by date and categories            #\n",
      "    # --------------------------------- #\n",
      "    \n",
      "\n",
      "    # --------------------------------- #\n",
      "    # Build the overview result         #\n",
      "    # --------------------------------- #\n",
      "    \n"
     ]
    }
   ],
   "source": [
    "\n",
    "data, dict = fetch_data()\n",
    "data = build_data(data)\n",
    "detail = split_data(data, dict)\n",
    "postes, result = concat_data(detail, dict)\n"
   ]
  }
 ],
 "metadata": {
  "kernelspec": {
   "display_name": ".env",
   "language": "python",
   "name": "python3"
  },
  "language_info": {
   "codemirror_mode": {
    "name": "ipython",
    "version": 3
   },
   "file_extension": ".py",
   "mimetype": "text/x-python",
   "name": "python",
   "nbconvert_exporter": "python",
   "pygments_lexer": "ipython3",
   "version": "3.10.5"
  },
  "orig_nbformat": 4,
  "vscode": {
   "interpreter": {
    "hash": "804e7ee1804460a5d49adb8f72a7787217750747c314b60956905ff5648956bd"
   }
  }
 },
 "nbformat": 4,
 "nbformat_minor": 2
}
