{
 "cells": [
  {
   "cell_type": "code",
   "execution_count": 34,
   "metadata": {},
   "outputs": [
    {
     "name": "stdout",
     "output_type": "stream",
     "text": [
      "[*********************100%***********************]  3 of 3 completed\n",
      "[*********************100%***********************]  2 of 2 completed\n",
      " DMA\n",
      "   €\n",
      " ZEN\n",
      "   $\n",
      "   BTC\n",
      "   ESE\n",
      "   GOLD\n",
      "   GREENBULL\n",
      "   USDT\n",
      "   €\n"
     ]
    }
   ],
   "source": [
    "from app import *\n",
    "\n",
    "sheets = extract_sheets()\n",
    "market = fetch_market(sheets['Dicts']['assets'], sheets['Others'])\n",
    "forex = fetch_forex(sheets['Dicts']['depots'])\n",
    "data = build_metrics(sheets['Dicts']['assets'], market, sheets['Dicts']['depots'], forex, sheets['Operation'])\n",
    "\n"
   ]
  },
  {
   "cell_type": "code",
   "execution_count": 29,
   "metadata": {},
   "outputs": [
    {
     "ename": "InvalidIndexError",
     "evalue": "(slice(None, None, None), 'All', 'All')",
     "output_type": "error",
     "traceback": [
      "\u001b[0;31m---------------------------------------------------------------------------\u001b[0m",
      "\u001b[0;31mInvalidIndexError\u001b[0m                         Traceback (most recent call last)",
      "Cell \u001b[0;32mIn[29], line 4\u001b[0m\n\u001b[1;32m      1\u001b[0m df \u001b[39m=\u001b[39m data[[\u001b[39m'\u001b[39m\u001b[39mDepositEUR\u001b[39m\u001b[39m'\u001b[39m, \u001b[39m'\u001b[39m\u001b[39mValueEUR\u001b[39m\u001b[39m'\u001b[39m, \u001b[39m'\u001b[39m\u001b[39mInvestedEUR\u001b[39m\u001b[39m'\u001b[39m, \u001b[39m'\u001b[39m\u001b[39mCashEUR\u001b[39m\u001b[39m'\u001b[39m, \u001b[39m'\u001b[39m\u001b[39mPnLEUR\u001b[39m\u001b[39m'\u001b[39m]]\n\u001b[1;32m      2\u001b[0m \u001b[39m# print('\\n\\ndf\\n', df)\u001b[39;00m\n\u001b[0;32m----> 4\u001b[0m df_all \u001b[39m=\u001b[39m df[:, \u001b[39m'\u001b[39;49m\u001b[39mAll\u001b[39;49m\u001b[39m'\u001b[39;49m, \u001b[39m'\u001b[39;49m\u001b[39mAll\u001b[39;49m\u001b[39m'\u001b[39;49m]\n\u001b[1;32m      5\u001b[0m df_zen \u001b[39m=\u001b[39m df[:, \u001b[39m'\u001b[39m\u001b[39mZEN\u001b[39m\u001b[39m'\u001b[39m, \u001b[39m'\u001b[39m\u001b[39mAll\u001b[39m\u001b[39m'\u001b[39m]\n\u001b[1;32m      6\u001b[0m df_dma \u001b[39m=\u001b[39m df[:, \u001b[39m'\u001b[39m\u001b[39mDMA\u001b[39m\u001b[39m'\u001b[39m, \u001b[39m'\u001b[39m\u001b[39mAll\u001b[39m\u001b[39m'\u001b[39m]\n",
      "File \u001b[0;32m~/Documents/dev/dashboards/.env/lib/python3.10/site-packages/pandas/core/frame.py:3504\u001b[0m, in \u001b[0;36mDataFrame.__getitem__\u001b[0;34m(self, key)\u001b[0m\n\u001b[1;32m   3502\u001b[0m \u001b[39mif\u001b[39;00m is_single_key:\n\u001b[1;32m   3503\u001b[0m     \u001b[39mif\u001b[39;00m \u001b[39mself\u001b[39m\u001b[39m.\u001b[39mcolumns\u001b[39m.\u001b[39mnlevels \u001b[39m>\u001b[39m \u001b[39m1\u001b[39m:\n\u001b[0;32m-> 3504\u001b[0m         \u001b[39mreturn\u001b[39;00m \u001b[39mself\u001b[39;49m\u001b[39m.\u001b[39;49m_getitem_multilevel(key)\n\u001b[1;32m   3505\u001b[0m     indexer \u001b[39m=\u001b[39m \u001b[39mself\u001b[39m\u001b[39m.\u001b[39mcolumns\u001b[39m.\u001b[39mget_loc(key)\n\u001b[1;32m   3506\u001b[0m     \u001b[39mif\u001b[39;00m is_integer(indexer):\n",
      "File \u001b[0;32m~/Documents/dev/dashboards/.env/lib/python3.10/site-packages/pandas/core/frame.py:3555\u001b[0m, in \u001b[0;36mDataFrame._getitem_multilevel\u001b[0;34m(self, key)\u001b[0m\n\u001b[1;32m   3553\u001b[0m \u001b[39mdef\u001b[39;00m \u001b[39m_getitem_multilevel\u001b[39m(\u001b[39mself\u001b[39m, key):\n\u001b[1;32m   3554\u001b[0m     \u001b[39m# self.columns is a MultiIndex\u001b[39;00m\n\u001b[0;32m-> 3555\u001b[0m     loc \u001b[39m=\u001b[39m \u001b[39mself\u001b[39;49m\u001b[39m.\u001b[39;49mcolumns\u001b[39m.\u001b[39;49mget_loc(key)\n\u001b[1;32m   3556\u001b[0m     \u001b[39mif\u001b[39;00m \u001b[39misinstance\u001b[39m(loc, (\u001b[39mslice\u001b[39m, np\u001b[39m.\u001b[39mndarray)):\n\u001b[1;32m   3557\u001b[0m         new_columns \u001b[39m=\u001b[39m \u001b[39mself\u001b[39m\u001b[39m.\u001b[39mcolumns[loc]\n",
      "File \u001b[0;32m~/Documents/dev/dashboards/.env/lib/python3.10/site-packages/pandas/core/indexes/multi.py:2852\u001b[0m, in \u001b[0;36mMultiIndex.get_loc\u001b[0;34m(self, key, method)\u001b[0m\n\u001b[1;32m   2846\u001b[0m \u001b[39mif\u001b[39;00m method \u001b[39mis\u001b[39;00m \u001b[39mnot\u001b[39;00m \u001b[39mNone\u001b[39;00m:\n\u001b[1;32m   2847\u001b[0m     \u001b[39mraise\u001b[39;00m \u001b[39mNotImplementedError\u001b[39;00m(\n\u001b[1;32m   2848\u001b[0m         \u001b[39m\"\u001b[39m\u001b[39monly the default get_loc method is \u001b[39m\u001b[39m\"\u001b[39m\n\u001b[1;32m   2849\u001b[0m         \u001b[39m\"\u001b[39m\u001b[39mcurrently supported for MultiIndex\u001b[39m\u001b[39m\"\u001b[39m\n\u001b[1;32m   2850\u001b[0m     )\n\u001b[0;32m-> 2852\u001b[0m \u001b[39mself\u001b[39;49m\u001b[39m.\u001b[39;49m_check_indexing_error(key)\n\u001b[1;32m   2854\u001b[0m \u001b[39mdef\u001b[39;00m \u001b[39m_maybe_to_slice\u001b[39m(loc):\n\u001b[1;32m   2855\u001b[0m     \u001b[39m\"\"\"convert integer indexer to boolean mask or slice if possible\"\"\"\u001b[39;00m\n",
      "File \u001b[0;32m~/Documents/dev/dashboards/.env/lib/python3.10/site-packages/pandas/core/indexes/multi.py:2546\u001b[0m, in \u001b[0;36mMultiIndex._check_indexing_error\u001b[0;34m(self, key)\u001b[0m\n\u001b[1;32m   2541\u001b[0m \u001b[39mdef\u001b[39;00m \u001b[39m_check_indexing_error\u001b[39m(\u001b[39mself\u001b[39m, key) \u001b[39m-\u001b[39m\u001b[39m>\u001b[39m \u001b[39mNone\u001b[39;00m:\n\u001b[1;32m   2542\u001b[0m     \u001b[39mif\u001b[39;00m \u001b[39mnot\u001b[39;00m is_hashable(key) \u001b[39mor\u001b[39;00m is_iterator(key):\n\u001b[1;32m   2543\u001b[0m         \u001b[39m# We allow tuples if they are hashable, whereas other Index\u001b[39;00m\n\u001b[1;32m   2544\u001b[0m         \u001b[39m#  subclasses require scalar.\u001b[39;00m\n\u001b[1;32m   2545\u001b[0m         \u001b[39m# We have to explicitly exclude generators, as these are hashable.\u001b[39;00m\n\u001b[0;32m-> 2546\u001b[0m         \u001b[39mraise\u001b[39;00m InvalidIndexError(key)\n",
      "\u001b[0;31mInvalidIndexError\u001b[0m: (slice(None, None, None), 'All', 'All')"
     ]
    }
   ],
   "source": [
    "df = data[['DepositEUR', 'ValueEUR', 'InvestedEUR', 'CashEUR', 'PnLEUR']]\n",
    "# print('\\n\\ndf\\n', df)\n",
    "\n",
    "df_all = df[:, 'All', 'All']\n",
    "df_zen = df[:, 'ZEN', 'All']\n",
    "df_dma = df[:, 'DMA', 'All']\n",
    "\n",
    "result = pd.concat({ \n",
    "    'All' : df[:, 'All', 'All'],  \n",
    "    'ZEN' : df[:, 'ZEN', 'All'],  \n",
    "    'DMA' : df[:, 'DMA', 'All']\n",
    "}, axis=1)\n",
    "\n",
    "result.transpose().round(1)\n"
   ]
  },
  {
   "cell_type": "code",
   "execution_count": 33,
   "metadata": {},
   "outputs": [
    {
     "data": {
      "text/html": [
       "<div>\n",
       "<style scoped>\n",
       "    .dataframe tbody tr th:only-of-type {\n",
       "        vertical-align: middle;\n",
       "    }\n",
       "\n",
       "    .dataframe tbody tr th {\n",
       "        vertical-align: top;\n",
       "    }\n",
       "\n",
       "    .dataframe thead th {\n",
       "        text-align: right;\n",
       "    }\n",
       "</style>\n",
       "<table border=\"1\" class=\"dataframe\">\n",
       "  <thead>\n",
       "    <tr style=\"text-align: right;\">\n",
       "      <th></th>\n",
       "      <th>All</th>\n",
       "      <th>ZEN</th>\n",
       "      <th>DMA</th>\n",
       "    </tr>\n",
       "  </thead>\n",
       "  <tbody>\n",
       "    <tr>\n",
       "      <th>ValueEUR</th>\n",
       "      <td>0.0</td>\n",
       "      <td>0.0</td>\n",
       "      <td>0.0</td>\n",
       "    </tr>\n",
       "    <tr>\n",
       "      <th>InvestedEUR</th>\n",
       "      <td>0.0</td>\n",
       "      <td>0.0</td>\n",
       "      <td>0.0</td>\n",
       "    </tr>\n",
       "    <tr>\n",
       "      <th>CashEUR</th>\n",
       "      <td>0.0</td>\n",
       "      <td>0.0</td>\n",
       "      <td>0.0</td>\n",
       "    </tr>\n",
       "    <tr>\n",
       "      <th>PnLEUR</th>\n",
       "      <td>0.0</td>\n",
       "      <td>0.0</td>\n",
       "      <td>0.0</td>\n",
       "    </tr>\n",
       "    <tr>\n",
       "      <th>DepositEUR</th>\n",
       "      <td>0.0</td>\n",
       "      <td>0.0</td>\n",
       "      <td>0.0</td>\n",
       "    </tr>\n",
       "  </tbody>\n",
       "</table>\n",
       "</div>"
      ],
      "text/plain": [
       "             All  ZEN  DMA\n",
       "ValueEUR     0.0  0.0  0.0\n",
       "InvestedEUR  0.0  0.0  0.0\n",
       "CashEUR      0.0  0.0  0.0\n",
       "PnLEUR       0.0  0.0  0.0\n",
       "DepositEUR   0.0  0.0  0.0"
      ]
     },
     "execution_count": 33,
     "metadata": {},
     "output_type": "execute_result"
    }
   ],
   "source": [
    "df = data[['ValueEUR', 'InvestedEUR', 'CashEUR', 'PnLEUR', 'DepositEUR']].iloc[1]\n",
    "\n",
    "df_all = pd.concat({ \n",
    "    'All' : df[:, 'All', 'All'],  \n",
    "    'ZEN' : df[:, 'ZEN', 'All'],  \n",
    "    'DMA' : df[:, 'DMA', 'All']\n",
    "}, axis=1) \n",
    "\n",
    "df_all"
   ]
  },
  {
   "cell_type": "code",
   "execution_count": null,
   "metadata": {},
   "outputs": [],
   "source": []
  }
 ],
 "metadata": {
  "kernelspec": {
   "display_name": ".env",
   "language": "python",
   "name": "python3"
  },
  "language_info": {
   "codemirror_mode": {
    "name": "ipython",
    "version": 3
   },
   "file_extension": ".py",
   "mimetype": "text/x-python",
   "name": "python",
   "nbconvert_exporter": "python",
   "pygments_lexer": "ipython3",
   "version": "3.10.8"
  },
  "orig_nbformat": 4,
  "vscode": {
   "interpreter": {
    "hash": "e0e94819156be55a28bfd803e01ad2b3b7815826841d5d8114b63fb17f9e909b"
   }
  }
 },
 "nbformat": 4,
 "nbformat_minor": 2
}
