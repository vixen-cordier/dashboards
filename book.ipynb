{
 "cells": [
  {
   "cell_type": "code",
   "execution_count": 4,
   "metadata": {},
   "outputs": [
    {
     "name": "stdout",
     "output_type": "stream",
     "text": [
      "\n",
      "# ----------------------------------------------\n",
      "# Get data, concate, merge and extract metrics\n",
      "# for portfolio Dashboard \n",
      "# ----------------------------------------------\n",
      "\n",
      "[*********************100%***********************]  3 of 3 completed\n",
      "[*********************100%***********************]  2 of 2 completed\n",
      " DMA\n",
      "   €\n",
      " ZEN\n",
      "   $\n",
      "   BTC\n",
      "   ESE\n",
      "   GOLD\n",
      "   GREENBULL\n",
      "   USDT\n",
      "   €\n",
      "\n",
      "# ----------------------------------------------\n",
      "# Dashboard construction\n",
      "# by Streamlit\n",
      "# ----------------------------------------------\n",
      "\n"
     ]
    },
    {
     "ename": "NameError",
     "evalue": "name 's' is not defined",
     "output_type": "error",
     "traceback": [
      "\u001b[0;31m---------------------------------------------------------------------------\u001b[0m",
      "\u001b[0;31mNameError\u001b[0m                                 Traceback (most recent call last)",
      "Cell \u001b[0;32mIn[4], line 1\u001b[0m\n\u001b[0;32m----> 1\u001b[0m \u001b[39mfrom\u001b[39;00m \u001b[39mapp\u001b[39;00m \u001b[39mimport\u001b[39;00m build_data\n",
      "File \u001b[0;32m~/Documents/dev/dashboards/app.py:139\u001b[0m\n\u001b[1;32m    135\u001b[0m all_tab, zen_tab, dma_tab \u001b[39m=\u001b[39m st\u001b[39m.\u001b[39mtabs([\u001b[39m\"\u001b[39m\u001b[39mOverview\u001b[39m\u001b[39m\"\u001b[39m, \u001b[39m\"\u001b[39m\u001b[39mZEN\u001b[39m\u001b[39m\"\u001b[39m, \u001b[39m\"\u001b[39m\u001b[39mDMA\u001b[39m\u001b[39m\"\u001b[39m])\n\u001b[1;32m    137\u001b[0m \u001b[39mwith\u001b[39;00m all_tab:\n\u001b[1;32m    138\u001b[0m     df_all \u001b[39m=\u001b[39m pd\u001b[39m.\u001b[39mconcat({ \n\u001b[0;32m--> 139\u001b[0m         \u001b[39m'\u001b[39m\u001b[39mAll\u001b[39m\u001b[39m'\u001b[39m : s[:, \u001b[39m'\u001b[39m\u001b[39mAll\u001b[39m\u001b[39m'\u001b[39m, \u001b[39m'\u001b[39m\u001b[39mAll\u001b[39m\u001b[39m'\u001b[39m],  \n\u001b[1;32m    140\u001b[0m         \u001b[39m'\u001b[39m\u001b[39mZEN\u001b[39m\u001b[39m'\u001b[39m : s[:, \u001b[39m'\u001b[39m\u001b[39mZEN\u001b[39m\u001b[39m'\u001b[39m, \u001b[39m'\u001b[39m\u001b[39mAll\u001b[39m\u001b[39m'\u001b[39m],  \n\u001b[1;32m    141\u001b[0m         \u001b[39m'\u001b[39m\u001b[39mDMA\u001b[39m\u001b[39m'\u001b[39m : s[:, \u001b[39m'\u001b[39m\u001b[39mDMA\u001b[39m\u001b[39m'\u001b[39m, \u001b[39m'\u001b[39m\u001b[39mAll\u001b[39m\u001b[39m'\u001b[39m]\n\u001b[1;32m    142\u001b[0m     }, axis\u001b[39m=\u001b[39m\u001b[39m1\u001b[39m) \n\u001b[1;32m    143\u001b[0m     st\u001b[39m.\u001b[39mdataframe(df_all\u001b[39m.\u001b[39mtranspose()\u001b[39m.\u001b[39mstyle\u001b[39m.\u001b[39mformat(\u001b[39m\"\u001b[39m\u001b[39m{:.0f}\u001b[39;00m\u001b[39m\"\u001b[39m), use_container_width\u001b[39m=\u001b[39m\u001b[39mTrue\u001b[39;00m)\n\u001b[1;32m    145\u001b[0m     fig \u001b[39m=\u001b[39m go\u001b[39m.\u001b[39mFigure()\n",
      "\u001b[0;31mNameError\u001b[0m: name 's' is not defined"
     ]
    }
   ],
   "source": [
    "from api import build_data\n"
   ]
  },
  {
   "cell_type": "code",
   "execution_count": 5,
   "metadata": {},
   "outputs": [
    {
     "ename": "NameError",
     "evalue": "name 'build_data' is not defined",
     "output_type": "error",
     "traceback": [
      "\u001b[0;31m---------------------------------------------------------------------------\u001b[0m",
      "\u001b[0;31mNameError\u001b[0m                                 Traceback (most recent call last)",
      "Cell \u001b[0;32mIn[5], line 1\u001b[0m\n\u001b[0;32m----> 1\u001b[0m df \u001b[39m=\u001b[39m build_data()\n\u001b[1;32m      2\u001b[0m df\n",
      "\u001b[0;31mNameError\u001b[0m: name 'build_data' is not defined"
     ]
    }
   ],
   "source": [
    "df = build_data()\n",
    "df"
   ]
  },
  {
   "cell_type": "code",
   "execution_count": null,
   "metadata": {},
   "outputs": [],
   "source": []
  }
 ],
 "metadata": {
  "kernelspec": {
   "display_name": ".env",
   "language": "python",
   "name": "python3"
  },
  "language_info": {
   "codemirror_mode": {
    "name": "ipython",
    "version": 3
   },
   "file_extension": ".py",
   "mimetype": "text/x-python",
   "name": "python",
   "nbconvert_exporter": "python",
   "pygments_lexer": "ipython3",
   "version": "3.10.8"
  },
  "orig_nbformat": 4,
  "vscode": {
   "interpreter": {
    "hash": "e0e94819156be55a28bfd803e01ad2b3b7815826841d5d8114b63fb17f9e909b"
   }
  }
 },
 "nbformat": 4,
 "nbformat_minor": 2
}
