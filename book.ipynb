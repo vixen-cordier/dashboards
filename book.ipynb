{
 "cells": [
  {
   "cell_type": "code",
   "execution_count": 2,
   "metadata": {},
   "outputs": [
    {
     "name": "stdout",
     "output_type": "stream",
     "text": [
      "[*********************100%***********************]  3 of 3 completed\n",
      "[*********************100%***********************]  2 of 2 completed\n",
      " DMA\n",
      "   €\n",
      " ZEN\n",
      "   $\n",
      "   BTC\n",
      "   ESE\n",
      "   GOLD\n",
      "   GREENBULL\n",
      "   USDT\n",
      "   €\n"
     ]
    },
    {
     "name": "stderr",
     "output_type": "stream",
     "text": [
      "2023-01-12 08:46:12.340 \n",
      "  \u001b[33m\u001b[1mWarning:\u001b[0m to view this Streamlit app on a browser, run it with the following\n",
      "  command:\n",
      "\n",
      "    streamlit run c:\\Users\\vcordier\\Documents\\MesDocuments\\dev\\test\\dashboards\\.env\\lib\\site-packages\\ipykernel_launcher.py [ARGUMENTS]\n",
      "2023-01-12 08:46:12.587 Applying automatic fixes for column types to make the dataframe Arrow-compatible.\n"
     ]
    },
    {
     "name": "stdout",
     "output_type": "stream",
     "text": [
      "[*********************100%***********************]  3 of 3 completed\n",
      "[*********************100%***********************]  2 of 2 completed\n",
      " DMA\n",
      "   €\n",
      " ZEN\n",
      "   $\n",
      "   BTC\n",
      "   ESE\n",
      "   GOLD\n",
      "   GREENBULL\n",
      "   USDT\n",
      "   €\n"
     ]
    }
   ],
   "source": [
    "from app import *\n",
    "\n",
    "sheets = extract_sheets()\n",
    "market = fetch_market(sheets['Dicts']['assets'], sheets['Others'])\n",
    "forex = fetch_forex(sheets['Dicts']['depots'])\n",
    "data = build_metrics(sheets['Dicts']['assets'], market, sheets['Dicts']['depots'], forex, sheets['Operation'])\n",
    "\n"
   ]
  },
  {
   "cell_type": "code",
   "execution_count": 3,
   "metadata": {},
   "outputs": [
    {
     "ename": "InvalidIndexError",
     "evalue": "(slice(None, None, None), 'ZEN', slice(None, None, None))",
     "output_type": "error",
     "traceback": [
      "\u001b[1;31m---------------------------------------------------------------------------\u001b[0m",
      "\u001b[1;31mInvalidIndexError\u001b[0m                         Traceback (most recent call last)",
      "Cell \u001b[1;32mIn [3], line 2\u001b[0m\n\u001b[0;32m      1\u001b[0m df \u001b[39m=\u001b[39m data[[\u001b[39m'\u001b[39m\u001b[39mValueEUR\u001b[39m\u001b[39m'\u001b[39m, \u001b[39m'\u001b[39m\u001b[39mInvestedEUR\u001b[39m\u001b[39m'\u001b[39m, \u001b[39m'\u001b[39m\u001b[39mCashEUR\u001b[39m\u001b[39m'\u001b[39m, \u001b[39m'\u001b[39m\u001b[39mPnLEUR\u001b[39m\u001b[39m'\u001b[39m, \u001b[39m'\u001b[39m\u001b[39mDepositEUR\u001b[39m\u001b[39m'\u001b[39m]]\n\u001b[1;32m----> 2\u001b[0m df\u001b[39m.\u001b[39;49mloc[:, \u001b[39m'\u001b[39;49m\u001b[39mZEN\u001b[39;49m\u001b[39m'\u001b[39;49m, :]\n",
      "File \u001b[1;32mc:\\Users\\vcordier\\Documents\\MesDocuments\\dev\\test\\dashboards\\.env\\lib\\site-packages\\pandas\\core\\indexing.py:961\u001b[0m, in \u001b[0;36m_LocationIndexer.__getitem__\u001b[1;34m(self, key)\u001b[0m\n\u001b[0;32m    959\u001b[0m     \u001b[39mif\u001b[39;00m \u001b[39mself\u001b[39m\u001b[39m.\u001b[39m_is_scalar_access(key):\n\u001b[0;32m    960\u001b[0m         \u001b[39mreturn\u001b[39;00m \u001b[39mself\u001b[39m\u001b[39m.\u001b[39mobj\u001b[39m.\u001b[39m_get_value(\u001b[39m*\u001b[39mkey, takeable\u001b[39m=\u001b[39m\u001b[39mself\u001b[39m\u001b[39m.\u001b[39m_takeable)\n\u001b[1;32m--> 961\u001b[0m     \u001b[39mreturn\u001b[39;00m \u001b[39mself\u001b[39;49m\u001b[39m.\u001b[39;49m_getitem_tuple(key)\n\u001b[0;32m    962\u001b[0m \u001b[39melse\u001b[39;00m:\n\u001b[0;32m    963\u001b[0m     \u001b[39m# we by definition only have the 0th axis\u001b[39;00m\n\u001b[0;32m    964\u001b[0m     axis \u001b[39m=\u001b[39m \u001b[39mself\u001b[39m\u001b[39m.\u001b[39maxis \u001b[39mor\u001b[39;00m \u001b[39m0\u001b[39m\n",
      "File \u001b[1;32mc:\\Users\\vcordier\\Documents\\MesDocuments\\dev\\test\\dashboards\\.env\\lib\\site-packages\\pandas\\core\\indexing.py:1140\u001b[0m, in \u001b[0;36m_LocIndexer._getitem_tuple\u001b[1;34m(self, tup)\u001b[0m\n\u001b[0;32m   1138\u001b[0m \u001b[39mwith\u001b[39;00m suppress(IndexingError):\n\u001b[0;32m   1139\u001b[0m     tup \u001b[39m=\u001b[39m \u001b[39mself\u001b[39m\u001b[39m.\u001b[39m_expand_ellipsis(tup)\n\u001b[1;32m-> 1140\u001b[0m     \u001b[39mreturn\u001b[39;00m \u001b[39mself\u001b[39;49m\u001b[39m.\u001b[39;49m_getitem_lowerdim(tup)\n\u001b[0;32m   1142\u001b[0m \u001b[39m# no multi-index, so validate all of the indexers\u001b[39;00m\n\u001b[0;32m   1143\u001b[0m tup \u001b[39m=\u001b[39m \u001b[39mself\u001b[39m\u001b[39m.\u001b[39m_validate_tuple_indexer(tup)\n",
      "File \u001b[1;32mc:\\Users\\vcordier\\Documents\\MesDocuments\\dev\\test\\dashboards\\.env\\lib\\site-packages\\pandas\\core\\indexing.py:843\u001b[0m, in \u001b[0;36m_LocationIndexer._getitem_lowerdim\u001b[1;34m(self, tup)\u001b[0m\n\u001b[0;32m    841\u001b[0m \u001b[39m# we may have a nested tuples indexer here\u001b[39;00m\n\u001b[0;32m    842\u001b[0m \u001b[39mif\u001b[39;00m \u001b[39mself\u001b[39m\u001b[39m.\u001b[39m_is_nested_tuple_indexer(tup):\n\u001b[1;32m--> 843\u001b[0m     \u001b[39mreturn\u001b[39;00m \u001b[39mself\u001b[39;49m\u001b[39m.\u001b[39;49m_getitem_nested_tuple(tup)\n\u001b[0;32m    845\u001b[0m \u001b[39m# we maybe be using a tuple to represent multiple dimensions here\u001b[39;00m\n\u001b[0;32m    846\u001b[0m ax0 \u001b[39m=\u001b[39m \u001b[39mself\u001b[39m\u001b[39m.\u001b[39mobj\u001b[39m.\u001b[39m_get_axis(\u001b[39m0\u001b[39m)\n",
      "File \u001b[1;32mc:\\Users\\vcordier\\Documents\\MesDocuments\\dev\\test\\dashboards\\.env\\lib\\site-packages\\pandas\\core\\indexing.py:914\u001b[0m, in \u001b[0;36m_LocationIndexer._getitem_nested_tuple\u001b[1;34m(self, tup)\u001b[0m\n\u001b[0;32m    909\u001b[0m \u001b[39mif\u001b[39;00m \u001b[39mall\u001b[39m(is_hashable(x) \u001b[39mor\u001b[39;00m com\u001b[39m.\u001b[39mis_null_slice(x) \u001b[39mfor\u001b[39;00m x \u001b[39min\u001b[39;00m tup):\n\u001b[0;32m    910\u001b[0m     \u001b[39m# GH#10521 Series should reduce MultiIndex dimensions instead of\u001b[39;00m\n\u001b[0;32m    911\u001b[0m     \u001b[39m#  DataFrame, IndexingError is not raised when slice(None,None,None)\u001b[39;00m\n\u001b[0;32m    912\u001b[0m     \u001b[39m#  with one row.\u001b[39;00m\n\u001b[0;32m    913\u001b[0m     \u001b[39mwith\u001b[39;00m suppress(IndexingError):\n\u001b[1;32m--> 914\u001b[0m         \u001b[39mreturn\u001b[39;00m \u001b[39mself\u001b[39;49m\u001b[39m.\u001b[39;49m_handle_lowerdim_multi_index_axis0(tup)\n\u001b[0;32m    915\u001b[0m \u001b[39melif\u001b[39;00m \u001b[39misinstance\u001b[39m(\u001b[39mself\u001b[39m\u001b[39m.\u001b[39mobj, ABCSeries) \u001b[39mand\u001b[39;00m \u001b[39many\u001b[39m(\n\u001b[0;32m    916\u001b[0m     \u001b[39misinstance\u001b[39m(k, \u001b[39mtuple\u001b[39m) \u001b[39mfor\u001b[39;00m k \u001b[39min\u001b[39;00m tup\n\u001b[0;32m    917\u001b[0m ):\n\u001b[1;32m   (...)\u001b[0m\n\u001b[0;32m    921\u001b[0m     \u001b[39m#  that themselves contain a slice entry\u001b[39;00m\n\u001b[0;32m    922\u001b[0m     \u001b[39m# See test_loc_series_getitem_too_many_dimensions\u001b[39;00m\n\u001b[0;32m    923\u001b[0m     \u001b[39mraise\u001b[39;00m \u001b[39mValueError\u001b[39;00m(\u001b[39m\"\u001b[39m\u001b[39mToo many indices\u001b[39m\u001b[39m\"\u001b[39m)\n",
      "File \u001b[1;32mc:\\Users\\vcordier\\Documents\\MesDocuments\\dev\\test\\dashboards\\.env\\lib\\site-packages\\pandas\\core\\indexing.py:1160\u001b[0m, in \u001b[0;36m_LocIndexer._handle_lowerdim_multi_index_axis0\u001b[1;34m(self, tup)\u001b[0m\n\u001b[0;32m   1157\u001b[0m axis \u001b[39m=\u001b[39m \u001b[39mself\u001b[39m\u001b[39m.\u001b[39maxis \u001b[39mor\u001b[39;00m \u001b[39m0\u001b[39m\n\u001b[0;32m   1158\u001b[0m \u001b[39mtry\u001b[39;00m:\n\u001b[0;32m   1159\u001b[0m     \u001b[39m# fast path for series or for tup devoid of slices\u001b[39;00m\n\u001b[1;32m-> 1160\u001b[0m     \u001b[39mreturn\u001b[39;00m \u001b[39mself\u001b[39;49m\u001b[39m.\u001b[39;49m_get_label(tup, axis\u001b[39m=\u001b[39;49maxis)\n\u001b[0;32m   1162\u001b[0m \u001b[39mexcept\u001b[39;00m \u001b[39mKeyError\u001b[39;00m \u001b[39mas\u001b[39;00m ek:\n\u001b[0;32m   1163\u001b[0m     \u001b[39m# raise KeyError if number of indexers match\u001b[39;00m\n\u001b[0;32m   1164\u001b[0m     \u001b[39m# else IndexingError will be raised\u001b[39;00m\n\u001b[0;32m   1165\u001b[0m     \u001b[39mif\u001b[39;00m \u001b[39mself\u001b[39m\u001b[39m.\u001b[39mndim \u001b[39m<\u001b[39m \u001b[39mlen\u001b[39m(tup) \u001b[39m<\u001b[39m\u001b[39m=\u001b[39m \u001b[39mself\u001b[39m\u001b[39m.\u001b[39mobj\u001b[39m.\u001b[39mindex\u001b[39m.\u001b[39mnlevels:\n",
      "File \u001b[1;32mc:\\Users\\vcordier\\Documents\\MesDocuments\\dev\\test\\dashboards\\.env\\lib\\site-packages\\pandas\\core\\indexing.py:1153\u001b[0m, in \u001b[0;36m_LocIndexer._get_label\u001b[1;34m(self, label, axis)\u001b[0m\n\u001b[0;32m   1151\u001b[0m \u001b[39mdef\u001b[39;00m \u001b[39m_get_label\u001b[39m(\u001b[39mself\u001b[39m, label, axis: \u001b[39mint\u001b[39m):\n\u001b[0;32m   1152\u001b[0m     \u001b[39m# GH#5667 this will fail if the label is not present in the axis.\u001b[39;00m\n\u001b[1;32m-> 1153\u001b[0m     \u001b[39mreturn\u001b[39;00m \u001b[39mself\u001b[39;49m\u001b[39m.\u001b[39;49mobj\u001b[39m.\u001b[39;49mxs(label, axis\u001b[39m=\u001b[39;49maxis)\n",
      "File \u001b[1;32mc:\\Users\\vcordier\\Documents\\MesDocuments\\dev\\test\\dashboards\\.env\\lib\\site-packages\\pandas\\core\\generic.py:3864\u001b[0m, in \u001b[0;36mNDFrame.xs\u001b[1;34m(self, key, axis, level, drop_level)\u001b[0m\n\u001b[0;32m   3862\u001b[0m             new_index \u001b[39m=\u001b[39m index[loc]\n\u001b[0;32m   3863\u001b[0m \u001b[39melse\u001b[39;00m:\n\u001b[1;32m-> 3864\u001b[0m     loc \u001b[39m=\u001b[39m index\u001b[39m.\u001b[39;49mget_loc(key)\n\u001b[0;32m   3866\u001b[0m     \u001b[39mif\u001b[39;00m \u001b[39misinstance\u001b[39m(loc, np\u001b[39m.\u001b[39mndarray):\n\u001b[0;32m   3867\u001b[0m         \u001b[39mif\u001b[39;00m loc\u001b[39m.\u001b[39mdtype \u001b[39m==\u001b[39m np\u001b[39m.\u001b[39mbool_:\n",
      "File \u001b[1;32mc:\\Users\\vcordier\\Documents\\MesDocuments\\dev\\test\\dashboards\\.env\\lib\\site-packages\\pandas\\core\\indexes\\datetimes.py:647\u001b[0m, in \u001b[0;36mDatetimeIndex.get_loc\u001b[1;34m(self, key, method, tolerance)\u001b[0m\n\u001b[0;32m    639\u001b[0m \u001b[39mdef\u001b[39;00m \u001b[39mget_loc\u001b[39m(\u001b[39mself\u001b[39m, key, method\u001b[39m=\u001b[39m\u001b[39mNone\u001b[39;00m, tolerance\u001b[39m=\u001b[39m\u001b[39mNone\u001b[39;00m):\n\u001b[0;32m    640\u001b[0m     \u001b[39m\"\"\"\u001b[39;00m\n\u001b[0;32m    641\u001b[0m \u001b[39m    Get integer location for requested label\u001b[39;00m\n\u001b[0;32m    642\u001b[0m \n\u001b[1;32m   (...)\u001b[0m\n\u001b[0;32m    645\u001b[0m \u001b[39m    loc : int\u001b[39;00m\n\u001b[0;32m    646\u001b[0m \u001b[39m    \"\"\"\u001b[39;00m\n\u001b[1;32m--> 647\u001b[0m     \u001b[39mself\u001b[39;49m\u001b[39m.\u001b[39;49m_check_indexing_error(key)\n\u001b[0;32m    649\u001b[0m     orig_key \u001b[39m=\u001b[39m key\n\u001b[0;32m    650\u001b[0m     \u001b[39mif\u001b[39;00m is_valid_na_for_dtype(key, \u001b[39mself\u001b[39m\u001b[39m.\u001b[39mdtype):\n",
      "File \u001b[1;32mc:\\Users\\vcordier\\Documents\\MesDocuments\\dev\\test\\dashboards\\.env\\lib\\site-packages\\pandas\\core\\indexes\\base.py:5651\u001b[0m, in \u001b[0;36mIndex._check_indexing_error\u001b[1;34m(self, key)\u001b[0m\n\u001b[0;32m   5647\u001b[0m \u001b[39mdef\u001b[39;00m \u001b[39m_check_indexing_error\u001b[39m(\u001b[39mself\u001b[39m, key):\n\u001b[0;32m   5648\u001b[0m     \u001b[39mif\u001b[39;00m \u001b[39mnot\u001b[39;00m is_scalar(key):\n\u001b[0;32m   5649\u001b[0m         \u001b[39m# if key is not a scalar, directly raise an error (the code below\u001b[39;00m\n\u001b[0;32m   5650\u001b[0m         \u001b[39m# would convert to numpy arrays and raise later any way) - GH29926\u001b[39;00m\n\u001b[1;32m-> 5651\u001b[0m         \u001b[39mraise\u001b[39;00m InvalidIndexError(key)\n",
      "\u001b[1;31mInvalidIndexError\u001b[0m: (slice(None, None, None), 'ZEN', slice(None, None, None))"
     ]
    }
   ],
   "source": [
    "df = data[['ValueEUR', 'InvestedEUR', 'CashEUR', 'PnLEUR', 'DepositEUR']]\n",
    "df.loc[:, data.columns.get_level_values(1).isin({'ZEN'}), :]"
   ]
  },
  {
   "cell_type": "code",
   "execution_count": null,
   "metadata": {},
   "outputs": [],
   "source": []
  }
 ],
 "metadata": {
  "kernelspec": {
   "display_name": ".env",
   "language": "python",
   "name": "python3"
  },
  "language_info": {
   "codemirror_mode": {
    "name": "ipython",
    "version": 3
   },
   "file_extension": ".py",
   "mimetype": "text/x-python",
   "name": "python",
   "nbconvert_exporter": "python",
   "pygments_lexer": "ipython3",
   "version": "3.10.5"
  },
  "orig_nbformat": 4,
  "vscode": {
   "interpreter": {
    "hash": "804e7ee1804460a5d49adb8f72a7787217750747c314b60956905ff5648956bd"
   }
  }
 },
 "nbformat": 4,
 "nbformat_minor": 2
}
