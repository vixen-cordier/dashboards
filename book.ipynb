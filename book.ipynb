{
 "cells": [
  {
   "cell_type": "code",
   "execution_count": 1,
   "metadata": {},
   "outputs": [],
   "source": [
    "import streamlit as st\n",
    "import gspread as gs \n",
    "\n",
    "SPREADSHEET = 'portfolio'\n",
    "\n",
    "gc = gs.service_account_from_dict(st.secrets['gcp_service_account'])\n",
    "ss = gc.open_by_key(st.secrets[SPREADSHEET].spreadsheet_key).worksheet(st.secrets[SPREADSHEET].worksheet_name)"
   ]
  },
  {
   "cell_type": "code",
   "execution_count": 2,
   "metadata": {},
   "outputs": [
    {
     "name": "stdout",
     "output_type": "stream",
     "text": [
      "[*********************100%***********************]  1 of 1 completed\n"
     ]
    }
   ],
   "source": [
    "import yfinance as yf\n",
    "\n",
    "eurusd = yf.download('EURUSD=X', start='2021-01-01')[['Close']].reset_index()"
   ]
  },
  {
   "cell_type": "code",
   "execution_count": 3,
   "metadata": {},
   "outputs": [
    {
     "data": {
      "text/html": [
       "<div>\n",
       "<style scoped>\n",
       "    .dataframe tbody tr th:only-of-type {\n",
       "        vertical-align: middle;\n",
       "    }\n",
       "\n",
       "    .dataframe tbody tr th {\n",
       "        vertical-align: top;\n",
       "    }\n",
       "\n",
       "    .dataframe thead th {\n",
       "        text-align: right;\n",
       "    }\n",
       "</style>\n",
       "<table border=\"1\" class=\"dataframe\">\n",
       "  <thead>\n",
       "    <tr style=\"text-align: right;\">\n",
       "      <th></th>\n",
       "      <th>Date</th>\n",
       "      <th>Portfolio</th>\n",
       "      <th>Account</th>\n",
       "      <th>Asset</th>\n",
       "      <th>Price</th>\n",
       "      <th>Amount</th>\n",
       "      <th>Fees</th>\n",
       "      <th>Total</th>\n",
       "      <th>Total€</th>\n",
       "      <th>Currency</th>\n",
       "      <th>Out</th>\n",
       "      <th>Profit</th>\n",
       "      <th>EURUSD</th>\n",
       "    </tr>\n",
       "  </thead>\n",
       "  <tbody>\n",
       "    <tr>\n",
       "      <th>0</th>\n",
       "      <td>30 Apr 2021</td>\n",
       "      <td>ZEN REMIX</td>\n",
       "      <td>eToro</td>\n",
       "      <td>$</td>\n",
       "      <td></td>\n",
       "      <td></td>\n",
       "      <td></td>\n",
       "      <td>598.0</td>\n",
       "      <td>493.110802</td>\n",
       "      <td>$</td>\n",
       "      <td></td>\n",
       "      <td></td>\n",
       "      <td>1.212709</td>\n",
       "    </tr>\n",
       "    <tr>\n",
       "      <th>1</th>\n",
       "      <td>30 Apr 2021</td>\n",
       "      <td>ZEN REMIX</td>\n",
       "      <td>eToro</td>\n",
       "      <td>GREENBULL</td>\n",
       "      <td>598</td>\n",
       "      <td>1</td>\n",
       "      <td></td>\n",
       "      <td>598.0</td>\n",
       "      <td>493.110802</td>\n",
       "      <td>$</td>\n",
       "      <td></td>\n",
       "      <td></td>\n",
       "      <td>1.212709</td>\n",
       "    </tr>\n",
       "    <tr>\n",
       "      <th>2</th>\n",
       "      <td>30 Jul 2021</td>\n",
       "      <td>ZEN REMIX</td>\n",
       "      <td>eToro</td>\n",
       "      <td>$</td>\n",
       "      <td></td>\n",
       "      <td></td>\n",
       "      <td></td>\n",
       "      <td>585.0</td>\n",
       "      <td>491.886106</td>\n",
       "      <td>$</td>\n",
       "      <td></td>\n",
       "      <td></td>\n",
       "      <td>1.189300</td>\n",
       "    </tr>\n",
       "    <tr>\n",
       "      <th>3</th>\n",
       "      <td>30 Jul 2021</td>\n",
       "      <td>ZEN REMIX</td>\n",
       "      <td>eToro</td>\n",
       "      <td>GREENBULL</td>\n",
       "      <td>585</td>\n",
       "      <td>1</td>\n",
       "      <td></td>\n",
       "      <td>585.0</td>\n",
       "      <td>491.886106</td>\n",
       "      <td>$</td>\n",
       "      <td></td>\n",
       "      <td></td>\n",
       "      <td>1.189300</td>\n",
       "    </tr>\n",
       "    <tr>\n",
       "      <th>5</th>\n",
       "      <td>10 Aug 2021</td>\n",
       "      <td>ZEN REMIX</td>\n",
       "      <td>B.Direct CTO</td>\n",
       "      <td>€</td>\n",
       "      <td></td>\n",
       "      <td></td>\n",
       "      <td></td>\n",
       "      <td>300.0</td>\n",
       "      <td>300.000000</td>\n",
       "      <td>€</td>\n",
       "      <td></td>\n",
       "      <td></td>\n",
       "      <td>1.173847</td>\n",
       "    </tr>\n",
       "  </tbody>\n",
       "</table>\n",
       "</div>"
      ],
      "text/plain": [
       "          Date  Portfolio       Account      Asset Price Amount Fees  Total  \\\n",
       "0  30 Apr 2021  ZEN REMIX         eToro          $                    598.0   \n",
       "1  30 Apr 2021  ZEN REMIX         eToro  GREENBULL   598      1       598.0   \n",
       "2  30 Jul 2021  ZEN REMIX         eToro          $                    585.0   \n",
       "3  30 Jul 2021  ZEN REMIX         eToro  GREENBULL   585      1       585.0   \n",
       "5  10 Aug 2021  ZEN REMIX  B.Direct CTO          €                    300.0   \n",
       "\n",
       "       Total€ Currency Out Profit    EURUSD  \n",
       "0  493.110802        $             1.212709  \n",
       "1  493.110802        $             1.212709  \n",
       "2  491.886106        $             1.189300  \n",
       "3  491.886106        $             1.189300  \n",
       "5  300.000000        €             1.173847  "
      ]
     },
     "execution_count": 3,
     "metadata": {},
     "output_type": "execute_result"
    }
   ],
   "source": [
    "import pandas as pd\n",
    "\n",
    "df = pd.DataFrame(ss.get_all_records())\n",
    "df.query('Portfolio == \"ZEN REMIX\"', inplace=True)\n",
    "df['EURUSD'] = df.apply(lambda row: eurusd.query(\"Date == @row['Date']\")['Close'].values[0], axis=1)\n",
    "df['Total€'] = df.apply(lambda row: row['Total'] / (1 if row['Currency'] == \"€\" else row['EURUSD']), axis=1)\n",
    "df['Value€'] = df.apply(lambda row: row['Total'] / (1 if row['Currency'] == \"€\" else row['EURUSD']), axis=1)\n",
    "df.head()\n"
   ]
  },
  {
   "cell_type": "code",
   "execution_count": 4,
   "metadata": {},
   "outputs": [
    {
     "ename": "ValueError",
     "evalue": "Mime type rendering requires nbformat>=4.2.0 but it is not installed",
     "output_type": "error",
     "traceback": [
      "\u001b[1;31m---------------------------------------------------------------------------\u001b[0m",
      "\u001b[1;31mValueError\u001b[0m                                Traceback (most recent call last)",
      "Cell \u001b[1;32mIn [4], line 5\u001b[0m\n\u001b[0;32m      3\u001b[0m fig \u001b[39m=\u001b[39m go\u001b[39m.\u001b[39mFigure()\n\u001b[0;32m      4\u001b[0m fig\u001b[39m.\u001b[39madd_trace(go\u001b[39m.\u001b[39mScatter(x\u001b[39m=\u001b[39mdf[\u001b[39m'\u001b[39m\u001b[39mDate\u001b[39m\u001b[39m'\u001b[39m], y\u001b[39m=\u001b[39mdf[\u001b[39m'\u001b[39m\u001b[39mTotal€\u001b[39m\u001b[39m'\u001b[39m]))\n\u001b[1;32m----> 5\u001b[0m fig\u001b[39m.\u001b[39;49mshow()\n",
      "File \u001b[1;32mc:\\Users\\vcordier\\AppData\\Local\\Programs\\Python\\Python310\\lib\\site-packages\\plotly\\basedatatypes.py:3398\u001b[0m, in \u001b[0;36mBaseFigure.show\u001b[1;34m(self, *args, **kwargs)\u001b[0m\n\u001b[0;32m   3365\u001b[0m \u001b[39m\"\"\"\u001b[39;00m\n\u001b[0;32m   3366\u001b[0m \u001b[39mShow a figure using either the default renderer(s) or the renderer(s)\u001b[39;00m\n\u001b[0;32m   3367\u001b[0m \u001b[39mspecified by the renderer argument\u001b[39;00m\n\u001b[1;32m   (...)\u001b[0m\n\u001b[0;32m   3394\u001b[0m \u001b[39mNone\u001b[39;00m\n\u001b[0;32m   3395\u001b[0m \u001b[39m\"\"\"\u001b[39;00m\n\u001b[0;32m   3396\u001b[0m \u001b[39mimport\u001b[39;00m \u001b[39mplotly\u001b[39;00m\u001b[39m.\u001b[39;00m\u001b[39mio\u001b[39;00m \u001b[39mas\u001b[39;00m \u001b[39mpio\u001b[39;00m\n\u001b[1;32m-> 3398\u001b[0m \u001b[39mreturn\u001b[39;00m pio\u001b[39m.\u001b[39mshow(\u001b[39mself\u001b[39m, \u001b[39m*\u001b[39margs, \u001b[39m*\u001b[39m\u001b[39m*\u001b[39mkwargs)\n",
      "File \u001b[1;32mc:\\Users\\vcordier\\AppData\\Local\\Programs\\Python\\Python310\\lib\\site-packages\\plotly\\io\\_renderers.py:396\u001b[0m, in \u001b[0;36mshow\u001b[1;34m(fig, renderer, validate, **kwargs)\u001b[0m\n\u001b[0;32m    391\u001b[0m         \u001b[39mraise\u001b[39;00m \u001b[39mValueError\u001b[39;00m(\n\u001b[0;32m    392\u001b[0m             \u001b[39m\"\u001b[39m\u001b[39mMime type rendering requires ipython but it is not installed\u001b[39m\u001b[39m\"\u001b[39m\n\u001b[0;32m    393\u001b[0m         )\n\u001b[0;32m    395\u001b[0m     \u001b[39mif\u001b[39;00m \u001b[39mnot\u001b[39;00m nbformat \u001b[39mor\u001b[39;00m LooseVersion(nbformat\u001b[39m.\u001b[39m__version__) \u001b[39m<\u001b[39m LooseVersion(\u001b[39m\"\u001b[39m\u001b[39m4.2.0\u001b[39m\u001b[39m\"\u001b[39m):\n\u001b[1;32m--> 396\u001b[0m         \u001b[39mraise\u001b[39;00m \u001b[39mValueError\u001b[39;00m(\n\u001b[0;32m    397\u001b[0m             \u001b[39m\"\u001b[39m\u001b[39mMime type rendering requires nbformat>=4.2.0 but it is not installed\u001b[39m\u001b[39m\"\u001b[39m\n\u001b[0;32m    398\u001b[0m         )\n\u001b[0;32m    400\u001b[0m     ipython_display\u001b[39m.\u001b[39mdisplay(bundle, raw\u001b[39m=\u001b[39m\u001b[39mTrue\u001b[39;00m)\n\u001b[0;32m    402\u001b[0m \u001b[39m# external renderers\u001b[39;00m\n",
      "\u001b[1;31mValueError\u001b[0m: Mime type rendering requires nbformat>=4.2.0 but it is not installed"
     ]
    }
   ],
   "source": [
    "import plotly.graph_objects as go\n",
    "\n",
    "fig = go.Figure()\n",
    "fig.add_trace(go.Scatter(x=df['Date'], y=df['Total€']))\n",
    "fig.show()"
   ]
  },
  {
   "cell_type": "code",
   "execution_count": null,
   "metadata": {},
   "outputs": [],
   "source": []
  }
 ],
 "metadata": {
  "kernelspec": {
   "display_name": "Python 3.10.5 64-bit",
   "language": "python",
   "name": "python3"
  },
  "language_info": {
   "codemirror_mode": {
    "name": "ipython",
    "version": 3
   },
   "file_extension": ".py",
   "mimetype": "text/x-python",
   "name": "python",
   "nbconvert_exporter": "python",
   "pygments_lexer": "ipython3",
   "version": "3.10.5"
  },
  "orig_nbformat": 4,
  "vscode": {
   "interpreter": {
    "hash": "f0e52d4fafa7cfdb58d0600a6db61910b082328da2d8f8955d6acb8c9118d6a5"
   }
  }
 },
 "nbformat": 4,
 "nbformat_minor": 2
}
