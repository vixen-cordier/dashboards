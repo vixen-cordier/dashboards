{
 "cells": [
  {
   "cell_type": "code",
   "execution_count": 1,
   "metadata": {},
   "outputs": [],
   "source": [
    "%load_ext autoreload\n",
    "%autoreload 2\n",
    "\n",
    "from api_tricount import *\n"
   ]
  },
  {
   "cell_type": "code",
   "execution_count": 2,
   "metadata": {},
   "outputs": [
    {
     "name": "stdout",
     "output_type": "stream",
     "text": [
      "\n",
      "    # --------------------------------- #\n",
      "    # Connection to Google Sheet        #\n",
      "    # and extract Spreadsheets          #\n",
      "    #  - exported tricount data         #\n",
      "    #  - category dictonnary            #\n",
      "    # --------------------------------- #\n",
      "    \n",
      " -- data fetched\n",
      "(1023, 17)\n",
      "Index(['Unnamed: 0', 'Titre', 'Montant', 'Devise', 'Taux de change',\n",
      "       'Montant dans la devise du tricount (EUR)', 'Type de transaction',\n",
      "       'Catégorie', 'Payé par', 'Payé par Commun', 'Payé par Lucie',\n",
      "       'Payé par Vincent', 'Impacté à Commun', 'Impacté à Lucie',\n",
      "       'Impacté à Vincent', 'Date & heure', 'URL des images'],\n",
      "      dtype='object')\n",
      " -- dict fetched \n",
      "{'Alimentation': 'Quotidien', 'Shopping': 'Achats', 'Logement': 'Achats', 'Loyer & charges': 'Quotidien', 'Divertissement': 'Extra', 'Sport': 'Loisir', 'Restaurant & bar': 'Extra', 'Investissement': 'Investissement', 'Transport': 'Quotidien', 'Week-end': 'Loisir', 'Soin de santé': 'Quotidien', 'Livres': 'Achats', 'Activités': 'Loisir', 'Boulangerie': 'Quotidien', 'Salaire': \"Rentrée d'argent\", 'Services': 'Quotidien', 'Alcool': 'Extra', 'Cadeau': 'Achats', 'Vacances': 'Loisir', 'Formation': 'Investissement'}\n",
      "\n",
      "    # --------------------------------- #\n",
      "    # Filter, clean and aggregate data  #\n",
      "    # --------------------------------- #\n",
      "    \n",
      " -- data built\n",
      "(281, 3)\n",
      "Index(['Lucie', 'Vincent', 'Total'], dtype='object')\n",
      "\n",
      "    # --------------------------------- #\n",
      "    # Format and split data             #\n",
      "    # by date and categories            #\n",
      "    # --------------------------------- #\n",
      "    \n",
      "\n",
      "    # --------------------------------- #\n",
      "    # Build the overview result         #\n",
      "    # --------------------------------- #\n",
      "    \n"
     ]
    }
   ],
   "source": [
    "\n",
    "data, dict = fetch_data()\n",
    "data = build_data(data)\n",
    "detail = split_data(data, dict)\n",
    "postes, result = concat_data(detail, dict)\n"
   ]
  },
  {
   "cell_type": "code",
   "execution_count": 83,
   "metadata": {},
   "outputs": [
    {
     "name": "stdout",
     "output_type": "stream",
     "text": [
      "The autoreload extension is already loaded. To reload it, use:\n",
      "  %reload_ext autoreload\n"
     ]
    }
   ],
   "source": [
    "%load_ext autoreload\n",
    "%autoreload 2\n",
    "from api_portfolio import build_data\n"
   ]
  },
  {
   "cell_type": "code",
   "execution_count": 84,
   "metadata": {},
   "outputs": [
    {
     "name": "stdout",
     "output_type": "stream",
     "text": [
      "\n",
      "    # ----------------------------------------------\n",
      "    # Get data, concate, merge and extract metrics\n",
      "    # for portfolio Dashboard \n",
      "    # ----------------------------------------------\n",
      "    \n",
      "              Market Currency     Forex IsDepot  PriceFmt AmountFmt  ValueFmt\n",
      "Asset                                                                        \n",
      "€           EUREUR=X        €  EUREUR=X    TRUE  {:.0f} €    {:.0f}  {:.0f} €\n",
      "$              EUR=X        €  EUREUR=X    TRUE  {:.4f} €    {:.0f}  {:.0f} €\n",
      "USDT           EUR=X        €  EUREUR=X    TRUE  {:.4f} €    {:.0f}  {:.0f} €\n",
      "ESE           ESE.PA        €  EUREUR=X          {:.2f} €    {:.0f}  {:.2f} €\n",
      "PUST                        €  EUREUR=X          {:.2f} €    {:.0f}  {:.2f} €\n",
      "RS2K                        €  EUREUR=X          {:.2f} €    {:.0f}  {:.2f} €\n",
      "OBLI         OBLI.PA        €  EUREUR=X          {:.2f} €    {:.0f}  {:.0f} €\n",
      "GOLD         GOLD.PA        €  EUREUR=X          {:.2f} €    {:.0f}  {:.0f} €\n",
      "BTC          BTC-USD     USDT  EURUSD=X          {:.0f} $    {:.4f}  {:.0f} $\n",
      "ETH                      USDT  EURUSD=X          {:.0f} $    {:.3f}  {:.0f} $\n",
      "GREENBULL  GREENBULL        $  EURUSD=X          {:.0f} $    {:.3f}  {:.0f} $ \n",
      "\n",
      "[*********************100%***********************]  7 of 7 completed\n",
      "DMA\n",
      "\tdepot:  €\n",
      "ZEN\n",
      "\tdepot:  $\n",
      "\tasset:  BTC\n",
      "\tasset:  ESE\n",
      "\tasset:  GOLD\n",
      "\tasset:  GREENBULL\n",
      "\tasset:  OBLI\n",
      "\tdepot:  USDT\n",
      "\tdepot:  €\n"
     ]
    }
   ],
   "source": [
    "data = build_data()\n",
    "s = data.iloc[-1]"
   ]
  },
  {
   "cell_type": "code",
   "execution_count": 85,
   "metadata": {},
   "outputs": [
    {
     "data": {
      "text/plain": [
       "Index(['Amount', 'Deposit', 'DepositEUR', 'Cotation', 'IsDepot', 'Currency',\n",
       "       'PriceFmt', 'AmountFmt', 'ValueFmt'],\n",
       "      dtype='object')"
      ]
     },
     "execution_count": 85,
     "metadata": {},
     "output_type": "execute_result"
    }
   ],
   "source": [
    "# s['PnL', 'ZEN', '$']\n",
    "s[:, 'ZEN', '$'].index\n"
   ]
  },
  {
   "cell_type": "code",
   "execution_count": 79,
   "metadata": {},
   "outputs": [
    {
     "ename": "KeyError",
     "evalue": "('PnL', 'ZEN', '$')",
     "output_type": "error",
     "traceback": [
      "\u001b[0;31m---------------------------------------------------------------------------\u001b[0m",
      "\u001b[0;31mKeyError\u001b[0m                                  Traceback (most recent call last)",
      "File \u001b[0;32m~/Documents/dev/dashboards/.env/lib/python3.10/site-packages/pandas/core/series.py:964\u001b[0m, in \u001b[0;36mSeries.__getitem__\u001b[0;34m(self, key)\u001b[0m\n\u001b[1;32m    962\u001b[0m \u001b[39mtry\u001b[39;00m:\n\u001b[1;32m    963\u001b[0m     \u001b[39m# For labels that don't resolve as scalars like tuples and frozensets\u001b[39;00m\n\u001b[0;32m--> 964\u001b[0m     result \u001b[39m=\u001b[39m \u001b[39mself\u001b[39;49m\u001b[39m.\u001b[39;49m_get_value(key)\n\u001b[1;32m    966\u001b[0m     \u001b[39mreturn\u001b[39;00m result\n",
      "File \u001b[0;32m~/Documents/dev/dashboards/.env/lib/python3.10/site-packages/pandas/core/series.py:1069\u001b[0m, in \u001b[0;36mSeries._get_value\u001b[0;34m(self, label, takeable)\u001b[0m\n\u001b[1;32m   1068\u001b[0m \u001b[39m# Similar to Index.get_value, but we do not fall back to positional\u001b[39;00m\n\u001b[0;32m-> 1069\u001b[0m loc \u001b[39m=\u001b[39m \u001b[39mself\u001b[39;49m\u001b[39m.\u001b[39;49mindex\u001b[39m.\u001b[39;49mget_loc(label)\n\u001b[1;32m   1070\u001b[0m \u001b[39mreturn\u001b[39;00m \u001b[39mself\u001b[39m\u001b[39m.\u001b[39mindex\u001b[39m.\u001b[39m_get_values_for_loc(\u001b[39mself\u001b[39m, loc, label)\n",
      "File \u001b[0;32m~/Documents/dev/dashboards/.env/lib/python3.10/site-packages/pandas/core/indexes/multi.py:2880\u001b[0m, in \u001b[0;36mMultiIndex.get_loc\u001b[0;34m(self, key, method)\u001b[0m\n\u001b[1;32m   2879\u001b[0m \u001b[39mtry\u001b[39;00m:\n\u001b[0;32m-> 2880\u001b[0m     \u001b[39mreturn\u001b[39;00m \u001b[39mself\u001b[39;49m\u001b[39m.\u001b[39;49m_engine\u001b[39m.\u001b[39;49mget_loc(key)\n\u001b[1;32m   2881\u001b[0m \u001b[39mexcept\u001b[39;00m \u001b[39mTypeError\u001b[39;00m:\n\u001b[1;32m   2882\u001b[0m     \u001b[39m# e.g. test_partial_slicing_with_multiindex partial string slicing\u001b[39;00m\n",
      "File \u001b[0;32m~/Documents/dev/dashboards/.env/lib/python3.10/site-packages/pandas/_libs/index.pyx:779\u001b[0m, in \u001b[0;36mpandas._libs.index.BaseMultiIndexCodesEngine.get_loc\u001b[0;34m()\u001b[0m\n",
      "File \u001b[0;32m~/Documents/dev/dashboards/.env/lib/python3.10/site-packages/pandas/_libs/index.pyx:136\u001b[0m, in \u001b[0;36mpandas._libs.index.IndexEngine.get_loc\u001b[0;34m()\u001b[0m\n",
      "File \u001b[0;32m~/Documents/dev/dashboards/.env/lib/python3.10/site-packages/pandas/_libs/index.pyx:163\u001b[0m, in \u001b[0;36mpandas._libs.index.IndexEngine.get_loc\u001b[0;34m()\u001b[0m\n",
      "File \u001b[0;32mpandas/_libs/hashtable_class_helper.pxi:1832\u001b[0m, in \u001b[0;36mpandas._libs.hashtable.UInt64HashTable.get_item\u001b[0;34m()\u001b[0m\n",
      "File \u001b[0;32mpandas/_libs/hashtable_class_helper.pxi:1841\u001b[0m, in \u001b[0;36mpandas._libs.hashtable.UInt64HashTable.get_item\u001b[0;34m()\u001b[0m\n",
      "\u001b[0;31mKeyError\u001b[0m: 2945",
      "\nDuring handling of the above exception, another exception occurred:\n",
      "\u001b[0;31mKeyError\u001b[0m                                  Traceback (most recent call last)",
      "File \u001b[0;32m~/Documents/dev/dashboards/.env/lib/python3.10/site-packages/pandas/core/indexes/multi.py:3043\u001b[0m, in \u001b[0;36mMultiIndex._get_loc_level\u001b[0;34m(self, key, level)\u001b[0m\n\u001b[1;32m   3042\u001b[0m \u001b[39mtry\u001b[39;00m:\n\u001b[0;32m-> 3043\u001b[0m     \u001b[39mreturn\u001b[39;00m (\u001b[39mself\u001b[39;49m\u001b[39m.\u001b[39;49m_engine\u001b[39m.\u001b[39;49mget_loc(key), \u001b[39mNone\u001b[39;00m)\n\u001b[1;32m   3044\u001b[0m \u001b[39mexcept\u001b[39;00m \u001b[39mKeyError\u001b[39;00m \u001b[39mas\u001b[39;00m err:\n",
      "File \u001b[0;32m~/Documents/dev/dashboards/.env/lib/python3.10/site-packages/pandas/_libs/index.pyx:779\u001b[0m, in \u001b[0;36mpandas._libs.index.BaseMultiIndexCodesEngine.get_loc\u001b[0;34m()\u001b[0m\n",
      "File \u001b[0;32m~/Documents/dev/dashboards/.env/lib/python3.10/site-packages/pandas/_libs/index.pyx:136\u001b[0m, in \u001b[0;36mpandas._libs.index.IndexEngine.get_loc\u001b[0;34m()\u001b[0m\n",
      "File \u001b[0;32m~/Documents/dev/dashboards/.env/lib/python3.10/site-packages/pandas/_libs/index.pyx:163\u001b[0m, in \u001b[0;36mpandas._libs.index.IndexEngine.get_loc\u001b[0;34m()\u001b[0m\n",
      "File \u001b[0;32mpandas/_libs/hashtable_class_helper.pxi:1832\u001b[0m, in \u001b[0;36mpandas._libs.hashtable.UInt64HashTable.get_item\u001b[0;34m()\u001b[0m\n",
      "File \u001b[0;32mpandas/_libs/hashtable_class_helper.pxi:1841\u001b[0m, in \u001b[0;36mpandas._libs.hashtable.UInt64HashTable.get_item\u001b[0;34m()\u001b[0m\n",
      "\u001b[0;31mKeyError\u001b[0m: 2945",
      "\nThe above exception was the direct cause of the following exception:\n",
      "\u001b[0;31mKeyError\u001b[0m                                  Traceback (most recent call last)",
      "Cell \u001b[0;32mIn[79], line 16\u001b[0m\n\u001b[1;32m     10\u001b[0m     cell \u001b[39m=\u001b[39m pd\u001b[39m.\u001b[39mSeries(dtype\u001b[39m=\u001b[39m\u001b[39mfloat\u001b[39m)\n\u001b[1;32m     11\u001b[0m     \u001b[39m# cell['Cotation'] = s['Cotation', ptf, asset].map(str(s['PriceFmt', ptf, asset]).format)\u001b[39;00m\n\u001b[1;32m     12\u001b[0m     \u001b[39m# cell['PRU'] = s['PRU', ptf, asset].map(str(s['PriceFmt', ptf, asset]).format)\u001b[39;00m\n\u001b[1;32m     13\u001b[0m     \u001b[39m# cell['Amount'] = s['Amount', ptf, asset].map(str(s['AmountFmt', ptf, asset]).format)\u001b[39;00m\n\u001b[1;32m     14\u001b[0m     \u001b[39m# cell['Value'] = s['Value', ptf, asset].map(str(s['ValueFmt', ptf,  asset]).format)\u001b[39;00m\n\u001b[1;32m     15\u001b[0m     \u001b[39m# cell['Invested'] = s['Invested', ptf, asset].map(str(s['ValueFmt', ptf,  asset]).format)\u001b[39;00m\n\u001b[0;32m---> 16\u001b[0m     cell[\u001b[39m'\u001b[39m\u001b[39mPnL\u001b[39m\u001b[39m'\u001b[39m] \u001b[39m=\u001b[39m \u001b[39mstr\u001b[39m(s[\u001b[39m'\u001b[39m\u001b[39mValueFmt\u001b[39m\u001b[39m'\u001b[39m, ptf,  asset])\u001b[39m.\u001b[39mformat(s[\u001b[39m'\u001b[39;49m\u001b[39mPnL\u001b[39;49m\u001b[39m'\u001b[39;49m, ptf, asset])\n\u001b[1;32m     17\u001b[0m     rows[asset] \u001b[39m=\u001b[39m cell\n\u001b[1;32m     18\u001b[0m df \u001b[39m=\u001b[39m pd\u001b[39m.\u001b[39mconcat(rows, axis\u001b[39m=\u001b[39m\u001b[39m1\u001b[39m)\u001b[39m.\u001b[39mtranspose()\n",
      "File \u001b[0;32m~/Documents/dev/dashboards/.env/lib/python3.10/site-packages/pandas/core/series.py:974\u001b[0m, in \u001b[0;36mSeries.__getitem__\u001b[0;34m(self, key)\u001b[0m\n\u001b[1;32m    968\u001b[0m     \u001b[39mexcept\u001b[39;00m (\u001b[39mKeyError\u001b[39;00m, \u001b[39mTypeError\u001b[39;00m, InvalidIndexError):\n\u001b[1;32m    969\u001b[0m         \u001b[39m# InvalidIndexError for e.g. generator\u001b[39;00m\n\u001b[1;32m    970\u001b[0m         \u001b[39m#  see test_series_getitem_corner_generator\u001b[39;00m\n\u001b[1;32m    971\u001b[0m         \u001b[39mif\u001b[39;00m \u001b[39misinstance\u001b[39m(key, \u001b[39mtuple\u001b[39m) \u001b[39mand\u001b[39;00m \u001b[39misinstance\u001b[39m(\u001b[39mself\u001b[39m\u001b[39m.\u001b[39mindex, MultiIndex):\n\u001b[1;32m    972\u001b[0m             \u001b[39m# We still have the corner case where a tuple is a key\u001b[39;00m\n\u001b[1;32m    973\u001b[0m             \u001b[39m# in the first level of our MultiIndex\u001b[39;00m\n\u001b[0;32m--> 974\u001b[0m             \u001b[39mreturn\u001b[39;00m \u001b[39mself\u001b[39;49m\u001b[39m.\u001b[39;49m_get_values_tuple(key)\n\u001b[1;32m    976\u001b[0m \u001b[39mif\u001b[39;00m is_iterator(key):\n\u001b[1;32m    977\u001b[0m     key \u001b[39m=\u001b[39m \u001b[39mlist\u001b[39m(key)\n",
      "File \u001b[0;32m~/Documents/dev/dashboards/.env/lib/python3.10/site-packages/pandas/core/series.py:1037\u001b[0m, in \u001b[0;36mSeries._get_values_tuple\u001b[0;34m(self, key)\u001b[0m\n\u001b[1;32m   1034\u001b[0m     \u001b[39mraise\u001b[39;00m \u001b[39mKeyError\u001b[39;00m(\u001b[39m\"\u001b[39m\u001b[39mkey of type tuple not found and not a MultiIndex\u001b[39m\u001b[39m\"\u001b[39m)\n\u001b[1;32m   1036\u001b[0m \u001b[39m# If key is contained, would have returned by now\u001b[39;00m\n\u001b[0;32m-> 1037\u001b[0m indexer, new_index \u001b[39m=\u001b[39m \u001b[39mself\u001b[39;49m\u001b[39m.\u001b[39;49mindex\u001b[39m.\u001b[39;49mget_loc_level(key)\n\u001b[1;32m   1038\u001b[0m \u001b[39mreturn\u001b[39;00m \u001b[39mself\u001b[39m\u001b[39m.\u001b[39m_constructor(\u001b[39mself\u001b[39m\u001b[39m.\u001b[39m_values[indexer], index\u001b[39m=\u001b[39mnew_index)\u001b[39m.\u001b[39m__finalize__(\n\u001b[1;32m   1039\u001b[0m     \u001b[39mself\u001b[39m\n\u001b[1;32m   1040\u001b[0m )\n",
      "File \u001b[0;32m~/Documents/dev/dashboards/.env/lib/python3.10/site-packages/pandas/core/indexes/multi.py:2972\u001b[0m, in \u001b[0;36mMultiIndex.get_loc_level\u001b[0;34m(self, key, level, drop_level)\u001b[0m\n\u001b[1;32m   2969\u001b[0m \u001b[39melse\u001b[39;00m:\n\u001b[1;32m   2970\u001b[0m     level \u001b[39m=\u001b[39m [\u001b[39mself\u001b[39m\u001b[39m.\u001b[39m_get_level_number(lev) \u001b[39mfor\u001b[39;00m lev \u001b[39min\u001b[39;00m level]\n\u001b[0;32m-> 2972\u001b[0m loc, mi \u001b[39m=\u001b[39m \u001b[39mself\u001b[39;49m\u001b[39m.\u001b[39;49m_get_loc_level(key, level\u001b[39m=\u001b[39;49mlevel)\n\u001b[1;32m   2973\u001b[0m \u001b[39mif\u001b[39;00m \u001b[39mnot\u001b[39;00m drop_level:\n\u001b[1;32m   2974\u001b[0m     \u001b[39mif\u001b[39;00m lib\u001b[39m.\u001b[39mis_integer(loc):\n",
      "File \u001b[0;32m~/Documents/dev/dashboards/.env/lib/python3.10/site-packages/pandas/core/indexes/multi.py:3045\u001b[0m, in \u001b[0;36mMultiIndex._get_loc_level\u001b[0;34m(self, key, level)\u001b[0m\n\u001b[1;32m   3043\u001b[0m     \u001b[39mreturn\u001b[39;00m (\u001b[39mself\u001b[39m\u001b[39m.\u001b[39m_engine\u001b[39m.\u001b[39mget_loc(key), \u001b[39mNone\u001b[39;00m)\n\u001b[1;32m   3044\u001b[0m \u001b[39mexcept\u001b[39;00m \u001b[39mKeyError\u001b[39;00m \u001b[39mas\u001b[39;00m err:\n\u001b[0;32m-> 3045\u001b[0m     \u001b[39mraise\u001b[39;00m \u001b[39mKeyError\u001b[39;00m(key) \u001b[39mfrom\u001b[39;00m \u001b[39merr\u001b[39;00m\n\u001b[1;32m   3046\u001b[0m \u001b[39mexcept\u001b[39;00m \u001b[39mTypeError\u001b[39;00m:\n\u001b[1;32m   3047\u001b[0m     \u001b[39m# e.g. partial string indexing\u001b[39;00m\n\u001b[1;32m   3048\u001b[0m     \u001b[39m#  test_partial_string_timestamp_multiindex\u001b[39;00m\n\u001b[1;32m   3049\u001b[0m     \u001b[39mpass\u001b[39;00m\n",
      "\u001b[0;31mKeyError\u001b[0m: ('PnL', 'ZEN', '$')"
     ]
    }
   ],
   "source": [
    "import pandas as pd\n",
    "ptf = 'ZEN'\n",
    "\n",
    "# cols = ['Cotation', 'PRU', 'Amount', 'Value', 'Invested', 'PnL']\n",
    "\n",
    "# s = s[cols]\n",
    "rows = {}\n",
    "for asset in s['Cotation', ptf, :].index:\n",
    "    cell = pd.Series(dtype=float)\n",
    "    cell['Cotation'] = s['Cotation', ptf, asset].map(str(s['PriceFmt', ptf, asset]).format)\n",
    "    cell['PRU'] = s['PRU', ptf, asset].map(str(s['PriceFmt', ptf, asset]).format)\n",
    "    cell['Amount'] = s['Amount', ptf, asset].map(str(s['AmountFmt', ptf, asset]).format)\n",
    "    cell['Value'] = s['Value', ptf, asset].map(str(s['ValueFmt', ptf,  asset]).format)\n",
    "    cell['Invested'] = s['Invested', ptf, asset].map(str(s['ValueFmt', ptf,  asset]).format)\n",
    "    cell['PnL'] = str(s['ValueFmt', ptf,  asset]).format(s['PnL', ptf, asset])\n",
    "    rows[asset] = cell\n",
    "df = pd.concat(rows, axis=1).transpose()"
   ]
  }
 ],
 "metadata": {
  "kernelspec": {
   "display_name": ".env",
   "language": "python",
   "name": "python3"
  },
  "language_info": {
   "codemirror_mode": {
    "name": "ipython",
    "version": 3
   },
   "file_extension": ".py",
   "mimetype": "text/x-python",
   "name": "python",
   "nbconvert_exporter": "python",
   "pygments_lexer": "ipython3",
   "version": "3.10.9"
  },
  "orig_nbformat": 4,
  "vscode": {
   "interpreter": {
    "hash": "e0e94819156be55a28bfd803e01ad2b3b7815826841d5d8114b63fb17f9e909b"
   }
  }
 },
 "nbformat": 4,
 "nbformat_minor": 2
}
